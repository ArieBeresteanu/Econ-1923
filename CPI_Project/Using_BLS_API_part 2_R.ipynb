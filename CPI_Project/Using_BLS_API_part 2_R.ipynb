{
 "cells": [
  {
   "cell_type": "markdown",
   "id": "24128a0d",
   "metadata": {},
   "source": [
    "# Accessing BLS API\n",
    "\n",
    "**Part 2**\n",
    "\n",
    "In this notebook we will learn\n",
    "1. How to write a simple function that computes the inflation\n",
    "2. How to retrieve several serises from the API\n",
    "\n",
    "The following new R commands (functions) will be used:\n",
    "1. ```round()```\n",
    "2. ```append()```\n",
    "3. ```rev()```\n",
    "4. ```as.numeric()```\n",
    "5. ```as.character()```\n",
    "6. ```data.frame()```\n",
    "7. ```factor()```\n",
    "8. ```rawToChar()```"
   ]
  },
  {
   "cell_type": "code",
   "execution_count": 1,
   "id": "32526b13",
   "metadata": {},
   "outputs": [],
   "source": [
    "library(httr)\n",
    "library(jsonlite)"
   ]
  },
  {
   "cell_type": "markdown",
   "id": "adbb1229",
   "metadata": {},
   "source": [
    "## Inflation\n",
    "\n",
    "We define _Inflation_ to be the change in the price level of the basket of products consumed by all urban consumers computed over a period of 12 months.\n",
    "\n",
    "In other words it's the change in CUUR000SA0 in percent for a 12 months period."
   ]
  },
  {
   "cell_type": "code",
   "execution_count": 2,
   "id": "4106f11b",
   "metadata": {},
   "outputs": [],
   "source": [
    "base_url = 'https://api.bls.gov/publicAPI/v2/timeseries/data/'\n",
    "\n",
    "series = 'CUUR0000SA0'\n",
    "\n",
    "url = paste0(base_url,series)\n",
    "\n",
    "r = fromJSON(rawToChar(GET(url)$content))"
   ]
  },
  {
   "cell_type": "code",
   "execution_count": 3,
   "id": "dee6a61a",
   "metadata": {},
   "outputs": [
    {
     "data": {
      "text/html": [
       "<dl>\n",
       "\t<dt>$status</dt>\n",
       "\t\t<dd>'REQUEST_SUCCEEDED'</dd>\n",
       "\t<dt>$responseTime</dt>\n",
       "\t\t<dd>194</dd>\n",
       "\t<dt>$message</dt>\n",
       "\t\t<dd><ol>\n",
       "</ol>\n",
       "</dd>\n",
       "\t<dt>$Results</dt>\n",
       "\t\t<dd><strong>$series</strong> = <table class=\"dataframe\">\n",
       "<caption>A data.frame: 1 × 2</caption>\n",
       "<thead>\n",
       "\t<tr><th></th><th scope=col>seriesID</th><th scope=col>data</th></tr>\n",
       "\t<tr><th></th><th scope=col>&lt;chr&gt;</th><th scope=col>&lt;list&gt;</th></tr>\n",
       "</thead>\n",
       "<tbody>\n",
       "\t<tr><th scope=row>1</th><td>CUUR0000SA0</td><td>2022     , 2021     , 2021     , 2021     , 2021     , 2021     , 2021     , 2021     , 2021     , 2021     , 2021     , 2021     , 2021     , 2020     , 2020     , 2020     , 2020     , 2020     , 2020     , 2020     , 2020     , 2020     , 2020     , 2020     , 2020     , M01      , M12      , M11      , M10      , M09      , M08      , M07      , M06      , M05      , M04      , M03      , M02      , M01      , M12      , M11      , M10      , M09      , M08      , M07      , M06      , M05      , M04      , M03      , M02      , M01      , January  , December , November , October  , September, August   , July     , June     , May      , April    , March    , February , January  , December , November , October  , September, August   , July     , June     , May      , April    , March    , February , January  , true     , NA       , NA       , NA       , NA       , NA       , NA       , NA       , NA       , NA       , NA       , NA       , NA       , NA       , NA       , NA       , NA       , NA       , NA       , NA       , NA       , NA       , NA       , NA       , NA       , 281.148  , 278.802  , 277.948  , 276.589  , 274.310  , 273.567  , 273.003  , 271.696  , 269.195  , 267.054  , 264.877  , 263.014  , 261.582  , 260.474  , 260.229  , 260.388  , 260.280  , 259.918  , 259.101  , 257.797  , 256.394  , 256.389  , 258.115  , 258.678  , 257.971  </td></tr>\n",
       "</tbody>\n",
       "</table>\n",
       "</dd>\n",
       "</dl>\n"
      ],
      "text/latex": [
       "\\begin{description}\n",
       "\\item[\\$status] 'REQUEST\\_SUCCEEDED'\n",
       "\\item[\\$responseTime] 194\n",
       "\\item[\\$message] \\begin{enumerate}\n",
       "\\end{enumerate}\n",
       "\n",
       "\\item[\\$Results] \\textbf{\\$series} = A data.frame: 1 × 2\n",
       "\\begin{tabular}{r|ll}\n",
       "  & seriesID & data\\\\\n",
       "  & <chr> & <list>\\\\\n",
       "\\hline\n",
       "\t1 & CUUR0000SA0 & 2022     , 2021     , 2021     , 2021     , 2021     , 2021     , 2021     , 2021     , 2021     , 2021     , 2021     , 2021     , 2021     , 2020     , 2020     , 2020     , 2020     , 2020     , 2020     , 2020     , 2020     , 2020     , 2020     , 2020     , 2020     , M01      , M12      , M11      , M10      , M09      , M08      , M07      , M06      , M05      , M04      , M03      , M02      , M01      , M12      , M11      , M10      , M09      , M08      , M07      , M06      , M05      , M04      , M03      , M02      , M01      , January  , December , November , October  , September, August   , July     , June     , May      , April    , March    , February , January  , December , November , October  , September, August   , July     , June     , May      , April    , March    , February , January  , true     , NA       , NA       , NA       , NA       , NA       , NA       , NA       , NA       , NA       , NA       , NA       , NA       , NA       , NA       , NA       , NA       , NA       , NA       , NA       , NA       , NA       , NA       , NA       , NA       , 281.148  , 278.802  , 277.948  , 276.589  , 274.310  , 273.567  , 273.003  , 271.696  , 269.195  , 267.054  , 264.877  , 263.014  , 261.582  , 260.474  , 260.229  , 260.388  , 260.280  , 259.918  , 259.101  , 257.797  , 256.394  , 256.389  , 258.115  , 258.678  , 257.971  \\\\\n",
       "\\end{tabular}\n",
       "\n",
       "\\end{description}\n"
      ],
      "text/markdown": [
       "$status\n",
       ":   'REQUEST_SUCCEEDED'\n",
       "$responseTime\n",
       ":   194\n",
       "$message\n",
       ":   \n",
       "\n",
       "\n",
       "$Results\n",
       ":   **$series** = \n",
       "A data.frame: 1 × 2\n",
       "\n",
       "| <!--/--> | seriesID &lt;chr&gt; | data &lt;list&gt; |\n",
       "|---|---|---|\n",
       "| 1 | CUUR0000SA0 | 2022     , 2021     , 2021     , 2021     , 2021     , 2021     , 2021     , 2021     , 2021     , 2021     , 2021     , 2021     , 2021     , 2020     , 2020     , 2020     , 2020     , 2020     , 2020     , 2020     , 2020     , 2020     , 2020     , 2020     , 2020     , M01      , M12      , M11      , M10      , M09      , M08      , M07      , M06      , M05      , M04      , M03      , M02      , M01      , M12      , M11      , M10      , M09      , M08      , M07      , M06      , M05      , M04      , M03      , M02      , M01      , January  , December , November , October  , September, August   , July     , June     , May      , April    , March    , February , January  , December , November , October  , September, August   , July     , June     , May      , April    , March    , February , January  , true     , NA       , NA       , NA       , NA       , NA       , NA       , NA       , NA       , NA       , NA       , NA       , NA       , NA       , NA       , NA       , NA       , NA       , NA       , NA       , NA       , NA       , NA       , NA       , NA       , 281.148  , 278.802  , 277.948  , 276.589  , 274.310  , 273.567  , 273.003  , 271.696  , 269.195  , 267.054  , 264.877  , 263.014  , 261.582  , 260.474  , 260.229  , 260.388  , 260.280  , 259.918  , 259.101  , 257.797  , 256.394  , 256.389  , 258.115  , 258.678  , 257.971   |\n",
       "\n",
       "\n",
       "\n",
       "\n"
      ],
      "text/plain": [
       "$status\n",
       "[1] \"REQUEST_SUCCEEDED\"\n",
       "\n",
       "$responseTime\n",
       "[1] 194\n",
       "\n",
       "$message\n",
       "list()\n",
       "\n",
       "$Results\n",
       "$Results$series\n",
       "     seriesID\n",
       "1 CUUR0000SA0\n",
       "                                                                                                                                                                                                                                                                                                                                                                                                                                                                                                                                                                                                                                                                                                                                                                                                                                   data\n",
       "1 2022, 2021, 2021, 2021, 2021, 2021, 2021, 2021, 2021, 2021, 2021, 2021, 2021, 2020, 2020, 2020, 2020, 2020, 2020, 2020, 2020, 2020, 2020, 2020, 2020, M01, M12, M11, M10, M09, M08, M07, M06, M05, M04, M03, M02, M01, M12, M11, M10, M09, M08, M07, M06, M05, M04, M03, M02, M01, January, December, November, October, September, August, July, June, May, April, March, February, January, December, November, October, September, August, July, June, May, April, March, February, January, true, NA, NA, NA, NA, NA, NA, NA, NA, NA, NA, NA, NA, NA, NA, NA, NA, NA, NA, NA, NA, NA, NA, NA, NA, 281.148, 278.802, 277.948, 276.589, 274.310, 273.567, 273.003, 271.696, 269.195, 267.054, 264.877, 263.014, 261.582, 260.474, 260.229, 260.388, 260.280, 259.918, 259.101, 257.797, 256.394, 256.389, 258.115, 258.678, 257.971\n",
       "\n"
      ]
     },
     "metadata": {},
     "output_type": "display_data"
    }
   ],
   "source": [
    "r"
   ]
  },
  {
   "cell_type": "markdown",
   "id": "cd4bceae",
   "metadata": {},
   "source": [
    "We want to dig out a specific value from r. First, let's see what type of variable is r:"
   ]
  },
  {
   "cell_type": "code",
   "execution_count": 4,
   "id": "adc32c72",
   "metadata": {},
   "outputs": [
    {
     "data": {
      "text/html": [
       "'list'"
      ],
      "text/latex": [
       "'list'"
      ],
      "text/markdown": [
       "'list'"
      ],
      "text/plain": [
       "[1] \"list\""
      ]
     },
     "metadata": {},
     "output_type": "display_data"
    }
   ],
   "source": [
    "typeof(r)"
   ]
  },
  {
   "cell_type": "markdown",
   "id": "83a79a46",
   "metadata": {},
   "source": [
    "Take the relevant key/value from the dictionary:"
   ]
  },
  {
   "cell_type": "code",
   "execution_count": 5,
   "id": "57fe99fb",
   "metadata": {},
   "outputs": [
    {
     "data": {
      "text/html": [
       "<strong>$series</strong> = <table class=\"dataframe\">\n",
       "<caption>A data.frame: 1 × 2</caption>\n",
       "<thead>\n",
       "\t<tr><th></th><th scope=col>seriesID</th><th scope=col>data</th></tr>\n",
       "\t<tr><th></th><th scope=col>&lt;chr&gt;</th><th scope=col>&lt;list&gt;</th></tr>\n",
       "</thead>\n",
       "<tbody>\n",
       "\t<tr><th scope=row>1</th><td>CUUR0000SA0</td><td>2022     , 2021     , 2021     , 2021     , 2021     , 2021     , 2021     , 2021     , 2021     , 2021     , 2021     , 2021     , 2021     , 2020     , 2020     , 2020     , 2020     , 2020     , 2020     , 2020     , 2020     , 2020     , 2020     , 2020     , 2020     , M01      , M12      , M11      , M10      , M09      , M08      , M07      , M06      , M05      , M04      , M03      , M02      , M01      , M12      , M11      , M10      , M09      , M08      , M07      , M06      , M05      , M04      , M03      , M02      , M01      , January  , December , November , October  , September, August   , July     , June     , May      , April    , March    , February , January  , December , November , October  , September, August   , July     , June     , May      , April    , March    , February , January  , true     , NA       , NA       , NA       , NA       , NA       , NA       , NA       , NA       , NA       , NA       , NA       , NA       , NA       , NA       , NA       , NA       , NA       , NA       , NA       , NA       , NA       , NA       , NA       , NA       , 281.148  , 278.802  , 277.948  , 276.589  , 274.310  , 273.567  , 273.003  , 271.696  , 269.195  , 267.054  , 264.877  , 263.014  , 261.582  , 260.474  , 260.229  , 260.388  , 260.280  , 259.918  , 259.101  , 257.797  , 256.394  , 256.389  , 258.115  , 258.678  , 257.971  </td></tr>\n",
       "</tbody>\n",
       "</table>\n"
      ],
      "text/latex": [
       "\\textbf{\\$series} = A data.frame: 1 × 2\n",
       "\\begin{tabular}{r|ll}\n",
       "  & seriesID & data\\\\\n",
       "  & <chr> & <list>\\\\\n",
       "\\hline\n",
       "\t1 & CUUR0000SA0 & 2022     , 2021     , 2021     , 2021     , 2021     , 2021     , 2021     , 2021     , 2021     , 2021     , 2021     , 2021     , 2021     , 2020     , 2020     , 2020     , 2020     , 2020     , 2020     , 2020     , 2020     , 2020     , 2020     , 2020     , 2020     , M01      , M12      , M11      , M10      , M09      , M08      , M07      , M06      , M05      , M04      , M03      , M02      , M01      , M12      , M11      , M10      , M09      , M08      , M07      , M06      , M05      , M04      , M03      , M02      , M01      , January  , December , November , October  , September, August   , July     , June     , May      , April    , March    , February , January  , December , November , October  , September, August   , July     , June     , May      , April    , March    , February , January  , true     , NA       , NA       , NA       , NA       , NA       , NA       , NA       , NA       , NA       , NA       , NA       , NA       , NA       , NA       , NA       , NA       , NA       , NA       , NA       , NA       , NA       , NA       , NA       , NA       , 281.148  , 278.802  , 277.948  , 276.589  , 274.310  , 273.567  , 273.003  , 271.696  , 269.195  , 267.054  , 264.877  , 263.014  , 261.582  , 260.474  , 260.229  , 260.388  , 260.280  , 259.918  , 259.101  , 257.797  , 256.394  , 256.389  , 258.115  , 258.678  , 257.971  \\\\\n",
       "\\end{tabular}\n"
      ],
      "text/markdown": [
       "**$series** = \n",
       "A data.frame: 1 × 2\n",
       "\n",
       "| <!--/--> | seriesID &lt;chr&gt; | data &lt;list&gt; |\n",
       "|---|---|---|\n",
       "| 1 | CUUR0000SA0 | 2022     , 2021     , 2021     , 2021     , 2021     , 2021     , 2021     , 2021     , 2021     , 2021     , 2021     , 2021     , 2021     , 2020     , 2020     , 2020     , 2020     , 2020     , 2020     , 2020     , 2020     , 2020     , 2020     , 2020     , 2020     , M01      , M12      , M11      , M10      , M09      , M08      , M07      , M06      , M05      , M04      , M03      , M02      , M01      , M12      , M11      , M10      , M09      , M08      , M07      , M06      , M05      , M04      , M03      , M02      , M01      , January  , December , November , October  , September, August   , July     , June     , May      , April    , March    , February , January  , December , November , October  , September, August   , July     , June     , May      , April    , March    , February , January  , true     , NA       , NA       , NA       , NA       , NA       , NA       , NA       , NA       , NA       , NA       , NA       , NA       , NA       , NA       , NA       , NA       , NA       , NA       , NA       , NA       , NA       , NA       , NA       , NA       , 281.148  , 278.802  , 277.948  , 276.589  , 274.310  , 273.567  , 273.003  , 271.696  , 269.195  , 267.054  , 264.877  , 263.014  , 261.582  , 260.474  , 260.229  , 260.388  , 260.280  , 259.918  , 259.101  , 257.797  , 256.394  , 256.389  , 258.115  , 258.678  , 257.971   |\n",
       "\n"
      ],
      "text/plain": [
       "$series\n",
       "     seriesID\n",
       "1 CUUR0000SA0\n",
       "                                                                                                                                                                                                                                                                                                                                                                                                                                                                                                                                                                                                                                                                                                                                                                                                                                   data\n",
       "1 2022, 2021, 2021, 2021, 2021, 2021, 2021, 2021, 2021, 2021, 2021, 2021, 2021, 2020, 2020, 2020, 2020, 2020, 2020, 2020, 2020, 2020, 2020, 2020, 2020, M01, M12, M11, M10, M09, M08, M07, M06, M05, M04, M03, M02, M01, M12, M11, M10, M09, M08, M07, M06, M05, M04, M03, M02, M01, January, December, November, October, September, August, July, June, May, April, March, February, January, December, November, October, September, August, July, June, May, April, March, February, January, true, NA, NA, NA, NA, NA, NA, NA, NA, NA, NA, NA, NA, NA, NA, NA, NA, NA, NA, NA, NA, NA, NA, NA, NA, 281.148, 278.802, 277.948, 276.589, 274.310, 273.567, 273.003, 271.696, 269.195, 267.054, 264.877, 263.014, 261.582, 260.474, 260.229, 260.388, 260.280, 259.918, 259.101, 257.797, 256.394, 256.389, 258.115, 258.678, 257.971\n"
      ]
     },
     "metadata": {},
     "output_type": "display_data"
    }
   ],
   "source": [
    "r$Results"
   ]
  },
  {
   "cell_type": "code",
   "execution_count": 6,
   "id": "b1dd507f",
   "metadata": {},
   "outputs": [
    {
     "data": {
      "text/html": [
       "'list'"
      ],
      "text/latex": [
       "'list'"
      ],
      "text/markdown": [
       "'list'"
      ],
      "text/plain": [
       "[1] \"list\""
      ]
     },
     "metadata": {},
     "output_type": "display_data"
    }
   ],
   "source": [
    "typeof(r$Results)"
   ]
  },
  {
   "cell_type": "code",
   "execution_count": 7,
   "id": "6fe55c72",
   "metadata": {},
   "outputs": [
    {
     "data": {
      "text/html": [
       "'series'"
      ],
      "text/latex": [
       "'series'"
      ],
      "text/markdown": [
       "'series'"
      ],
      "text/plain": [
       "[1] \"series\""
      ]
     },
     "metadata": {},
     "output_type": "display_data"
    }
   ],
   "source": [
    "names(r$Results)"
   ]
  },
  {
   "cell_type": "markdown",
   "id": "5d1742a5",
   "metadata": {},
   "source": [
    "Just one key! "
   ]
  },
  {
   "cell_type": "code",
   "execution_count": 8,
   "id": "38004c0f",
   "metadata": {},
   "outputs": [
    {
     "data": {
      "text/html": [
       "<table class=\"dataframe\">\n",
       "<caption>A data.frame: 1 × 2</caption>\n",
       "<thead>\n",
       "\t<tr><th></th><th scope=col>seriesID</th><th scope=col>data</th></tr>\n",
       "\t<tr><th></th><th scope=col>&lt;chr&gt;</th><th scope=col>&lt;list&gt;</th></tr>\n",
       "</thead>\n",
       "<tbody>\n",
       "\t<tr><th scope=row>1</th><td>CUUR0000SA0</td><td>2022     , 2021     , 2021     , 2021     , 2021     , 2021     , 2021     , 2021     , 2021     , 2021     , 2021     , 2021     , 2021     , 2020     , 2020     , 2020     , 2020     , 2020     , 2020     , 2020     , 2020     , 2020     , 2020     , 2020     , 2020     , M01      , M12      , M11      , M10      , M09      , M08      , M07      , M06      , M05      , M04      , M03      , M02      , M01      , M12      , M11      , M10      , M09      , M08      , M07      , M06      , M05      , M04      , M03      , M02      , M01      , January  , December , November , October  , September, August   , July     , June     , May      , April    , March    , February , January  , December , November , October  , September, August   , July     , June     , May      , April    , March    , February , January  , true     , NA       , NA       , NA       , NA       , NA       , NA       , NA       , NA       , NA       , NA       , NA       , NA       , NA       , NA       , NA       , NA       , NA       , NA       , NA       , NA       , NA       , NA       , NA       , NA       , 281.148  , 278.802  , 277.948  , 276.589  , 274.310  , 273.567  , 273.003  , 271.696  , 269.195  , 267.054  , 264.877  , 263.014  , 261.582  , 260.474  , 260.229  , 260.388  , 260.280  , 259.918  , 259.101  , 257.797  , 256.394  , 256.389  , 258.115  , 258.678  , 257.971  </td></tr>\n",
       "</tbody>\n",
       "</table>\n"
      ],
      "text/latex": [
       "A data.frame: 1 × 2\n",
       "\\begin{tabular}{r|ll}\n",
       "  & seriesID & data\\\\\n",
       "  & <chr> & <list>\\\\\n",
       "\\hline\n",
       "\t1 & CUUR0000SA0 & 2022     , 2021     , 2021     , 2021     , 2021     , 2021     , 2021     , 2021     , 2021     , 2021     , 2021     , 2021     , 2021     , 2020     , 2020     , 2020     , 2020     , 2020     , 2020     , 2020     , 2020     , 2020     , 2020     , 2020     , 2020     , M01      , M12      , M11      , M10      , M09      , M08      , M07      , M06      , M05      , M04      , M03      , M02      , M01      , M12      , M11      , M10      , M09      , M08      , M07      , M06      , M05      , M04      , M03      , M02      , M01      , January  , December , November , October  , September, August   , July     , June     , May      , April    , March    , February , January  , December , November , October  , September, August   , July     , June     , May      , April    , March    , February , January  , true     , NA       , NA       , NA       , NA       , NA       , NA       , NA       , NA       , NA       , NA       , NA       , NA       , NA       , NA       , NA       , NA       , NA       , NA       , NA       , NA       , NA       , NA       , NA       , NA       , 281.148  , 278.802  , 277.948  , 276.589  , 274.310  , 273.567  , 273.003  , 271.696  , 269.195  , 267.054  , 264.877  , 263.014  , 261.582  , 260.474  , 260.229  , 260.388  , 260.280  , 259.918  , 259.101  , 257.797  , 256.394  , 256.389  , 258.115  , 258.678  , 257.971  \\\\\n",
       "\\end{tabular}\n"
      ],
      "text/markdown": [
       "\n",
       "A data.frame: 1 × 2\n",
       "\n",
       "| <!--/--> | seriesID &lt;chr&gt; | data &lt;list&gt; |\n",
       "|---|---|---|\n",
       "| 1 | CUUR0000SA0 | 2022     , 2021     , 2021     , 2021     , 2021     , 2021     , 2021     , 2021     , 2021     , 2021     , 2021     , 2021     , 2021     , 2020     , 2020     , 2020     , 2020     , 2020     , 2020     , 2020     , 2020     , 2020     , 2020     , 2020     , 2020     , M01      , M12      , M11      , M10      , M09      , M08      , M07      , M06      , M05      , M04      , M03      , M02      , M01      , M12      , M11      , M10      , M09      , M08      , M07      , M06      , M05      , M04      , M03      , M02      , M01      , January  , December , November , October  , September, August   , July     , June     , May      , April    , March    , February , January  , December , November , October  , September, August   , July     , June     , May      , April    , March    , February , January  , true     , NA       , NA       , NA       , NA       , NA       , NA       , NA       , NA       , NA       , NA       , NA       , NA       , NA       , NA       , NA       , NA       , NA       , NA       , NA       , NA       , NA       , NA       , NA       , NA       , 281.148  , 278.802  , 277.948  , 276.589  , 274.310  , 273.567  , 273.003  , 271.696  , 269.195  , 267.054  , 264.877  , 263.014  , 261.582  , 260.474  , 260.229  , 260.388  , 260.280  , 259.918  , 259.101  , 257.797  , 256.394  , 256.389  , 258.115  , 258.678  , 257.971   |\n",
       "\n"
      ],
      "text/plain": [
       "  seriesID   \n",
       "1 CUUR0000SA0\n",
       "  data                                                                                                                                                                                                                                                                                                                                                                                                                                                                                                                                                                                                                                                                                                                                                                                                                                                                                                                                                                                                                                                                                                                                                                                                                                                                                                                                                                                                                         \n",
       "1 2022     , 2021     , 2021     , 2021     , 2021     , 2021     , 2021     , 2021     , 2021     , 2021     , 2021     , 2021     , 2021     , 2020     , 2020     , 2020     , 2020     , 2020     , 2020     , 2020     , 2020     , 2020     , 2020     , 2020     , 2020     , M01      , M12      , M11      , M10      , M09      , M08      , M07      , M06      , M05      , M04      , M03      , M02      , M01      , M12      , M11      , M10      , M09      , M08      , M07      , M06      , M05      , M04      , M03      , M02      , M01      , January  , December , November , October  , September, August   , July     , June     , May      , April    , March    , February , January  , December , November , October  , September, August   , July     , June     , May      , April    , March    , February , January  , true     , NA       , NA       , NA       , NA       , NA       , NA       , NA       , NA       , NA       , NA       , NA       , NA       , NA       , NA       , NA       , NA       , NA       , NA       , NA       , NA       , NA       , NA       , NA       , NA       , 281.148  , 278.802  , 277.948  , 276.589  , 274.310  , 273.567  , 273.003  , 271.696  , 269.195  , 267.054  , 264.877  , 263.014  , 261.582  , 260.474  , 260.229  , 260.388  , 260.280  , 259.918  , 259.101  , 257.797  , 256.394  , 256.389  , 258.115  , 258.678  , 257.971  "
      ]
     },
     "metadata": {},
     "output_type": "display_data"
    }
   ],
   "source": [
    "r$Results$series"
   ]
  },
  {
   "cell_type": "code",
   "execution_count": 9,
   "id": "8de4fb73",
   "metadata": {},
   "outputs": [
    {
     "data": {
      "text/html": [
       "'list'"
      ],
      "text/latex": [
       "'list'"
      ],
      "text/markdown": [
       "'list'"
      ],
      "text/plain": [
       "[1] \"list\""
      ]
     },
     "metadata": {},
     "output_type": "display_data"
    }
   ],
   "source": [
    "typeof(r$Results$series)"
   ]
  },
  {
   "cell_type": "code",
   "execution_count": 10,
   "id": "c5165687",
   "metadata": {},
   "outputs": [
    {
     "data": {
      "text/html": [
       "1"
      ],
      "text/latex": [
       "1"
      ],
      "text/markdown": [
       "1"
      ],
      "text/plain": [
       "[1] 1"
      ]
     },
     "metadata": {},
     "output_type": "display_data"
    }
   ],
   "source": [
    "nrow(r$Results$series)"
   ]
  },
  {
   "cell_type": "markdown",
   "id": "aa24f066",
   "metadata": {},
   "source": [
    "Just one element!"
   ]
  },
  {
   "cell_type": "code",
   "execution_count": 11,
   "id": "56492faf",
   "metadata": {},
   "outputs": [
    {
     "data": {
      "text/html": [
       "<table class=\"dataframe\">\n",
       "<caption>A data.frame: 1 × 2</caption>\n",
       "<thead>\n",
       "\t<tr><th></th><th scope=col>seriesID</th><th scope=col>data</th></tr>\n",
       "\t<tr><th></th><th scope=col>&lt;chr&gt;</th><th scope=col>&lt;list&gt;</th></tr>\n",
       "</thead>\n",
       "<tbody>\n",
       "\t<tr><th scope=row>1</th><td>CUUR0000SA0</td><td>2022     , 2021     , 2021     , 2021     , 2021     , 2021     , 2021     , 2021     , 2021     , 2021     , 2021     , 2021     , 2021     , 2020     , 2020     , 2020     , 2020     , 2020     , 2020     , 2020     , 2020     , 2020     , 2020     , 2020     , 2020     , M01      , M12      , M11      , M10      , M09      , M08      , M07      , M06      , M05      , M04      , M03      , M02      , M01      , M12      , M11      , M10      , M09      , M08      , M07      , M06      , M05      , M04      , M03      , M02      , M01      , January  , December , November , October  , September, August   , July     , June     , May      , April    , March    , February , January  , December , November , October  , September, August   , July     , June     , May      , April    , March    , February , January  , true     , NA       , NA       , NA       , NA       , NA       , NA       , NA       , NA       , NA       , NA       , NA       , NA       , NA       , NA       , NA       , NA       , NA       , NA       , NA       , NA       , NA       , NA       , NA       , NA       , 281.148  , 278.802  , 277.948  , 276.589  , 274.310  , 273.567  , 273.003  , 271.696  , 269.195  , 267.054  , 264.877  , 263.014  , 261.582  , 260.474  , 260.229  , 260.388  , 260.280  , 259.918  , 259.101  , 257.797  , 256.394  , 256.389  , 258.115  , 258.678  , 257.971  </td></tr>\n",
       "</tbody>\n",
       "</table>\n"
      ],
      "text/latex": [
       "A data.frame: 1 × 2\n",
       "\\begin{tabular}{r|ll}\n",
       "  & seriesID & data\\\\\n",
       "  & <chr> & <list>\\\\\n",
       "\\hline\n",
       "\t1 & CUUR0000SA0 & 2022     , 2021     , 2021     , 2021     , 2021     , 2021     , 2021     , 2021     , 2021     , 2021     , 2021     , 2021     , 2021     , 2020     , 2020     , 2020     , 2020     , 2020     , 2020     , 2020     , 2020     , 2020     , 2020     , 2020     , 2020     , M01      , M12      , M11      , M10      , M09      , M08      , M07      , M06      , M05      , M04      , M03      , M02      , M01      , M12      , M11      , M10      , M09      , M08      , M07      , M06      , M05      , M04      , M03      , M02      , M01      , January  , December , November , October  , September, August   , July     , June     , May      , April    , March    , February , January  , December , November , October  , September, August   , July     , June     , May      , April    , March    , February , January  , true     , NA       , NA       , NA       , NA       , NA       , NA       , NA       , NA       , NA       , NA       , NA       , NA       , NA       , NA       , NA       , NA       , NA       , NA       , NA       , NA       , NA       , NA       , NA       , NA       , 281.148  , 278.802  , 277.948  , 276.589  , 274.310  , 273.567  , 273.003  , 271.696  , 269.195  , 267.054  , 264.877  , 263.014  , 261.582  , 260.474  , 260.229  , 260.388  , 260.280  , 259.918  , 259.101  , 257.797  , 256.394  , 256.389  , 258.115  , 258.678  , 257.971  \\\\\n",
       "\\end{tabular}\n"
      ],
      "text/markdown": [
       "\n",
       "A data.frame: 1 × 2\n",
       "\n",
       "| <!--/--> | seriesID &lt;chr&gt; | data &lt;list&gt; |\n",
       "|---|---|---|\n",
       "| 1 | CUUR0000SA0 | 2022     , 2021     , 2021     , 2021     , 2021     , 2021     , 2021     , 2021     , 2021     , 2021     , 2021     , 2021     , 2021     , 2020     , 2020     , 2020     , 2020     , 2020     , 2020     , 2020     , 2020     , 2020     , 2020     , 2020     , 2020     , M01      , M12      , M11      , M10      , M09      , M08      , M07      , M06      , M05      , M04      , M03      , M02      , M01      , M12      , M11      , M10      , M09      , M08      , M07      , M06      , M05      , M04      , M03      , M02      , M01      , January  , December , November , October  , September, August   , July     , June     , May      , April    , March    , February , January  , December , November , October  , September, August   , July     , June     , May      , April    , March    , February , January  , true     , NA       , NA       , NA       , NA       , NA       , NA       , NA       , NA       , NA       , NA       , NA       , NA       , NA       , NA       , NA       , NA       , NA       , NA       , NA       , NA       , NA       , NA       , NA       , NA       , 281.148  , 278.802  , 277.948  , 276.589  , 274.310  , 273.567  , 273.003  , 271.696  , 269.195  , 267.054  , 264.877  , 263.014  , 261.582  , 260.474  , 260.229  , 260.388  , 260.280  , 259.918  , 259.101  , 257.797  , 256.394  , 256.389  , 258.115  , 258.678  , 257.971   |\n",
       "\n"
      ],
      "text/plain": [
       "  seriesID   \n",
       "1 CUUR0000SA0\n",
       "  data                                                                                                                                                                                                                                                                                                                                                                                                                                                                                                                                                                                                                                                                                                                                                                                                                                                                                                                                                                                                                                                                                                                                                                                                                                                                                                                                                                                                                         \n",
       "1 2022     , 2021     , 2021     , 2021     , 2021     , 2021     , 2021     , 2021     , 2021     , 2021     , 2021     , 2021     , 2021     , 2020     , 2020     , 2020     , 2020     , 2020     , 2020     , 2020     , 2020     , 2020     , 2020     , 2020     , 2020     , M01      , M12      , M11      , M10      , M09      , M08      , M07      , M06      , M05      , M04      , M03      , M02      , M01      , M12      , M11      , M10      , M09      , M08      , M07      , M06      , M05      , M04      , M03      , M02      , M01      , January  , December , November , October  , September, August   , July     , June     , May      , April    , March    , February , January  , December , November , October  , September, August   , July     , June     , May      , April    , March    , February , January  , true     , NA       , NA       , NA       , NA       , NA       , NA       , NA       , NA       , NA       , NA       , NA       , NA       , NA       , NA       , NA       , NA       , NA       , NA       , NA       , NA       , NA       , NA       , NA       , NA       , 281.148  , 278.802  , 277.948  , 276.589  , 274.310  , 273.567  , 273.003  , 271.696  , 269.195  , 267.054  , 264.877  , 263.014  , 261.582  , 260.474  , 260.229  , 260.388  , 260.280  , 259.918  , 259.101  , 257.797  , 256.394  , 256.389  , 258.115  , 258.678  , 257.971  "
      ]
     },
     "metadata": {},
     "output_type": "display_data"
    }
   ],
   "source": [
    "r$Results$series[1,]"
   ]
  },
  {
   "cell_type": "code",
   "execution_count": 12,
   "id": "80262bb0",
   "metadata": {},
   "outputs": [
    {
     "data": {
      "text/html": [
       "'list'"
      ],
      "text/latex": [
       "'list'"
      ],
      "text/markdown": [
       "'list'"
      ],
      "text/plain": [
       "[1] \"list\""
      ]
     },
     "metadata": {},
     "output_type": "display_data"
    }
   ],
   "source": [
    "typeof(r$Results$series[1,])"
   ]
  },
  {
   "cell_type": "code",
   "execution_count": 13,
   "id": "44e62ea0",
   "metadata": {},
   "outputs": [
    {
     "data": {
      "text/html": [
       "<style>\n",
       ".list-inline {list-style: none; margin:0; padding: 0}\n",
       ".list-inline>li {display: inline-block}\n",
       ".list-inline>li:not(:last-child)::after {content: \"\\00b7\"; padding: 0 .5ex}\n",
       "</style>\n",
       "<ol class=list-inline><li>'seriesID'</li><li>'data'</li></ol>\n"
      ],
      "text/latex": [
       "\\begin{enumerate*}\n",
       "\\item 'seriesID'\n",
       "\\item 'data'\n",
       "\\end{enumerate*}\n"
      ],
      "text/markdown": [
       "1. 'seriesID'\n",
       "2. 'data'\n",
       "\n",
       "\n"
      ],
      "text/plain": [
       "[1] \"seriesID\" \"data\"    "
      ]
     },
     "metadata": {},
     "output_type": "display_data"
    }
   ],
   "source": [
    "names(r$Results$series[1,])"
   ]
  },
  {
   "cell_type": "code",
   "execution_count": 14,
   "id": "2652b387",
   "metadata": {},
   "outputs": [
    {
     "data": {
      "text/html": [
       "'CUUR0000SA0'"
      ],
      "text/latex": [
       "'CUUR0000SA0'"
      ],
      "text/markdown": [
       "'CUUR0000SA0'"
      ],
      "text/plain": [
       "[1] \"CUUR0000SA0\""
      ]
     },
     "metadata": {},
     "output_type": "display_data"
    }
   ],
   "source": [
    "r$Results$series[1,]$seriesID"
   ]
  },
  {
   "cell_type": "markdown",
   "id": "6a418b83",
   "metadata": {},
   "source": [
    "We already know that, we need the data."
   ]
  },
  {
   "cell_type": "code",
   "execution_count": 15,
   "id": "b977f252",
   "metadata": {},
   "outputs": [
    {
     "data": {
      "text/html": [
       "<ol>\n",
       "\t<li><table class=\"dataframe\">\n",
       "<caption>A data.frame: 25 × 6</caption>\n",
       "<thead>\n",
       "\t<tr><th></th><th scope=col>year</th><th scope=col>period</th><th scope=col>periodName</th><th scope=col>latest</th><th scope=col>value</th><th scope=col>footnotes</th></tr>\n",
       "\t<tr><th></th><th scope=col>&lt;chr&gt;</th><th scope=col>&lt;chr&gt;</th><th scope=col>&lt;chr&gt;</th><th scope=col>&lt;chr&gt;</th><th scope=col>&lt;chr&gt;</th><th scope=col>&lt;list&gt;</th></tr>\n",
       "</thead>\n",
       "<tbody>\n",
       "\t<tr><th scope=row>1</th><td>2022</td><td>M01</td><td>January  </td><td>true</td><td>281.148</td><td>NULL</td></tr>\n",
       "\t<tr><th scope=row>2</th><td>2021</td><td>M12</td><td>December </td><td>NA  </td><td>278.802</td><td>NULL</td></tr>\n",
       "\t<tr><th scope=row>3</th><td>2021</td><td>M11</td><td>November </td><td>NA  </td><td>277.948</td><td>NULL</td></tr>\n",
       "\t<tr><th scope=row>4</th><td>2021</td><td>M10</td><td>October  </td><td>NA  </td><td>276.589</td><td>NULL</td></tr>\n",
       "\t<tr><th scope=row>5</th><td>2021</td><td>M09</td><td>September</td><td>NA  </td><td>274.310</td><td>NULL</td></tr>\n",
       "\t<tr><th scope=row>6</th><td>2021</td><td>M08</td><td>August   </td><td>NA  </td><td>273.567</td><td>NULL</td></tr>\n",
       "\t<tr><th scope=row>7</th><td>2021</td><td>M07</td><td>July     </td><td>NA  </td><td>273.003</td><td>NULL</td></tr>\n",
       "\t<tr><th scope=row>8</th><td>2021</td><td>M06</td><td>June     </td><td>NA  </td><td>271.696</td><td>NULL</td></tr>\n",
       "\t<tr><th scope=row>9</th><td>2021</td><td>M05</td><td>May      </td><td>NA  </td><td>269.195</td><td>NULL</td></tr>\n",
       "\t<tr><th scope=row>10</th><td>2021</td><td>M04</td><td>April    </td><td>NA  </td><td>267.054</td><td>NULL</td></tr>\n",
       "\t<tr><th scope=row>11</th><td>2021</td><td>M03</td><td>March    </td><td>NA  </td><td>264.877</td><td>NULL</td></tr>\n",
       "\t<tr><th scope=row>12</th><td>2021</td><td>M02</td><td>February </td><td>NA  </td><td>263.014</td><td>NULL</td></tr>\n",
       "\t<tr><th scope=row>13</th><td>2021</td><td>M01</td><td>January  </td><td>NA  </td><td>261.582</td><td>NULL</td></tr>\n",
       "\t<tr><th scope=row>14</th><td>2020</td><td>M12</td><td>December </td><td>NA  </td><td>260.474</td><td>NULL</td></tr>\n",
       "\t<tr><th scope=row>15</th><td>2020</td><td>M11</td><td>November </td><td>NA  </td><td>260.229</td><td>NULL</td></tr>\n",
       "\t<tr><th scope=row>16</th><td>2020</td><td>M10</td><td>October  </td><td>NA  </td><td>260.388</td><td>NULL</td></tr>\n",
       "\t<tr><th scope=row>17</th><td>2020</td><td>M09</td><td>September</td><td>NA  </td><td>260.280</td><td>NULL</td></tr>\n",
       "\t<tr><th scope=row>18</th><td>2020</td><td>M08</td><td>August   </td><td>NA  </td><td>259.918</td><td>NULL</td></tr>\n",
       "\t<tr><th scope=row>19</th><td>2020</td><td>M07</td><td>July     </td><td>NA  </td><td>259.101</td><td>NULL</td></tr>\n",
       "\t<tr><th scope=row>20</th><td>2020</td><td>M06</td><td>June     </td><td>NA  </td><td>257.797</td><td>NULL</td></tr>\n",
       "\t<tr><th scope=row>21</th><td>2020</td><td>M05</td><td>May      </td><td>NA  </td><td>256.394</td><td>NULL</td></tr>\n",
       "\t<tr><th scope=row>22</th><td>2020</td><td>M04</td><td>April    </td><td>NA  </td><td>256.389</td><td>NULL</td></tr>\n",
       "\t<tr><th scope=row>23</th><td>2020</td><td>M03</td><td>March    </td><td>NA  </td><td>258.115</td><td>NULL</td></tr>\n",
       "\t<tr><th scope=row>24</th><td>2020</td><td>M02</td><td>February </td><td>NA  </td><td>258.678</td><td>NULL</td></tr>\n",
       "\t<tr><th scope=row>25</th><td>2020</td><td>M01</td><td>January  </td><td>NA  </td><td>257.971</td><td>NULL</td></tr>\n",
       "</tbody>\n",
       "</table>\n",
       "</li>\n",
       "</ol>\n"
      ],
      "text/latex": [
       "\\begin{enumerate}\n",
       "\\item A data.frame: 25 × 6\n",
       "\\begin{tabular}{r|llllll}\n",
       "  & year & period & periodName & latest & value & footnotes\\\\\n",
       "  & <chr> & <chr> & <chr> & <chr> & <chr> & <list>\\\\\n",
       "\\hline\n",
       "\t1 & 2022 & M01 & January   & true & 281.148 & NULL\\\\\n",
       "\t2 & 2021 & M12 & December  & NA   & 278.802 & NULL\\\\\n",
       "\t3 & 2021 & M11 & November  & NA   & 277.948 & NULL\\\\\n",
       "\t4 & 2021 & M10 & October   & NA   & 276.589 & NULL\\\\\n",
       "\t5 & 2021 & M09 & September & NA   & 274.310 & NULL\\\\\n",
       "\t6 & 2021 & M08 & August    & NA   & 273.567 & NULL\\\\\n",
       "\t7 & 2021 & M07 & July      & NA   & 273.003 & NULL\\\\\n",
       "\t8 & 2021 & M06 & June      & NA   & 271.696 & NULL\\\\\n",
       "\t9 & 2021 & M05 & May       & NA   & 269.195 & NULL\\\\\n",
       "\t10 & 2021 & M04 & April     & NA   & 267.054 & NULL\\\\\n",
       "\t11 & 2021 & M03 & March     & NA   & 264.877 & NULL\\\\\n",
       "\t12 & 2021 & M02 & February  & NA   & 263.014 & NULL\\\\\n",
       "\t13 & 2021 & M01 & January   & NA   & 261.582 & NULL\\\\\n",
       "\t14 & 2020 & M12 & December  & NA   & 260.474 & NULL\\\\\n",
       "\t15 & 2020 & M11 & November  & NA   & 260.229 & NULL\\\\\n",
       "\t16 & 2020 & M10 & October   & NA   & 260.388 & NULL\\\\\n",
       "\t17 & 2020 & M09 & September & NA   & 260.280 & NULL\\\\\n",
       "\t18 & 2020 & M08 & August    & NA   & 259.918 & NULL\\\\\n",
       "\t19 & 2020 & M07 & July      & NA   & 259.101 & NULL\\\\\n",
       "\t20 & 2020 & M06 & June      & NA   & 257.797 & NULL\\\\\n",
       "\t21 & 2020 & M05 & May       & NA   & 256.394 & NULL\\\\\n",
       "\t22 & 2020 & M04 & April     & NA   & 256.389 & NULL\\\\\n",
       "\t23 & 2020 & M03 & March     & NA   & 258.115 & NULL\\\\\n",
       "\t24 & 2020 & M02 & February  & NA   & 258.678 & NULL\\\\\n",
       "\t25 & 2020 & M01 & January   & NA   & 257.971 & NULL\\\\\n",
       "\\end{tabular}\n",
       "\n",
       "\\end{enumerate}\n"
      ],
      "text/markdown": [
       "1. \n",
       "A data.frame: 25 × 6\n",
       "\n",
       "| <!--/--> | year &lt;chr&gt; | period &lt;chr&gt; | periodName &lt;chr&gt; | latest &lt;chr&gt; | value &lt;chr&gt; | footnotes &lt;list&gt; |\n",
       "|---|---|---|---|---|---|---|\n",
       "| 1 | 2022 | M01 | January   | true | 281.148 | NULL |\n",
       "| 2 | 2021 | M12 | December  | NA   | 278.802 | NULL |\n",
       "| 3 | 2021 | M11 | November  | NA   | 277.948 | NULL |\n",
       "| 4 | 2021 | M10 | October   | NA   | 276.589 | NULL |\n",
       "| 5 | 2021 | M09 | September | NA   | 274.310 | NULL |\n",
       "| 6 | 2021 | M08 | August    | NA   | 273.567 | NULL |\n",
       "| 7 | 2021 | M07 | July      | NA   | 273.003 | NULL |\n",
       "| 8 | 2021 | M06 | June      | NA   | 271.696 | NULL |\n",
       "| 9 | 2021 | M05 | May       | NA   | 269.195 | NULL |\n",
       "| 10 | 2021 | M04 | April     | NA   | 267.054 | NULL |\n",
       "| 11 | 2021 | M03 | March     | NA   | 264.877 | NULL |\n",
       "| 12 | 2021 | M02 | February  | NA   | 263.014 | NULL |\n",
       "| 13 | 2021 | M01 | January   | NA   | 261.582 | NULL |\n",
       "| 14 | 2020 | M12 | December  | NA   | 260.474 | NULL |\n",
       "| 15 | 2020 | M11 | November  | NA   | 260.229 | NULL |\n",
       "| 16 | 2020 | M10 | October   | NA   | 260.388 | NULL |\n",
       "| 17 | 2020 | M09 | September | NA   | 260.280 | NULL |\n",
       "| 18 | 2020 | M08 | August    | NA   | 259.918 | NULL |\n",
       "| 19 | 2020 | M07 | July      | NA   | 259.101 | NULL |\n",
       "| 20 | 2020 | M06 | June      | NA   | 257.797 | NULL |\n",
       "| 21 | 2020 | M05 | May       | NA   | 256.394 | NULL |\n",
       "| 22 | 2020 | M04 | April     | NA   | 256.389 | NULL |\n",
       "| 23 | 2020 | M03 | March     | NA   | 258.115 | NULL |\n",
       "| 24 | 2020 | M02 | February  | NA   | 258.678 | NULL |\n",
       "| 25 | 2020 | M01 | January   | NA   | 257.971 | NULL |\n",
       "\n",
       "\n",
       "\n",
       "\n"
      ],
      "text/plain": [
       "[[1]]\n",
       "   year period periodName latest   value footnotes\n",
       "1  2022    M01    January   true 281.148      NULL\n",
       "2  2021    M12   December   <NA> 278.802      NULL\n",
       "3  2021    M11   November   <NA> 277.948      NULL\n",
       "4  2021    M10    October   <NA> 276.589      NULL\n",
       "5  2021    M09  September   <NA> 274.310      NULL\n",
       "6  2021    M08     August   <NA> 273.567      NULL\n",
       "7  2021    M07       July   <NA> 273.003      NULL\n",
       "8  2021    M06       June   <NA> 271.696      NULL\n",
       "9  2021    M05        May   <NA> 269.195      NULL\n",
       "10 2021    M04      April   <NA> 267.054      NULL\n",
       "11 2021    M03      March   <NA> 264.877      NULL\n",
       "12 2021    M02   February   <NA> 263.014      NULL\n",
       "13 2021    M01    January   <NA> 261.582      NULL\n",
       "14 2020    M12   December   <NA> 260.474      NULL\n",
       "15 2020    M11   November   <NA> 260.229      NULL\n",
       "16 2020    M10    October   <NA> 260.388      NULL\n",
       "17 2020    M09  September   <NA> 260.280      NULL\n",
       "18 2020    M08     August   <NA> 259.918      NULL\n",
       "19 2020    M07       July   <NA> 259.101      NULL\n",
       "20 2020    M06       June   <NA> 257.797      NULL\n",
       "21 2020    M05        May   <NA> 256.394      NULL\n",
       "22 2020    M04      April   <NA> 256.389      NULL\n",
       "23 2020    M03      March   <NA> 258.115      NULL\n",
       "24 2020    M02   February   <NA> 258.678      NULL\n",
       "25 2020    M01    January   <NA> 257.971      NULL\n"
      ]
     },
     "metadata": {},
     "output_type": "display_data"
    }
   ],
   "source": [
    "r$Results$series[1,]$data"
   ]
  },
  {
   "cell_type": "code",
   "execution_count": 16,
   "id": "3333bbf2",
   "metadata": {
    "scrolled": true
   },
   "outputs": [
    {
     "data": {
      "text/html": [
       "'list'"
      ],
      "text/latex": [
       "'list'"
      ],
      "text/markdown": [
       "'list'"
      ],
      "text/plain": [
       "[1] \"list\""
      ]
     },
     "metadata": {},
     "output_type": "display_data"
    }
   ],
   "source": [
    "typeof(r$Results$series[1,]$data)"
   ]
  },
  {
   "cell_type": "markdown",
   "id": "617e701b",
   "metadata": {},
   "source": [
    "It's a list of dictionaries! The first element contains the most recent month."
   ]
  },
  {
   "cell_type": "code",
   "execution_count": 17,
   "id": "4d0cad6f",
   "metadata": {},
   "outputs": [
    {
     "ename": "ERROR",
     "evalue": "Error in r$Results$series[1, ]$data[1, ]: incorrect number of dimensions\n",
     "output_type": "error",
     "traceback": [
      "Error in r$Results$series[1, ]$data[1, ]: incorrect number of dimensions\nTraceback:\n"
     ]
    }
   ],
   "source": [
    "r$Results$series[1,]$data[1,]"
   ]
  },
  {
   "cell_type": "markdown",
   "id": "eb400775",
   "metadata": {},
   "source": [
    "Something went wrong with the dimension. Let's check the dimension first. "
   ]
  },
  {
   "cell_type": "code",
   "execution_count": 18,
   "id": "a02ef3cc",
   "metadata": {},
   "outputs": [
    {
     "data": {
      "text/plain": [
       "NULL"
      ]
     },
     "metadata": {},
     "output_type": "display_data"
    }
   ],
   "source": [
    "dim(r$Results$series[1,]$data)"
   ]
  },
  {
   "cell_type": "code",
   "execution_count": 19,
   "id": "7a3ac8ae",
   "metadata": {},
   "outputs": [
    {
     "data": {
      "text/html": [
       "TRUE"
      ],
      "text/latex": [
       "TRUE"
      ],
      "text/markdown": [
       "TRUE"
      ],
      "text/plain": [
       "[1] TRUE"
      ]
     },
     "metadata": {},
     "output_type": "display_data"
    }
   ],
   "source": [
    "is.vector(r$Results$series[1,]$data)"
   ]
  },
  {
   "cell_type": "markdown",
   "id": "b50eb87c",
   "metadata": {},
   "source": [
    "It is not a data frame, but a list containing only one element, which is a data frame!"
   ]
  },
  {
   "cell_type": "code",
   "execution_count": 20,
   "id": "6eac46ec",
   "metadata": {
    "scrolled": true
   },
   "outputs": [
    {
     "name": "stdout",
     "output_type": "stream",
     "text": [
      "[[1]]\n",
      "   year period periodName latest   value footnotes\n",
      "1  2022    M01    January   true 281.148      NULL\n",
      "2  2021    M12   December   <NA> 278.802      NULL\n",
      "3  2021    M11   November   <NA> 277.948      NULL\n",
      "4  2021    M10    October   <NA> 276.589      NULL\n",
      "5  2021    M09  September   <NA> 274.310      NULL\n",
      "6  2021    M08     August   <NA> 273.567      NULL\n",
      "7  2021    M07       July   <NA> 273.003      NULL\n",
      "8  2021    M06       June   <NA> 271.696      NULL\n",
      "9  2021    M05        May   <NA> 269.195      NULL\n",
      "10 2021    M04      April   <NA> 267.054      NULL\n",
      "11 2021    M03      March   <NA> 264.877      NULL\n",
      "12 2021    M02   February   <NA> 263.014      NULL\n",
      "13 2021    M01    January   <NA> 261.582      NULL\n",
      "14 2020    M12   December   <NA> 260.474      NULL\n",
      "15 2020    M11   November   <NA> 260.229      NULL\n",
      "16 2020    M10    October   <NA> 260.388      NULL\n",
      "17 2020    M09  September   <NA> 260.280      NULL\n",
      "18 2020    M08     August   <NA> 259.918      NULL\n",
      "19 2020    M07       July   <NA> 259.101      NULL\n",
      "20 2020    M06       June   <NA> 257.797      NULL\n",
      "21 2020    M05        May   <NA> 256.394      NULL\n",
      "22 2020    M04      April   <NA> 256.389      NULL\n",
      "23 2020    M03      March   <NA> 258.115      NULL\n",
      "24 2020    M02   February   <NA> 258.678      NULL\n",
      "25 2020    M01    January   <NA> 257.971      NULL\n",
      "\n"
     ]
    }
   ],
   "source": [
    "print(r$Results$series[1,]$data)"
   ]
  },
  {
   "cell_type": "markdown",
   "id": "31a5a760",
   "metadata": {},
   "source": [
    "Notice that ```[[1]]```. \n",
    "\n",
    "If we use ```r$Results$series[1,]$data[1]``` we still get a list of a single element (the data frame) and still cannot access specific rows of the data frame.  "
   ]
  },
  {
   "cell_type": "code",
   "execution_count": 21,
   "id": "86248b35",
   "metadata": {
    "scrolled": true
   },
   "outputs": [
    {
     "data": {
      "text/html": [
       "<ol>\n",
       "\t<li><table class=\"dataframe\">\n",
       "<caption>A data.frame: 25 × 6</caption>\n",
       "<thead>\n",
       "\t<tr><th></th><th scope=col>year</th><th scope=col>period</th><th scope=col>periodName</th><th scope=col>latest</th><th scope=col>value</th><th scope=col>footnotes</th></tr>\n",
       "\t<tr><th></th><th scope=col>&lt;chr&gt;</th><th scope=col>&lt;chr&gt;</th><th scope=col>&lt;chr&gt;</th><th scope=col>&lt;chr&gt;</th><th scope=col>&lt;chr&gt;</th><th scope=col>&lt;list&gt;</th></tr>\n",
       "</thead>\n",
       "<tbody>\n",
       "\t<tr><th scope=row>1</th><td>2022</td><td>M01</td><td>January  </td><td>true</td><td>281.148</td><td>NULL</td></tr>\n",
       "\t<tr><th scope=row>2</th><td>2021</td><td>M12</td><td>December </td><td>NA  </td><td>278.802</td><td>NULL</td></tr>\n",
       "\t<tr><th scope=row>3</th><td>2021</td><td>M11</td><td>November </td><td>NA  </td><td>277.948</td><td>NULL</td></tr>\n",
       "\t<tr><th scope=row>4</th><td>2021</td><td>M10</td><td>October  </td><td>NA  </td><td>276.589</td><td>NULL</td></tr>\n",
       "\t<tr><th scope=row>5</th><td>2021</td><td>M09</td><td>September</td><td>NA  </td><td>274.310</td><td>NULL</td></tr>\n",
       "\t<tr><th scope=row>6</th><td>2021</td><td>M08</td><td>August   </td><td>NA  </td><td>273.567</td><td>NULL</td></tr>\n",
       "\t<tr><th scope=row>7</th><td>2021</td><td>M07</td><td>July     </td><td>NA  </td><td>273.003</td><td>NULL</td></tr>\n",
       "\t<tr><th scope=row>8</th><td>2021</td><td>M06</td><td>June     </td><td>NA  </td><td>271.696</td><td>NULL</td></tr>\n",
       "\t<tr><th scope=row>9</th><td>2021</td><td>M05</td><td>May      </td><td>NA  </td><td>269.195</td><td>NULL</td></tr>\n",
       "\t<tr><th scope=row>10</th><td>2021</td><td>M04</td><td>April    </td><td>NA  </td><td>267.054</td><td>NULL</td></tr>\n",
       "\t<tr><th scope=row>11</th><td>2021</td><td>M03</td><td>March    </td><td>NA  </td><td>264.877</td><td>NULL</td></tr>\n",
       "\t<tr><th scope=row>12</th><td>2021</td><td>M02</td><td>February </td><td>NA  </td><td>263.014</td><td>NULL</td></tr>\n",
       "\t<tr><th scope=row>13</th><td>2021</td><td>M01</td><td>January  </td><td>NA  </td><td>261.582</td><td>NULL</td></tr>\n",
       "\t<tr><th scope=row>14</th><td>2020</td><td>M12</td><td>December </td><td>NA  </td><td>260.474</td><td>NULL</td></tr>\n",
       "\t<tr><th scope=row>15</th><td>2020</td><td>M11</td><td>November </td><td>NA  </td><td>260.229</td><td>NULL</td></tr>\n",
       "\t<tr><th scope=row>16</th><td>2020</td><td>M10</td><td>October  </td><td>NA  </td><td>260.388</td><td>NULL</td></tr>\n",
       "\t<tr><th scope=row>17</th><td>2020</td><td>M09</td><td>September</td><td>NA  </td><td>260.280</td><td>NULL</td></tr>\n",
       "\t<tr><th scope=row>18</th><td>2020</td><td>M08</td><td>August   </td><td>NA  </td><td>259.918</td><td>NULL</td></tr>\n",
       "\t<tr><th scope=row>19</th><td>2020</td><td>M07</td><td>July     </td><td>NA  </td><td>259.101</td><td>NULL</td></tr>\n",
       "\t<tr><th scope=row>20</th><td>2020</td><td>M06</td><td>June     </td><td>NA  </td><td>257.797</td><td>NULL</td></tr>\n",
       "\t<tr><th scope=row>21</th><td>2020</td><td>M05</td><td>May      </td><td>NA  </td><td>256.394</td><td>NULL</td></tr>\n",
       "\t<tr><th scope=row>22</th><td>2020</td><td>M04</td><td>April    </td><td>NA  </td><td>256.389</td><td>NULL</td></tr>\n",
       "\t<tr><th scope=row>23</th><td>2020</td><td>M03</td><td>March    </td><td>NA  </td><td>258.115</td><td>NULL</td></tr>\n",
       "\t<tr><th scope=row>24</th><td>2020</td><td>M02</td><td>February </td><td>NA  </td><td>258.678</td><td>NULL</td></tr>\n",
       "\t<tr><th scope=row>25</th><td>2020</td><td>M01</td><td>January  </td><td>NA  </td><td>257.971</td><td>NULL</td></tr>\n",
       "</tbody>\n",
       "</table>\n",
       "</li>\n",
       "</ol>\n"
      ],
      "text/latex": [
       "\\begin{enumerate}\n",
       "\\item A data.frame: 25 × 6\n",
       "\\begin{tabular}{r|llllll}\n",
       "  & year & period & periodName & latest & value & footnotes\\\\\n",
       "  & <chr> & <chr> & <chr> & <chr> & <chr> & <list>\\\\\n",
       "\\hline\n",
       "\t1 & 2022 & M01 & January   & true & 281.148 & NULL\\\\\n",
       "\t2 & 2021 & M12 & December  & NA   & 278.802 & NULL\\\\\n",
       "\t3 & 2021 & M11 & November  & NA   & 277.948 & NULL\\\\\n",
       "\t4 & 2021 & M10 & October   & NA   & 276.589 & NULL\\\\\n",
       "\t5 & 2021 & M09 & September & NA   & 274.310 & NULL\\\\\n",
       "\t6 & 2021 & M08 & August    & NA   & 273.567 & NULL\\\\\n",
       "\t7 & 2021 & M07 & July      & NA   & 273.003 & NULL\\\\\n",
       "\t8 & 2021 & M06 & June      & NA   & 271.696 & NULL\\\\\n",
       "\t9 & 2021 & M05 & May       & NA   & 269.195 & NULL\\\\\n",
       "\t10 & 2021 & M04 & April     & NA   & 267.054 & NULL\\\\\n",
       "\t11 & 2021 & M03 & March     & NA   & 264.877 & NULL\\\\\n",
       "\t12 & 2021 & M02 & February  & NA   & 263.014 & NULL\\\\\n",
       "\t13 & 2021 & M01 & January   & NA   & 261.582 & NULL\\\\\n",
       "\t14 & 2020 & M12 & December  & NA   & 260.474 & NULL\\\\\n",
       "\t15 & 2020 & M11 & November  & NA   & 260.229 & NULL\\\\\n",
       "\t16 & 2020 & M10 & October   & NA   & 260.388 & NULL\\\\\n",
       "\t17 & 2020 & M09 & September & NA   & 260.280 & NULL\\\\\n",
       "\t18 & 2020 & M08 & August    & NA   & 259.918 & NULL\\\\\n",
       "\t19 & 2020 & M07 & July      & NA   & 259.101 & NULL\\\\\n",
       "\t20 & 2020 & M06 & June      & NA   & 257.797 & NULL\\\\\n",
       "\t21 & 2020 & M05 & May       & NA   & 256.394 & NULL\\\\\n",
       "\t22 & 2020 & M04 & April     & NA   & 256.389 & NULL\\\\\n",
       "\t23 & 2020 & M03 & March     & NA   & 258.115 & NULL\\\\\n",
       "\t24 & 2020 & M02 & February  & NA   & 258.678 & NULL\\\\\n",
       "\t25 & 2020 & M01 & January   & NA   & 257.971 & NULL\\\\\n",
       "\\end{tabular}\n",
       "\n",
       "\\end{enumerate}\n"
      ],
      "text/markdown": [
       "1. \n",
       "A data.frame: 25 × 6\n",
       "\n",
       "| <!--/--> | year &lt;chr&gt; | period &lt;chr&gt; | periodName &lt;chr&gt; | latest &lt;chr&gt; | value &lt;chr&gt; | footnotes &lt;list&gt; |\n",
       "|---|---|---|---|---|---|---|\n",
       "| 1 | 2022 | M01 | January   | true | 281.148 | NULL |\n",
       "| 2 | 2021 | M12 | December  | NA   | 278.802 | NULL |\n",
       "| 3 | 2021 | M11 | November  | NA   | 277.948 | NULL |\n",
       "| 4 | 2021 | M10 | October   | NA   | 276.589 | NULL |\n",
       "| 5 | 2021 | M09 | September | NA   | 274.310 | NULL |\n",
       "| 6 | 2021 | M08 | August    | NA   | 273.567 | NULL |\n",
       "| 7 | 2021 | M07 | July      | NA   | 273.003 | NULL |\n",
       "| 8 | 2021 | M06 | June      | NA   | 271.696 | NULL |\n",
       "| 9 | 2021 | M05 | May       | NA   | 269.195 | NULL |\n",
       "| 10 | 2021 | M04 | April     | NA   | 267.054 | NULL |\n",
       "| 11 | 2021 | M03 | March     | NA   | 264.877 | NULL |\n",
       "| 12 | 2021 | M02 | February  | NA   | 263.014 | NULL |\n",
       "| 13 | 2021 | M01 | January   | NA   | 261.582 | NULL |\n",
       "| 14 | 2020 | M12 | December  | NA   | 260.474 | NULL |\n",
       "| 15 | 2020 | M11 | November  | NA   | 260.229 | NULL |\n",
       "| 16 | 2020 | M10 | October   | NA   | 260.388 | NULL |\n",
       "| 17 | 2020 | M09 | September | NA   | 260.280 | NULL |\n",
       "| 18 | 2020 | M08 | August    | NA   | 259.918 | NULL |\n",
       "| 19 | 2020 | M07 | July      | NA   | 259.101 | NULL |\n",
       "| 20 | 2020 | M06 | June      | NA   | 257.797 | NULL |\n",
       "| 21 | 2020 | M05 | May       | NA   | 256.394 | NULL |\n",
       "| 22 | 2020 | M04 | April     | NA   | 256.389 | NULL |\n",
       "| 23 | 2020 | M03 | March     | NA   | 258.115 | NULL |\n",
       "| 24 | 2020 | M02 | February  | NA   | 258.678 | NULL |\n",
       "| 25 | 2020 | M01 | January   | NA   | 257.971 | NULL |\n",
       "\n",
       "\n",
       "\n",
       "\n"
      ],
      "text/plain": [
       "[[1]]\n",
       "   year period periodName latest   value footnotes\n",
       "1  2022    M01    January   true 281.148      NULL\n",
       "2  2021    M12   December   <NA> 278.802      NULL\n",
       "3  2021    M11   November   <NA> 277.948      NULL\n",
       "4  2021    M10    October   <NA> 276.589      NULL\n",
       "5  2021    M09  September   <NA> 274.310      NULL\n",
       "6  2021    M08     August   <NA> 273.567      NULL\n",
       "7  2021    M07       July   <NA> 273.003      NULL\n",
       "8  2021    M06       June   <NA> 271.696      NULL\n",
       "9  2021    M05        May   <NA> 269.195      NULL\n",
       "10 2021    M04      April   <NA> 267.054      NULL\n",
       "11 2021    M03      March   <NA> 264.877      NULL\n",
       "12 2021    M02   February   <NA> 263.014      NULL\n",
       "13 2021    M01    January   <NA> 261.582      NULL\n",
       "14 2020    M12   December   <NA> 260.474      NULL\n",
       "15 2020    M11   November   <NA> 260.229      NULL\n",
       "16 2020    M10    October   <NA> 260.388      NULL\n",
       "17 2020    M09  September   <NA> 260.280      NULL\n",
       "18 2020    M08     August   <NA> 259.918      NULL\n",
       "19 2020    M07       July   <NA> 259.101      NULL\n",
       "20 2020    M06       June   <NA> 257.797      NULL\n",
       "21 2020    M05        May   <NA> 256.394      NULL\n",
       "22 2020    M04      April   <NA> 256.389      NULL\n",
       "23 2020    M03      March   <NA> 258.115      NULL\n",
       "24 2020    M02   February   <NA> 258.678      NULL\n",
       "25 2020    M01    January   <NA> 257.971      NULL\n"
      ]
     },
     "metadata": {},
     "output_type": "display_data"
    }
   ],
   "source": [
    "r$Results$series[1,]$data[1]"
   ]
  },
  {
   "cell_type": "code",
   "execution_count": 22,
   "id": "e802e3e1",
   "metadata": {},
   "outputs": [
    {
     "data": {
      "text/plain": [
       "NULL"
      ]
     },
     "metadata": {},
     "output_type": "display_data"
    }
   ],
   "source": [
    "dim(r$Results$series[1,]$data[1])"
   ]
  },
  {
   "cell_type": "code",
   "execution_count": 23,
   "id": "85d766bb",
   "metadata": {},
   "outputs": [
    {
     "data": {
      "text/html": [
       "<table class=\"dataframe\">\n",
       "<caption>A data.frame: 25 × 6</caption>\n",
       "<thead>\n",
       "\t<tr><th></th><th scope=col>year</th><th scope=col>period</th><th scope=col>periodName</th><th scope=col>latest</th><th scope=col>value</th><th scope=col>footnotes</th></tr>\n",
       "\t<tr><th></th><th scope=col>&lt;chr&gt;</th><th scope=col>&lt;chr&gt;</th><th scope=col>&lt;chr&gt;</th><th scope=col>&lt;chr&gt;</th><th scope=col>&lt;chr&gt;</th><th scope=col>&lt;list&gt;</th></tr>\n",
       "</thead>\n",
       "<tbody>\n",
       "\t<tr><th scope=row>1</th><td>2022</td><td>M01</td><td>January  </td><td>true</td><td>281.148</td><td>NULL</td></tr>\n",
       "\t<tr><th scope=row>2</th><td>2021</td><td>M12</td><td>December </td><td>NA  </td><td>278.802</td><td>NULL</td></tr>\n",
       "\t<tr><th scope=row>3</th><td>2021</td><td>M11</td><td>November </td><td>NA  </td><td>277.948</td><td>NULL</td></tr>\n",
       "\t<tr><th scope=row>4</th><td>2021</td><td>M10</td><td>October  </td><td>NA  </td><td>276.589</td><td>NULL</td></tr>\n",
       "\t<tr><th scope=row>5</th><td>2021</td><td>M09</td><td>September</td><td>NA  </td><td>274.310</td><td>NULL</td></tr>\n",
       "\t<tr><th scope=row>6</th><td>2021</td><td>M08</td><td>August   </td><td>NA  </td><td>273.567</td><td>NULL</td></tr>\n",
       "\t<tr><th scope=row>7</th><td>2021</td><td>M07</td><td>July     </td><td>NA  </td><td>273.003</td><td>NULL</td></tr>\n",
       "\t<tr><th scope=row>8</th><td>2021</td><td>M06</td><td>June     </td><td>NA  </td><td>271.696</td><td>NULL</td></tr>\n",
       "\t<tr><th scope=row>9</th><td>2021</td><td>M05</td><td>May      </td><td>NA  </td><td>269.195</td><td>NULL</td></tr>\n",
       "\t<tr><th scope=row>10</th><td>2021</td><td>M04</td><td>April    </td><td>NA  </td><td>267.054</td><td>NULL</td></tr>\n",
       "\t<tr><th scope=row>11</th><td>2021</td><td>M03</td><td>March    </td><td>NA  </td><td>264.877</td><td>NULL</td></tr>\n",
       "\t<tr><th scope=row>12</th><td>2021</td><td>M02</td><td>February </td><td>NA  </td><td>263.014</td><td>NULL</td></tr>\n",
       "\t<tr><th scope=row>13</th><td>2021</td><td>M01</td><td>January  </td><td>NA  </td><td>261.582</td><td>NULL</td></tr>\n",
       "\t<tr><th scope=row>14</th><td>2020</td><td>M12</td><td>December </td><td>NA  </td><td>260.474</td><td>NULL</td></tr>\n",
       "\t<tr><th scope=row>15</th><td>2020</td><td>M11</td><td>November </td><td>NA  </td><td>260.229</td><td>NULL</td></tr>\n",
       "\t<tr><th scope=row>16</th><td>2020</td><td>M10</td><td>October  </td><td>NA  </td><td>260.388</td><td>NULL</td></tr>\n",
       "\t<tr><th scope=row>17</th><td>2020</td><td>M09</td><td>September</td><td>NA  </td><td>260.280</td><td>NULL</td></tr>\n",
       "\t<tr><th scope=row>18</th><td>2020</td><td>M08</td><td>August   </td><td>NA  </td><td>259.918</td><td>NULL</td></tr>\n",
       "\t<tr><th scope=row>19</th><td>2020</td><td>M07</td><td>July     </td><td>NA  </td><td>259.101</td><td>NULL</td></tr>\n",
       "\t<tr><th scope=row>20</th><td>2020</td><td>M06</td><td>June     </td><td>NA  </td><td>257.797</td><td>NULL</td></tr>\n",
       "\t<tr><th scope=row>21</th><td>2020</td><td>M05</td><td>May      </td><td>NA  </td><td>256.394</td><td>NULL</td></tr>\n",
       "\t<tr><th scope=row>22</th><td>2020</td><td>M04</td><td>April    </td><td>NA  </td><td>256.389</td><td>NULL</td></tr>\n",
       "\t<tr><th scope=row>23</th><td>2020</td><td>M03</td><td>March    </td><td>NA  </td><td>258.115</td><td>NULL</td></tr>\n",
       "\t<tr><th scope=row>24</th><td>2020</td><td>M02</td><td>February </td><td>NA  </td><td>258.678</td><td>NULL</td></tr>\n",
       "\t<tr><th scope=row>25</th><td>2020</td><td>M01</td><td>January  </td><td>NA  </td><td>257.971</td><td>NULL</td></tr>\n",
       "</tbody>\n",
       "</table>\n"
      ],
      "text/latex": [
       "A data.frame: 25 × 6\n",
       "\\begin{tabular}{r|llllll}\n",
       "  & year & period & periodName & latest & value & footnotes\\\\\n",
       "  & <chr> & <chr> & <chr> & <chr> & <chr> & <list>\\\\\n",
       "\\hline\n",
       "\t1 & 2022 & M01 & January   & true & 281.148 & NULL\\\\\n",
       "\t2 & 2021 & M12 & December  & NA   & 278.802 & NULL\\\\\n",
       "\t3 & 2021 & M11 & November  & NA   & 277.948 & NULL\\\\\n",
       "\t4 & 2021 & M10 & October   & NA   & 276.589 & NULL\\\\\n",
       "\t5 & 2021 & M09 & September & NA   & 274.310 & NULL\\\\\n",
       "\t6 & 2021 & M08 & August    & NA   & 273.567 & NULL\\\\\n",
       "\t7 & 2021 & M07 & July      & NA   & 273.003 & NULL\\\\\n",
       "\t8 & 2021 & M06 & June      & NA   & 271.696 & NULL\\\\\n",
       "\t9 & 2021 & M05 & May       & NA   & 269.195 & NULL\\\\\n",
       "\t10 & 2021 & M04 & April     & NA   & 267.054 & NULL\\\\\n",
       "\t11 & 2021 & M03 & March     & NA   & 264.877 & NULL\\\\\n",
       "\t12 & 2021 & M02 & February  & NA   & 263.014 & NULL\\\\\n",
       "\t13 & 2021 & M01 & January   & NA   & 261.582 & NULL\\\\\n",
       "\t14 & 2020 & M12 & December  & NA   & 260.474 & NULL\\\\\n",
       "\t15 & 2020 & M11 & November  & NA   & 260.229 & NULL\\\\\n",
       "\t16 & 2020 & M10 & October   & NA   & 260.388 & NULL\\\\\n",
       "\t17 & 2020 & M09 & September & NA   & 260.280 & NULL\\\\\n",
       "\t18 & 2020 & M08 & August    & NA   & 259.918 & NULL\\\\\n",
       "\t19 & 2020 & M07 & July      & NA   & 259.101 & NULL\\\\\n",
       "\t20 & 2020 & M06 & June      & NA   & 257.797 & NULL\\\\\n",
       "\t21 & 2020 & M05 & May       & NA   & 256.394 & NULL\\\\\n",
       "\t22 & 2020 & M04 & April     & NA   & 256.389 & NULL\\\\\n",
       "\t23 & 2020 & M03 & March     & NA   & 258.115 & NULL\\\\\n",
       "\t24 & 2020 & M02 & February  & NA   & 258.678 & NULL\\\\\n",
       "\t25 & 2020 & M01 & January   & NA   & 257.971 & NULL\\\\\n",
       "\\end{tabular}\n"
      ],
      "text/markdown": [
       "\n",
       "A data.frame: 25 × 6\n",
       "\n",
       "| <!--/--> | year &lt;chr&gt; | period &lt;chr&gt; | periodName &lt;chr&gt; | latest &lt;chr&gt; | value &lt;chr&gt; | footnotes &lt;list&gt; |\n",
       "|---|---|---|---|---|---|---|\n",
       "| 1 | 2022 | M01 | January   | true | 281.148 | NULL |\n",
       "| 2 | 2021 | M12 | December  | NA   | 278.802 | NULL |\n",
       "| 3 | 2021 | M11 | November  | NA   | 277.948 | NULL |\n",
       "| 4 | 2021 | M10 | October   | NA   | 276.589 | NULL |\n",
       "| 5 | 2021 | M09 | September | NA   | 274.310 | NULL |\n",
       "| 6 | 2021 | M08 | August    | NA   | 273.567 | NULL |\n",
       "| 7 | 2021 | M07 | July      | NA   | 273.003 | NULL |\n",
       "| 8 | 2021 | M06 | June      | NA   | 271.696 | NULL |\n",
       "| 9 | 2021 | M05 | May       | NA   | 269.195 | NULL |\n",
       "| 10 | 2021 | M04 | April     | NA   | 267.054 | NULL |\n",
       "| 11 | 2021 | M03 | March     | NA   | 264.877 | NULL |\n",
       "| 12 | 2021 | M02 | February  | NA   | 263.014 | NULL |\n",
       "| 13 | 2021 | M01 | January   | NA   | 261.582 | NULL |\n",
       "| 14 | 2020 | M12 | December  | NA   | 260.474 | NULL |\n",
       "| 15 | 2020 | M11 | November  | NA   | 260.229 | NULL |\n",
       "| 16 | 2020 | M10 | October   | NA   | 260.388 | NULL |\n",
       "| 17 | 2020 | M09 | September | NA   | 260.280 | NULL |\n",
       "| 18 | 2020 | M08 | August    | NA   | 259.918 | NULL |\n",
       "| 19 | 2020 | M07 | July      | NA   | 259.101 | NULL |\n",
       "| 20 | 2020 | M06 | June      | NA   | 257.797 | NULL |\n",
       "| 21 | 2020 | M05 | May       | NA   | 256.394 | NULL |\n",
       "| 22 | 2020 | M04 | April     | NA   | 256.389 | NULL |\n",
       "| 23 | 2020 | M03 | March     | NA   | 258.115 | NULL |\n",
       "| 24 | 2020 | M02 | February  | NA   | 258.678 | NULL |\n",
       "| 25 | 2020 | M01 | January   | NA   | 257.971 | NULL |\n",
       "\n"
      ],
      "text/plain": [
       "   year period periodName latest value   footnotes\n",
       "1  2022 M01    January    true   281.148 NULL     \n",
       "2  2021 M12    December   NA     278.802 NULL     \n",
       "3  2021 M11    November   NA     277.948 NULL     \n",
       "4  2021 M10    October    NA     276.589 NULL     \n",
       "5  2021 M09    September  NA     274.310 NULL     \n",
       "6  2021 M08    August     NA     273.567 NULL     \n",
       "7  2021 M07    July       NA     273.003 NULL     \n",
       "8  2021 M06    June       NA     271.696 NULL     \n",
       "9  2021 M05    May        NA     269.195 NULL     \n",
       "10 2021 M04    April      NA     267.054 NULL     \n",
       "11 2021 M03    March      NA     264.877 NULL     \n",
       "12 2021 M02    February   NA     263.014 NULL     \n",
       "13 2021 M01    January    NA     261.582 NULL     \n",
       "14 2020 M12    December   NA     260.474 NULL     \n",
       "15 2020 M11    November   NA     260.229 NULL     \n",
       "16 2020 M10    October    NA     260.388 NULL     \n",
       "17 2020 M09    September  NA     260.280 NULL     \n",
       "18 2020 M08    August     NA     259.918 NULL     \n",
       "19 2020 M07    July       NA     259.101 NULL     \n",
       "20 2020 M06    June       NA     257.797 NULL     \n",
       "21 2020 M05    May        NA     256.394 NULL     \n",
       "22 2020 M04    April      NA     256.389 NULL     \n",
       "23 2020 M03    March      NA     258.115 NULL     \n",
       "24 2020 M02    February   NA     258.678 NULL     \n",
       "25 2020 M01    January    NA     257.971 NULL     "
      ]
     },
     "metadata": {},
     "output_type": "display_data"
    }
   ],
   "source": [
    "r$Results$series[1,]$data[[1]]"
   ]
  },
  {
   "cell_type": "code",
   "execution_count": 24,
   "id": "332d914d",
   "metadata": {
    "scrolled": true
   },
   "outputs": [
    {
     "data": {
      "text/html": [
       "<style>\n",
       ".list-inline {list-style: none; margin:0; padding: 0}\n",
       ".list-inline>li {display: inline-block}\n",
       ".list-inline>li:not(:last-child)::after {content: \"\\00b7\"; padding: 0 .5ex}\n",
       "</style>\n",
       "<ol class=list-inline><li>25</li><li>6</li></ol>\n"
      ],
      "text/latex": [
       "\\begin{enumerate*}\n",
       "\\item 25\n",
       "\\item 6\n",
       "\\end{enumerate*}\n"
      ],
      "text/markdown": [
       "1. 25\n",
       "2. 6\n",
       "\n",
       "\n"
      ],
      "text/plain": [
       "[1] 25  6"
      ]
     },
     "metadata": {},
     "output_type": "display_data"
    }
   ],
   "source": [
    "dim(r$Results$series[1,]$data[[1]])"
   ]
  },
  {
   "cell_type": "code",
   "execution_count": 25,
   "id": "0d7644a1",
   "metadata": {},
   "outputs": [
    {
     "data": {
      "text/html": [
       "<table class=\"dataframe\">\n",
       "<caption>A data.frame: 1 × 6</caption>\n",
       "<thead>\n",
       "\t<tr><th></th><th scope=col>year</th><th scope=col>period</th><th scope=col>periodName</th><th scope=col>latest</th><th scope=col>value</th><th scope=col>footnotes</th></tr>\n",
       "\t<tr><th></th><th scope=col>&lt;chr&gt;</th><th scope=col>&lt;chr&gt;</th><th scope=col>&lt;chr&gt;</th><th scope=col>&lt;chr&gt;</th><th scope=col>&lt;chr&gt;</th><th scope=col>&lt;list&gt;</th></tr>\n",
       "</thead>\n",
       "<tbody>\n",
       "\t<tr><th scope=row>1</th><td>2022</td><td>M01</td><td>January</td><td>true</td><td>281.148</td><td>NULL</td></tr>\n",
       "</tbody>\n",
       "</table>\n"
      ],
      "text/latex": [
       "A data.frame: 1 × 6\n",
       "\\begin{tabular}{r|llllll}\n",
       "  & year & period & periodName & latest & value & footnotes\\\\\n",
       "  & <chr> & <chr> & <chr> & <chr> & <chr> & <list>\\\\\n",
       "\\hline\n",
       "\t1 & 2022 & M01 & January & true & 281.148 & NULL\\\\\n",
       "\\end{tabular}\n"
      ],
      "text/markdown": [
       "\n",
       "A data.frame: 1 × 6\n",
       "\n",
       "| <!--/--> | year &lt;chr&gt; | period &lt;chr&gt; | periodName &lt;chr&gt; | latest &lt;chr&gt; | value &lt;chr&gt; | footnotes &lt;list&gt; |\n",
       "|---|---|---|---|---|---|---|\n",
       "| 1 | 2022 | M01 | January | true | 281.148 | NULL |\n",
       "\n"
      ],
      "text/plain": [
       "  year period periodName latest value   footnotes\n",
       "1 2022 M01    January    true   281.148 NULL     "
      ]
     },
     "metadata": {},
     "output_type": "display_data"
    }
   ],
   "source": [
    "r$Results$series[1,]$data[[1]][1,]"
   ]
  },
  {
   "cell_type": "markdown",
   "id": "74685971",
   "metadata": {},
   "source": [
    "We can see it's the latest."
   ]
  },
  {
   "cell_type": "code",
   "execution_count": 26,
   "id": "ff227df7",
   "metadata": {},
   "outputs": [
    {
     "data": {
      "text/html": [
       "'list'"
      ],
      "text/latex": [
       "'list'"
      ],
      "text/markdown": [
       "'list'"
      ],
      "text/plain": [
       "[1] \"list\""
      ]
     },
     "metadata": {},
     "output_type": "display_data"
    }
   ],
   "source": [
    "typeof(r$Results$series[1,]$data[[1]][1,])"
   ]
  },
  {
   "cell_type": "code",
   "execution_count": 27,
   "id": "c9ff661a",
   "metadata": {},
   "outputs": [
    {
     "data": {
      "text/html": [
       "<style>\n",
       ".list-inline {list-style: none; margin:0; padding: 0}\n",
       ".list-inline>li {display: inline-block}\n",
       ".list-inline>li:not(:last-child)::after {content: \"\\00b7\"; padding: 0 .5ex}\n",
       "</style>\n",
       "<ol class=list-inline><li>'year'</li><li>'period'</li><li>'periodName'</li><li>'latest'</li><li>'value'</li><li>'footnotes'</li></ol>\n"
      ],
      "text/latex": [
       "\\begin{enumerate*}\n",
       "\\item 'year'\n",
       "\\item 'period'\n",
       "\\item 'periodName'\n",
       "\\item 'latest'\n",
       "\\item 'value'\n",
       "\\item 'footnotes'\n",
       "\\end{enumerate*}\n"
      ],
      "text/markdown": [
       "1. 'year'\n",
       "2. 'period'\n",
       "3. 'periodName'\n",
       "4. 'latest'\n",
       "5. 'value'\n",
       "6. 'footnotes'\n",
       "\n",
       "\n"
      ],
      "text/plain": [
       "[1] \"year\"       \"period\"     \"periodName\" \"latest\"     \"value\"     \n",
       "[6] \"footnotes\" "
      ]
     },
     "metadata": {},
     "output_type": "display_data"
    }
   ],
   "source": [
    "names(r$Results$series[1,]$data[[1]][1,])"
   ]
  },
  {
   "cell_type": "markdown",
   "id": "1cab8741",
   "metadata": {},
   "source": [
    "We need the value:"
   ]
  },
  {
   "cell_type": "code",
   "execution_count": 28,
   "id": "343ebdaf",
   "metadata": {},
   "outputs": [
    {
     "data": {
      "text/html": [
       "'281.148'"
      ],
      "text/latex": [
       "'281.148'"
      ],
      "text/markdown": [
       "'281.148'"
      ],
      "text/plain": [
       "[1] \"281.148\""
      ]
     },
     "metadata": {},
     "output_type": "display_data"
    }
   ],
   "source": [
    "r$Results$series[1,]$data[[1]][1,]$value"
   ]
  },
  {
   "cell_type": "code",
   "execution_count": 29,
   "id": "44665286",
   "metadata": {},
   "outputs": [
    {
     "data": {
      "text/html": [
       "'character'"
      ],
      "text/latex": [
       "'character'"
      ],
      "text/markdown": [
       "'character'"
      ],
      "text/plain": [
       "[1] \"character\""
      ]
     },
     "metadata": {},
     "output_type": "display_data"
    }
   ],
   "source": [
    "typeof(r$Results$series[1,]$data[[1]][1,]$value)"
   ]
  },
  {
   "cell_type": "markdown",
   "id": "49656401",
   "metadata": {},
   "source": [
    "Oh no! It's a string!"
   ]
  },
  {
   "cell_type": "code",
   "execution_count": 30,
   "id": "3c0a37ac",
   "metadata": {},
   "outputs": [
    {
     "data": {
      "text/html": [
       "281.148"
      ],
      "text/latex": [
       "281.148"
      ],
      "text/markdown": [
       "281.148"
      ],
      "text/plain": [
       "[1] 281.148"
      ]
     },
     "metadata": {},
     "output_type": "display_data"
    }
   ],
   "source": [
    "as.numeric(r$Results$series[1,]$data[[1]][1,]$value)"
   ]
  },
  {
   "cell_type": "markdown",
   "id": "9bd4996a",
   "metadata": {},
   "source": [
    "Now we reached the finish line! Almost... \n",
    "\n",
    "What about inflation?"
   ]
  },
  {
   "cell_type": "code",
   "execution_count": 31,
   "id": "f2932c3d",
   "metadata": {},
   "outputs": [
    {
     "name": "stdout",
     "output_type": "stream",
     "text": [
      "[1] 7.479872\n"
     ]
    }
   ],
   "source": [
    "new = as.numeric(r$Results$series[1,]$data[[1]][1,]$value)    #the 1st elemnt is the latest month\n",
    "old = as.numeric(r$Results$series[1,]$data[[1]][13,]$value)   #the 13th element is a year lag\n",
    "\n",
    "inflation = (new/old - 1)*100\n",
    "\n",
    "print(inflation)"
   ]
  },
  {
   "cell_type": "markdown",
   "id": "587f76b5",
   "metadata": {},
   "source": [
    "Can we make it look more beautiful? rounding?"
   ]
  },
  {
   "cell_type": "code",
   "execution_count": 32,
   "id": "b6d8fa6f",
   "metadata": {},
   "outputs": [
    {
     "data": {
      "text/html": [
       "7.5"
      ],
      "text/latex": [
       "7.5"
      ],
      "text/markdown": [
       "7.5"
      ],
      "text/plain": [
       "[1] 7.5"
      ]
     },
     "metadata": {},
     "output_type": "display_data"
    }
   ],
   "source": [
    "round(inflation,1)"
   ]
  },
  {
   "cell_type": "markdown",
   "id": "1d968230",
   "metadata": {},
   "source": [
    "Nicer printing:"
   ]
  },
  {
   "cell_type": "code",
   "execution_count": 33,
   "id": "583437c7",
   "metadata": {},
   "outputs": [
    {
     "name": "stdout",
     "output_type": "stream",
     "text": [
      "[1] \"Inflation in the last 12 months was 7.5%\"\n"
     ]
    }
   ],
   "source": [
    "print(paste0('Inflation in the last 12 months was ',round(inflation,1),'%'))"
   ]
  },
  {
   "cell_type": "markdown",
   "id": "d0e246c0",
   "metadata": {},
   "source": [
    "We don't want to do this over and over again, we want to use a function! Moreover, we can add a bit more functionality to it!"
   ]
  },
  {
   "cell_type": "code",
   "execution_count": 34,
   "id": "f9248523",
   "metadata": {},
   "outputs": [],
   "source": [
    "inflation = function(lag){\n",
    "    # This function computes the percent change in the level of prices (inflation) for the \n",
    "    # 12 months starting '12+lag' months ago and ending 'lag' months ago.\n",
    "    # lag is an integer input\n",
    "    \n",
    "    new = as.numeric(r$Results$series[1,]$data[[1]][1+lag,]$value) \n",
    "    old = as.numeric(r$Results$series[1,]$data[[1]][13+lag,]$value) \n",
    "    \n",
    "    change = (new/old - 1)*100\n",
    "    print(paste0('Inflation in the period starting ', lag, ' months ago and ending ', 12+lag, ' months ago was ',round(change,1),'%'))\n",
    "    return(change)\n",
    "}"
   ]
  },
  {
   "cell_type": "markdown",
   "id": "5ce2d751",
   "metadata": {},
   "source": [
    "Let's try it for a few months:"
   ]
  },
  {
   "cell_type": "code",
   "execution_count": 35,
   "id": "2cff815b",
   "metadata": {},
   "outputs": [
    {
     "name": "stdout",
     "output_type": "stream",
     "text": [
      "[1] \"Inflation in the period starting 0 months ago and ending 12 months ago was 7.5%\"\n",
      "[1] \"Inflation in the period starting 1 months ago and ending 13 months ago was 7%\"\n",
      "[1] \"Inflation in the period starting 2 months ago and ending 14 months ago was 6.8%\"\n",
      "[1] \"Inflation in the period starting 3 months ago and ending 15 months ago was 6.2%\"\n"
     ]
    }
   ],
   "source": [
    "for(lag in 0:3){\n",
    "    inflation(lag)\n",
    "}   "
   ]
  },
  {
   "cell_type": "markdown",
   "id": "6d853c38",
   "metadata": {},
   "source": [
    "We can do even better!"
   ]
  },
  {
   "cell_type": "markdown",
   "id": "2f733f2d",
   "metadata": {},
   "source": [
    "How many months of data do we have?"
   ]
  },
  {
   "cell_type": "code",
   "execution_count": 36,
   "id": "a9dc69de",
   "metadata": {},
   "outputs": [
    {
     "data": {
      "text/html": [
       "25"
      ],
      "text/latex": [
       "25"
      ],
      "text/markdown": [
       "25"
      ],
      "text/plain": [
       "[1] 25"
      ]
     },
     "metadata": {},
     "output_type": "display_data"
    }
   ],
   "source": [
    "nrow(r$Results$series[1,]$data[[1]])"
   ]
  },
  {
   "cell_type": "markdown",
   "id": "867b0722",
   "metadata": {},
   "source": [
    "Two years of data. So we can get 13 consecutive (or overlapping) lags: 0-12, 1-13, 2-14,...12-24.\n",
    "\n",
    "Let's make a diagram!"
   ]
  },
  {
   "cell_type": "code",
   "execution_count": 37,
   "id": "105a5399",
   "metadata": {},
   "outputs": [],
   "source": [
    "#install.packages(\"ggplot2\") #install the ggplot2 package if you haven't\n",
    "library(ggplot2)"
   ]
  },
  {
   "cell_type": "code",
   "execution_count": 38,
   "id": "3d7f41b7",
   "metadata": {},
   "outputs": [
    {
     "name": "stdout",
     "output_type": "stream",
     "text": [
      "[1] \"Inflation in the period starting 0 months ago and ending 12 months ago was 7.5%\"\n",
      "[1] \"Inflation in the period starting 1 months ago and ending 13 months ago was 7%\"\n",
      "[1] \"Inflation in the period starting 2 months ago and ending 14 months ago was 6.8%\"\n",
      "[1] \"Inflation in the period starting 3 months ago and ending 15 months ago was 6.2%\"\n",
      "[1] \"Inflation in the period starting 4 months ago and ending 16 months ago was 5.4%\"\n",
      "[1] \"Inflation in the period starting 5 months ago and ending 17 months ago was 5.3%\"\n",
      "[1] \"Inflation in the period starting 6 months ago and ending 18 months ago was 5.4%\"\n",
      "[1] \"Inflation in the period starting 7 months ago and ending 19 months ago was 5.4%\"\n",
      "[1] \"Inflation in the period starting 8 months ago and ending 20 months ago was 5%\"\n",
      "[1] \"Inflation in the period starting 9 months ago and ending 21 months ago was 4.2%\"\n",
      "[1] \"Inflation in the period starting 10 months ago and ending 22 months ago was 2.6%\"\n",
      "[1] \"Inflation in the period starting 11 months ago and ending 23 months ago was 1.7%\"\n",
      "[1] \"Inflation in the period starting 12 months ago and ending 24 months ago was 1.4%\"\n"
     ]
    }
   ],
   "source": [
    "lags = c()\n",
    "changes = c()\n",
    "for(i in 0:12){\n",
    "    lags = append(lags, i)\n",
    "    changes = append(changes, inflation(i))\n",
    "}"
   ]
  },
  {
   "cell_type": "code",
   "execution_count": 39,
   "id": "f04cbae4",
   "metadata": {},
   "outputs": [
    {
     "data": {
      "text/html": [
       "<style>\n",
       ".list-inline {list-style: none; margin:0; padding: 0}\n",
       ".list-inline>li {display: inline-block}\n",
       ".list-inline>li:not(:last-child)::after {content: \"\\00b7\"; padding: 0 .5ex}\n",
       "</style>\n",
       "<ol class=list-inline><li>0</li><li>1</li><li>2</li><li>3</li><li>4</li><li>5</li><li>6</li><li>7</li><li>8</li><li>9</li><li>10</li><li>11</li><li>12</li></ol>\n"
      ],
      "text/latex": [
       "\\begin{enumerate*}\n",
       "\\item 0\n",
       "\\item 1\n",
       "\\item 2\n",
       "\\item 3\n",
       "\\item 4\n",
       "\\item 5\n",
       "\\item 6\n",
       "\\item 7\n",
       "\\item 8\n",
       "\\item 9\n",
       "\\item 10\n",
       "\\item 11\n",
       "\\item 12\n",
       "\\end{enumerate*}\n"
      ],
      "text/markdown": [
       "1. 0\n",
       "2. 1\n",
       "3. 2\n",
       "4. 3\n",
       "5. 4\n",
       "6. 5\n",
       "7. 6\n",
       "8. 7\n",
       "9. 8\n",
       "10. 9\n",
       "11. 10\n",
       "12. 11\n",
       "13. 12\n",
       "\n",
       "\n"
      ],
      "text/plain": [
       " [1]  0  1  2  3  4  5  6  7  8  9 10 11 12"
      ]
     },
     "metadata": {},
     "output_type": "display_data"
    }
   ],
   "source": [
    "lags"
   ]
  },
  {
   "cell_type": "code",
   "execution_count": 40,
   "id": "0ef98c7d",
   "metadata": {
    "scrolled": true
   },
   "outputs": [
    {
     "data": {
      "text/html": [
       "<style>\n",
       ".list-inline {list-style: none; margin:0; padding: 0}\n",
       ".list-inline>li {display: inline-block}\n",
       ".list-inline>li:not(:last-child)::after {content: \"\\00b7\"; padding: 0 .5ex}\n",
       "</style>\n",
       "<ol class=list-inline><li>7.47987246828912</li><li>7.03640286554514</li><li>6.80900283980648</li><li>6.2218689033289</li><li>5.39034885507916</li><li>5.25127155487499</li><li>5.3654752393854</li><li>5.39145141332134</li><li>4.99270653759447</li><li>4.15969483870211</li><li>2.61976250895919</li><li>1.67621521737451</li><li>1.39976974156009</li></ol>\n"
      ],
      "text/latex": [
       "\\begin{enumerate*}\n",
       "\\item 7.47987246828912\n",
       "\\item 7.03640286554514\n",
       "\\item 6.80900283980648\n",
       "\\item 6.2218689033289\n",
       "\\item 5.39034885507916\n",
       "\\item 5.25127155487499\n",
       "\\item 5.3654752393854\n",
       "\\item 5.39145141332134\n",
       "\\item 4.99270653759447\n",
       "\\item 4.15969483870211\n",
       "\\item 2.61976250895919\n",
       "\\item 1.67621521737451\n",
       "\\item 1.39976974156009\n",
       "\\end{enumerate*}\n"
      ],
      "text/markdown": [
       "1. 7.47987246828912\n",
       "2. 7.03640286554514\n",
       "3. 6.80900283980648\n",
       "4. 6.2218689033289\n",
       "5. 5.39034885507916\n",
       "6. 5.25127155487499\n",
       "7. 5.3654752393854\n",
       "8. 5.39145141332134\n",
       "9. 4.99270653759447\n",
       "10. 4.15969483870211\n",
       "11. 2.61976250895919\n",
       "12. 1.67621521737451\n",
       "13. 1.39976974156009\n",
       "\n",
       "\n"
      ],
      "text/plain": [
       " [1] 7.479872 7.036403 6.809003 6.221869 5.390349 5.251272 5.365475 5.391451\n",
       " [9] 4.992707 4.159695 2.619763 1.676215 1.399770"
      ]
     },
     "metadata": {},
     "output_type": "display_data"
    }
   ],
   "source": [
    "changes"
   ]
  },
  {
   "cell_type": "code",
   "execution_count": 41,
   "id": "53c19e9f",
   "metadata": {
    "scrolled": true
   },
   "outputs": [
    {
     "data": {
      "image/png": "[encoded data removed]",
      "text/plain": [
       "plot without title"
      ]
     },
     "metadata": {
      "image/png": {
       "height": 420,
       "width": 420
      }
     },
     "output_type": "display_data"
    }
   ],
   "source": [
    "ggplot(data.frame(lags, changes), aes(x = lags, y = changes)) +\n",
    "    geom_line(color = 'steelblue') +\n",
    "    geom_point(color = 'steelblue')"
   ]
  },
  {
   "cell_type": "markdown",
   "id": "e63fdaf2",
   "metadata": {},
   "source": [
    "That is going in the opposite direction!"
   ]
  },
  {
   "cell_type": "code",
   "execution_count": 42,
   "id": "5adab129",
   "metadata": {},
   "outputs": [],
   "source": [
    "lags = rev(lags)"
   ]
  },
  {
   "cell_type": "code",
   "execution_count": 43,
   "id": "0243b254",
   "metadata": {},
   "outputs": [
    {
     "data": {
      "text/html": [
       "<style>\n",
       ".list-inline {list-style: none; margin:0; padding: 0}\n",
       ".list-inline>li {display: inline-block}\n",
       ".list-inline>li:not(:last-child)::after {content: \"\\00b7\"; padding: 0 .5ex}\n",
       "</style>\n",
       "<ol class=list-inline><li>12</li><li>11</li><li>10</li><li>9</li><li>8</li><li>7</li><li>6</li><li>5</li><li>4</li><li>3</li><li>2</li><li>1</li><li>0</li></ol>\n"
      ],
      "text/latex": [
       "\\begin{enumerate*}\n",
       "\\item 12\n",
       "\\item 11\n",
       "\\item 10\n",
       "\\item 9\n",
       "\\item 8\n",
       "\\item 7\n",
       "\\item 6\n",
       "\\item 5\n",
       "\\item 4\n",
       "\\item 3\n",
       "\\item 2\n",
       "\\item 1\n",
       "\\item 0\n",
       "\\end{enumerate*}\n"
      ],
      "text/markdown": [
       "1. 12\n",
       "2. 11\n",
       "3. 10\n",
       "4. 9\n",
       "5. 8\n",
       "6. 7\n",
       "7. 6\n",
       "8. 5\n",
       "9. 4\n",
       "10. 3\n",
       "11. 2\n",
       "12. 1\n",
       "13. 0\n",
       "\n",
       "\n"
      ],
      "text/plain": [
       " [1] 12 11 10  9  8  7  6  5  4  3  2  1  0"
      ]
     },
     "metadata": {},
     "output_type": "display_data"
    }
   ],
   "source": [
    "lags"
   ]
  },
  {
   "cell_type": "code",
   "execution_count": 44,
   "id": "54e3507d",
   "metadata": {},
   "outputs": [],
   "source": [
    "changes = rev(changes)"
   ]
  },
  {
   "cell_type": "code",
   "execution_count": 45,
   "id": "154f22e0",
   "metadata": {},
   "outputs": [
    {
     "data": {
      "text/html": [
       "<style>\n",
       ".list-inline {list-style: none; margin:0; padding: 0}\n",
       ".list-inline>li {display: inline-block}\n",
       ".list-inline>li:not(:last-child)::after {content: \"\\00b7\"; padding: 0 .5ex}\n",
       "</style>\n",
       "<ol class=list-inline><li>1.39976974156009</li><li>1.67621521737451</li><li>2.61976250895919</li><li>4.15969483870211</li><li>4.99270653759447</li><li>5.39145141332134</li><li>5.3654752393854</li><li>5.25127155487499</li><li>5.39034885507916</li><li>6.2218689033289</li><li>6.80900283980648</li><li>7.03640286554514</li><li>7.47987246828912</li></ol>\n"
      ],
      "text/latex": [
       "\\begin{enumerate*}\n",
       "\\item 1.39976974156009\n",
       "\\item 1.67621521737451\n",
       "\\item 2.61976250895919\n",
       "\\item 4.15969483870211\n",
       "\\item 4.99270653759447\n",
       "\\item 5.39145141332134\n",
       "\\item 5.3654752393854\n",
       "\\item 5.25127155487499\n",
       "\\item 5.39034885507916\n",
       "\\item 6.2218689033289\n",
       "\\item 6.80900283980648\n",
       "\\item 7.03640286554514\n",
       "\\item 7.47987246828912\n",
       "\\end{enumerate*}\n"
      ],
      "text/markdown": [
       "1. 1.39976974156009\n",
       "2. 1.67621521737451\n",
       "3. 2.61976250895919\n",
       "4. 4.15969483870211\n",
       "5. 4.99270653759447\n",
       "6. 5.39145141332134\n",
       "7. 5.3654752393854\n",
       "8. 5.25127155487499\n",
       "9. 5.39034885507916\n",
       "10. 6.2218689033289\n",
       "11. 6.80900283980648\n",
       "12. 7.03640286554514\n",
       "13. 7.47987246828912\n",
       "\n",
       "\n"
      ],
      "text/plain": [
       " [1] 1.399770 1.676215 2.619763 4.159695 4.992707 5.391451 5.365475 5.251272\n",
       " [9] 5.390349 6.221869 6.809003 7.036403 7.479872"
      ]
     },
     "metadata": {},
     "output_type": "display_data"
    }
   ],
   "source": [
    "changes"
   ]
  },
  {
   "cell_type": "code",
   "execution_count": 46,
   "id": "cf3924e6",
   "metadata": {},
   "outputs": [
    {
     "data": {
      "image/png": "[encoded data removed]",
      "text/plain": [
       "plot without title"
      ]
     },
     "metadata": {
      "image/png": {
       "height": 420,
       "width": 420
      }
     },
     "output_type": "display_data"
    }
   ],
   "source": [
    "ggplot(data.frame(lags, changes), aes(x = lags, y = changes)) +\n",
    "    geom_line(color = 'steelblue') +\n",
    "    geom_point(color = 'steelblue')"
   ]
  },
  {
   "cell_type": "markdown",
   "id": "39a8f49f",
   "metadata": {},
   "source": [
    "WHAT??? How can that be???\n",
    "\n",
    "Explanation: No matter how we flip/reverse the X variable, ggplot will graph the data using the ordered list. In other words from small to big."
   ]
  },
  {
   "cell_type": "markdown",
   "id": "5a2b5099",
   "metadata": {},
   "source": [
    "Solution 1: Reverse only the lags."
   ]
  },
  {
   "cell_type": "code",
   "execution_count": 47,
   "id": "9de8e10a",
   "metadata": {},
   "outputs": [],
   "source": [
    "changes = rev(changes) #back to the original"
   ]
  },
  {
   "cell_type": "code",
   "execution_count": 48,
   "id": "ec9ad9d4",
   "metadata": {},
   "outputs": [
    {
     "data": {
      "image/png": "[encoded data removed]",
      "text/plain": [
       "plot without title"
      ]
     },
     "metadata": {
      "image/png": {
       "height": 420,
       "width": 420
      }
     },
     "output_type": "display_data"
    }
   ],
   "source": [
    "ggplot(data.frame(lags, changes), aes(x = lags, y = changes)) +\n",
    "    geom_line(color = 'steelblue') +\n",
    "    geom_point(color = 'steelblue')"
   ]
  },
  {
   "cell_type": "markdown",
   "id": "70a99622",
   "metadata": {},
   "source": [
    "Great, but the X-axis labels are wrong! What can be done?"
   ]
  },
  {
   "cell_type": "markdown",
   "id": "9baf8118",
   "metadata": {},
   "source": [
    "solution: make the X-axis variable (i.e. lags) a list of strings."
   ]
  },
  {
   "cell_type": "code",
   "execution_count": 49,
   "id": "45a961ee",
   "metadata": {},
   "outputs": [],
   "source": [
    "# First let's return lags to its original form\n",
    "\n",
    "lags = rev(lags)"
   ]
  },
  {
   "cell_type": "code",
   "execution_count": 50,
   "id": "66cc1ab9",
   "metadata": {},
   "outputs": [
    {
     "data": {
      "text/html": [
       "<style>\n",
       ".list-inline {list-style: none; margin:0; padding: 0}\n",
       ".list-inline>li {display: inline-block}\n",
       ".list-inline>li:not(:last-child)::after {content: \"\\00b7\"; padding: 0 .5ex}\n",
       "</style>\n",
       "<ol class=list-inline><li>0</li><li>1</li><li>2</li><li>3</li><li>4</li><li>5</li><li>6</li><li>7</li><li>8</li><li>9</li><li>10</li><li>11</li><li>12</li></ol>\n"
      ],
      "text/latex": [
       "\\begin{enumerate*}\n",
       "\\item 0\n",
       "\\item 1\n",
       "\\item 2\n",
       "\\item 3\n",
       "\\item 4\n",
       "\\item 5\n",
       "\\item 6\n",
       "\\item 7\n",
       "\\item 8\n",
       "\\item 9\n",
       "\\item 10\n",
       "\\item 11\n",
       "\\item 12\n",
       "\\end{enumerate*}\n"
      ],
      "text/markdown": [
       "1. 0\n",
       "2. 1\n",
       "3. 2\n",
       "4. 3\n",
       "5. 4\n",
       "6. 5\n",
       "7. 6\n",
       "8. 7\n",
       "9. 8\n",
       "10. 9\n",
       "11. 10\n",
       "12. 11\n",
       "13. 12\n",
       "\n",
       "\n"
      ],
      "text/plain": [
       " [1]  0  1  2  3  4  5  6  7  8  9 10 11 12"
      ]
     },
     "metadata": {},
     "output_type": "display_data"
    }
   ],
   "source": [
    "lags"
   ]
  },
  {
   "cell_type": "code",
   "execution_count": 51,
   "id": "688e4545",
   "metadata": {},
   "outputs": [],
   "source": [
    "slags = rev(as.character(lags))"
   ]
  },
  {
   "cell_type": "code",
   "execution_count": 52,
   "id": "22c758ba",
   "metadata": {},
   "outputs": [
    {
     "data": {
      "text/html": [
       "<style>\n",
       ".list-inline {list-style: none; margin:0; padding: 0}\n",
       ".list-inline>li {display: inline-block}\n",
       ".list-inline>li:not(:last-child)::after {content: \"\\00b7\"; padding: 0 .5ex}\n",
       "</style>\n",
       "<ol class=list-inline><li>'12'</li><li>'11'</li><li>'10'</li><li>'9'</li><li>'8'</li><li>'7'</li><li>'6'</li><li>'5'</li><li>'4'</li><li>'3'</li><li>'2'</li><li>'1'</li><li>'0'</li></ol>\n"
      ],
      "text/latex": [
       "\\begin{enumerate*}\n",
       "\\item '12'\n",
       "\\item '11'\n",
       "\\item '10'\n",
       "\\item '9'\n",
       "\\item '8'\n",
       "\\item '7'\n",
       "\\item '6'\n",
       "\\item '5'\n",
       "\\item '4'\n",
       "\\item '3'\n",
       "\\item '2'\n",
       "\\item '1'\n",
       "\\item '0'\n",
       "\\end{enumerate*}\n"
      ],
      "text/markdown": [
       "1. '12'\n",
       "2. '11'\n",
       "3. '10'\n",
       "4. '9'\n",
       "5. '8'\n",
       "6. '7'\n",
       "7. '6'\n",
       "8. '5'\n",
       "9. '4'\n",
       "10. '3'\n",
       "11. '2'\n",
       "12. '1'\n",
       "13. '0'\n",
       "\n",
       "\n"
      ],
      "text/plain": [
       " [1] \"12\" \"11\" \"10\" \"9\"  \"8\"  \"7\"  \"6\"  \"5\"  \"4\"  \"3\"  \"2\"  \"1\"  \"0\" "
      ]
     },
     "metadata": {},
     "output_type": "display_data"
    }
   ],
   "source": [
    "slags"
   ]
  },
  {
   "cell_type": "markdown",
   "id": "38ee3765",
   "metadata": {},
   "source": [
    "yay!!"
   ]
  },
  {
   "cell_type": "code",
   "execution_count": 53,
   "id": "ac2c908c",
   "metadata": {},
   "outputs": [],
   "source": [
    "changes = rev(changes)"
   ]
  },
  {
   "cell_type": "code",
   "execution_count": 54,
   "id": "1897c742",
   "metadata": {
    "scrolled": true
   },
   "outputs": [
    {
     "name": "stderr",
     "output_type": "stream",
     "text": [
      "geom_path: Each group consists of only one observation. Do you need to adjust\n",
      "the group aesthetic?\n",
      "\n"
     ]
    },
    {
     "data": {
      "image/png": "[encoded data removed]",
      "text/plain": [
       "plot without title"
      ]
     },
     "metadata": {
      "image/png": {
       "height": 420,
       "width": 420
      }
     },
     "output_type": "display_data"
    }
   ],
   "source": [
    "ggplot(data.frame(slags, changes), aes(x = slags, y = changes)) +\n",
    "    geom_line(color = 'steelblue') +\n",
    "    geom_point(color = 'steelblue')"
   ]
  },
  {
   "cell_type": "markdown",
   "id": "fdb0defe",
   "metadata": {},
   "source": [
    "Two problems:  \n",
    "- The data points are not grouped and ```geom_line()``` doesn't know how to connect points. Solution: In this case, it is simple – all points should be connected, so add ```group = 1```. When more variables are used and multiple lines are drawn, the grouping for lines is usually done by variable.\n",
    "- On the x-axis lags are still ordered alphabetically!"
   ]
  },
  {
   "cell_type": "code",
   "execution_count": 55,
   "id": "becd21c3",
   "metadata": {},
   "outputs": [
    {
     "data": {
      "image/png": "[encoded data removed]",
      "text/plain": [
       "plot without title"
      ]
     },
     "metadata": {
      "image/png": {
       "height": 420,
       "width": 420
      }
     },
     "output_type": "display_data"
    }
   ],
   "source": [
    "ggplot(data.frame(slags, changes), aes(x = slags, y = changes)) +\n",
    "    geom_line(color = 'steelblue', group = 1) +\n",
    "    geom_point(color = 'steelblue')"
   ]
  },
  {
   "cell_type": "markdown",
   "id": "9ce05f88",
   "metadata": {},
   "source": [
    "Now we need to fix the order on the x-axis. One simple way is to transform the variable into a fator. Factor is a data structure used for fields that takes only predefined, finite number of values (categorical data)."
   ]
  },
  {
   "cell_type": "code",
   "execution_count": 56,
   "id": "e3c2cd33",
   "metadata": {},
   "outputs": [
    {
     "data": {
      "image/png": "[encoded data removed]",
      "text/plain": [
       "plot without title"
      ]
     },
     "metadata": {
      "image/png": {
       "height": 420,
       "width": 420
      }
     },
     "output_type": "display_data"
    }
   ],
   "source": [
    "slags = factor(slags, levels = slags) \n",
    "#Transform slags as a factor \n",
    "\n",
    "ggplot(data.frame(slags, changes), aes(x = slags, y = changes)) +\n",
    "    geom_line(color = 'steelblue', group = 1) +\n",
    "    geom_point(color = 'steelblue')"
   ]
  },
  {
   "cell_type": "markdown",
   "id": "ba6a80e3",
   "metadata": {},
   "source": [
    "<img src=\"http://www.clipartbest.com/cliparts/xig/aaz/xigaazLpT.gif\" height=300 width=300>"
   ]
  },
  {
   "cell_type": "markdown",
   "id": "d3568f27",
   "metadata": {},
   "source": [
    "Can we do a bit more to make this graph look nicer? "
   ]
  },
  {
   "cell_type": "code",
   "execution_count": 57,
   "id": "0759f1d2",
   "metadata": {},
   "outputs": [
    {
     "data": {
      "image/png": "[encoded data removed]",
      "text/plain": [
       "plot without title"
      ]
     },
     "metadata": {
      "image/png": {
       "height": 420,
       "width": 420
      }
     },
     "output_type": "display_data"
    }
   ],
   "source": [
    "p = ggplot(data.frame(slags, changes), aes(x = slags, y = changes)) +\n",
    "    geom_line(color = 'steelblue', group = 1) +\n",
    "    geom_point(color = 'steelblue') +\n",
    "    labs(title = \"Yearly change in CPI-U\",\n",
    "         x = \"lags (months)\", \n",
    "         y = \"Inflation\")\n",
    "\n",
    "p"
   ]
  },
  {
   "cell_type": "markdown",
   "id": "e81bdd8f",
   "metadata": {},
   "source": [
    "Where can you take it from here?\n",
    "\n",
    "1. Make the function inflation(lag) accept also the name of the series we want to compute the price change for. In other words, allow the function to accept two inputs: inflation(lag,var_name)\n",
    "2. Given the above, incorporate the API GET request in the function\n",
    "3. Check for incorrect input \n",
    "4. Deal with the possibility that the reply from the API does not contain any data due to incorrect variable name or finishing the quota\n",
    "5. Change the lag to month/year label\n",
    "6. Have the function accept location code too"
   ]
  },
  {
   "cell_type": "code",
   "execution_count": 58,
   "id": "901714f1",
   "metadata": {},
   "outputs": [],
   "source": [
    "# library(httr)\n",
    "# library(jsonlite)\n",
    "\n",
    "inflation2 = function(lag, varname = 'CUUR0000SA0'){\n",
    "    \n",
    "    # This function computes the percent change in the level of prices (inflation) for the \n",
    "    # 12 months starting '12+lag' months ago and ending 'lag' months ago.\n",
    "    \n",
    "    # lag - an integer indicating the lag in months\n",
    "    # varname - a string containing the variable name (CUUR0000SA0 is the default)\n",
    "    \n",
    "    # Step 0: Check inputs\n",
    "    if(lag%%1 !=0){ # there's no handy function in R to check if a number is an integer but we can check the fractional part\n",
    "        return('lag should be an integer')\n",
    "        }\n",
    "    if(lag>12 || lag<0){\n",
    "        # To join two or more conditions into a single if statement, use logical operators  \n",
    "        # && (and), || (or) and ! (not).\n",
    "        return('lag should be an integer between 0 and 12, including.')\n",
    "    }    \n",
    "    if(typeof(varname) != 'character'){\n",
    "        return('variable name should be a string (or left out)')\n",
    "    }\n",
    "    \n",
    "    # Step 1: API call\n",
    "    base_url = 'https://api.bls.gov/publicAPI/v2/timeseries/data/'\n",
    "    url = paste0(base_url, varname)\n",
    "    r = fromJSON(rawToChar(GET(url)$content))\n",
    "    \n",
    "    # Step 2: Check whether the GET request was successful\n",
    "    if(r$status != 'REQUEST_SUCCEEDED'){\n",
    "        return(r$message)\n",
    "    }\n",
    "    \n",
    "    # Step 3: Compute inflation\n",
    "    new = as.numeric(r$Results$series[1,]$data[[1]][1+lag,]$value) \n",
    "    old = as.numeric(r$Results$series[1,]$data[[1]][13+lag,]$value) \n",
    "    \n",
    "    change = (new/old - 1)*100\n",
    "    print(paste0('Inflation in the period starting ', lag, ' months ago and ending ', 12+lag, ' months ago was ',round(change,1),'%'))\n",
    "    return(change)\n",
    "}"
   ]
  },
  {
   "cell_type": "code",
   "execution_count": 59,
   "id": "17d310ed",
   "metadata": {},
   "outputs": [
    {
     "name": "stdout",
     "output_type": "stream",
     "text": [
      "[1] \"Inflation in the period starting 0 months ago and ending 12 months ago was 7.5%\"\n"
     ]
    },
    {
     "data": {
      "text/html": [
       "7.5"
      ],
      "text/latex": [
       "7.5"
      ],
      "text/markdown": [
       "7.5"
      ],
      "text/plain": [
       "[1] 7.5"
      ]
     },
     "metadata": {},
     "output_type": "display_data"
    }
   ],
   "source": [
    "round(inflation2(0),1)"
   ]
  },
  {
   "cell_type": "markdown",
   "id": "cde3553c",
   "metadata": {},
   "source": [
    "To be continued..."
   ]
  },
  {
   "cell_type": "code",
   "execution_count": null,
   "id": "68b160b5",
   "metadata": {},
   "outputs": [],
   "source": []
  }
 ],
 "metadata": {
  "kernelspec": {
   "display_name": "R",
   "language": "R",
   "name": "ir"
  },
  "language_info": {
   "codemirror_mode": "r",
   "file_extension": ".r",
   "mimetype": "text/x-r-source",
   "name": "R",
   "pygments_lexer": "r",
   "version": "4.1.2"
  }
 },
 "nbformat": 4,
 "nbformat_minor": 5
}
