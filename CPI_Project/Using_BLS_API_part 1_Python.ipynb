{
 "cells": [
  {
   "cell_type": "markdown",
   "metadata": {},
   "source": [
    "# BLS public API\n",
    "\n",
    "In this notebook we will:\n",
    "1. Obtain an API key from the BLS\n",
    "2. Add the key to APIkeys.py (or APIkeys.R)\n",
    "3. Find which data sets and surveys are available on the BLS's API server\n",
    "4. Learn how to construct an API GET request\n",
    "\n",
    "**Note:** This part 1"
   ]
  },
  {
   "cell_type": "markdown",
   "metadata": {},
   "source": [
    "## Obtaining an API key\n",
    "\n",
    "To get your API key you need to register.  Please click [here](https://www.bls.gov/developers/). In the second paragraph there is a [link](https://data.bls.gov/registrationEngine/) to register for an API key. Click and fill in the details.\n",
    "\n",
    "You will get an e-mail containing your API key as well a link to follow to validate your key.\n",
    "\n",
    "The key should be 32 characters long."
   ]
  },
  {
   "cell_type": "markdown",
   "metadata": {},
   "source": [
    "## Adding the key to environment variables\n",
    "\n",
    "Open your APIkeys.py (or APIkeys.R) file in a text editor (not in Jupyter!). \n",
    "\n",
    "Add the following line:\n",
    "\n",
    "```Python\n",
    "os.environ[\"BLS_API_key\"] = \"***************************\"\n",
    "```\n",
    "or\n",
    "\n",
    "```R\n",
    "Sys.setenv(BLS_API_key = '**************************') \n",
    "```\n",
    "\n",
    "Replace the astrics with your API key. Save and close."
   ]
  },
  {
   "cell_type": "markdown",
   "metadata": {},
   "source": [
    "**Run the script:**\n",
    "\n",
    "```Python\n",
    "%run APIkeys.py\n",
    "```\n",
    "or\n",
    "```R\n",
    "source('APIkeys.R')\n",
    "```"
   ]
  },
  {
   "cell_type": "code",
   "execution_count": 1,
   "metadata": {},
   "outputs": [
    {
     "name": "stdout",
     "output_type": "stream",
     "text": [
      "API keys loaded\n"
     ]
    }
   ],
   "source": [
    "%run APIkeys.py"
   ]
  },
  {
   "cell_type": "markdown",
   "metadata": {},
   "source": [
    "You can check that the new key is uploaded correctly.\n",
    "\n",
    "```Python\n",
    "a = os.environ[\"BLS_API_key\"]\n",
    "print(a)\n",
    "```"
   ]
  },
  {
   "cell_type": "code",
   "execution_count": 2,
   "metadata": {},
   "outputs": [],
   "source": [
    "# If you want to run this cell, remove the # sign from in the following lines:\n",
    "#a = os.environ[\"BLS_API_key\"]\n",
    "#print(a)"
   ]
  },
  {
   "cell_type": "markdown",
   "metadata": {},
   "source": [
    "## BLS API documentation\n",
    "\n",
    "We are ready to use the BLS API server! \n",
    "\n",
    "The cocumentation for the API is in this [link](https://www.bls.gov/developers/api_signature_v2.htm) and it includes code examples. \n",
    "\n",
    "First, let's import ```requests```."
   ]
  },
  {
   "cell_type": "code",
   "execution_count": 3,
   "metadata": {},
   "outputs": [],
   "source": [
    "import requests\n",
    "import json"
   ]
  },
  {
   "cell_type": "markdown",
   "metadata": {},
   "source": [
    "### List of all surveys\n",
    "\n",
    "We start by looking at all the surveys that the BLS has and that you can access. \n",
    "\n",
    "You can follow this [link](https://api.bls.gov/publicAPI/v2/surveys) to see a list of surveys in a JSON format.\n",
    "\n",
    "Let's collect it into a variable."
   ]
  },
  {
   "cell_type": "code",
   "execution_count": 4,
   "metadata": {},
   "outputs": [],
   "source": [
    "surveys_url = \"https://api.bls.gov/publicAPI/v2/surveys\"\n",
    "s = requests.get(surveys_url)\n",
    "s_json = s.json()"
   ]
  },
  {
   "cell_type": "code",
   "execution_count": 5,
   "metadata": {},
   "outputs": [
    {
     "data": {
      "text/plain": [
       "{'status': 'REQUEST_SUCCEEDED',\n",
       " 'responseTime': 35,\n",
       " 'message': [],\n",
       " 'Results': {'survey': [{'survey_abbreviation': 'AP',\n",
       "    'survey_name': 'Consumer Price Index - Average Price Data'},\n",
       "   {'survey_abbreviation': 'BD',\n",
       "    'survey_name': 'Business Employment Dynamics'},\n",
       "   {'survey_abbreviation': 'BG',\n",
       "    'survey_name': 'Collective Bargaining Agreements-State and Local Government'},\n",
       "   {'survey_abbreviation': 'BP',\n",
       "    'survey_name': 'Collective Bargaining Agreements-Private Sector'},\n",
       "   {'survey_abbreviation': 'CC',\n",
       "    'survey_name': 'Employer Costs for Employee Compensation'},\n",
       "   {'survey_abbreviation': 'CD',\n",
       "    'survey_name': 'Nonfatal cases involving days away from work: selected characteristics'},\n",
       "   {'survey_abbreviation': 'CE',\n",
       "    'survey_name': 'Employment, Hours, and Earnings from the Current Employment Statistics survey (National)'},\n",
       "   {'survey_abbreviation': 'CF',\n",
       "    'survey_name': 'Census of Fatal Occupational Injuries'},\n",
       "   {'survey_abbreviation': 'CH',\n",
       "    'survey_name': 'Nonfatal cases involving days away from work: selected characteristics (2003 - 2010)'},\n",
       "   {'survey_abbreviation': 'CI', 'survey_name': 'Employment Cost Index'},\n",
       "   {'survey_abbreviation': 'CM',\n",
       "    'survey_name': 'Employer Costs for Employee Compensation'},\n",
       "   {'survey_abbreviation': 'CS',\n",
       "    'survey_name': 'Nonfatal cases involving days away from work: selected characteristics (2011 forward)'},\n",
       "   {'survey_abbreviation': 'CU',\n",
       "    'survey_name': 'Consumer Price Index - All Urban Consumers'},\n",
       "   {'survey_abbreviation': 'CW',\n",
       "    'survey_name': 'Consumer Price Index - Urban Wage Earners and Clerical Workers'},\n",
       "   {'survey_abbreviation': 'CX', 'survey_name': 'Consumer Expenditure Survey'},\n",
       "   {'survey_abbreviation': 'EB', 'survey_name': 'Employee Benefits Survey'},\n",
       "   {'survey_abbreviation': 'EC', 'survey_name': 'Employment Cost Index'},\n",
       "   {'survey_abbreviation': 'EE',\n",
       "    'survey_name': 'National Employment, Hours, and Earnings'},\n",
       "   {'survey_abbreviation': 'EI', 'survey_name': 'Import/Export Price Indexes'},\n",
       "   {'survey_abbreviation': 'EN',\n",
       "    'survey_name': 'Quarterly Census of Employment and Wages'},\n",
       "   {'survey_abbreviation': 'EP',\n",
       "    'survey_name': 'Employment Projections by Industry'},\n",
       "   {'survey_abbreviation': 'EW',\n",
       "    'survey_name': 'Quarterly Census of Employment and Wages (SIC)'},\n",
       "   {'survey_abbreviation': 'FI',\n",
       "    'survey_name': 'Census of Fatal Occupational Injuries (2003 - 2010)'},\n",
       "   {'survey_abbreviation': 'FM',\n",
       "    'survey_name': 'Marital and family labor force statistics from the Current Population Survey'},\n",
       "   {'survey_abbreviation': 'FW',\n",
       "    'survey_name': 'Census of Fatal Occupational Injuries (2011 forward)'},\n",
       "   {'survey_abbreviation': 'GG', 'survey_name': 'Green Goods and Services'},\n",
       "   {'survey_abbreviation': 'GP', 'survey_name': 'Geographic Profile'},\n",
       "   {'survey_abbreviation': 'HC',\n",
       "    'survey_name': 'Nonfatal cases involving days away from work: Selected Characteristics (2002)'},\n",
       "   {'survey_abbreviation': 'HS',\n",
       "    'survey_name': 'Occupational injuries and illnesses: industry data (pre-1989)'},\n",
       "   {'survey_abbreviation': 'II',\n",
       "    'survey_name': 'Occupational injuries and illnesses: industry data'},\n",
       "   {'survey_abbreviation': 'IN',\n",
       "    'survey_name': 'International Labor Comparison'},\n",
       "   {'survey_abbreviation': 'IP', 'survey_name': 'Industry Productivity'},\n",
       "   {'survey_abbreviation': 'IS',\n",
       "    'survey_name': 'Occupational injuries and illnesses industry data'},\n",
       "   {'survey_abbreviation': 'JL',\n",
       "    'survey_name': 'Job Openings and Labor Turnover Survey'},\n",
       "   {'survey_abbreviation': 'JT',\n",
       "    'survey_name': 'Job Openings and Labor Turnover Survey'},\n",
       "   {'survey_abbreviation': 'LA',\n",
       "    'survey_name': 'Local Area Unemployment Statistics'},\n",
       "   {'survey_abbreviation': 'LE',\n",
       "    'survey_name': 'Weekly and hourly earnings data from the Current Population Survey'},\n",
       "   {'survey_abbreviation': 'LF',\n",
       "    'survey_name': 'Labor Force Statistics from the Current Population Survey (SIC)'},\n",
       "   {'survey_abbreviation': 'LI',\n",
       "    'survey_name': 'Consumer Price Index - Department Store Inventory Price Index'},\n",
       "   {'survey_abbreviation': 'LN',\n",
       "    'survey_name': 'Labor Force Statistics from the Current Population Survey'},\n",
       "   {'survey_abbreviation': 'LU',\n",
       "    'survey_name': 'Union affiliation data from the Current Population Survey'},\n",
       "   {'survey_abbreviation': 'ML', 'survey_name': 'Mass Layoff Statistics'},\n",
       "   {'survey_abbreviation': 'MP',\n",
       "    'survey_name': 'Major Sector Multifactor Productivity'},\n",
       "   {'survey_abbreviation': 'MU',\n",
       "    'survey_name': 'Consumer Price Index - All Urban Consumers (Old Series)'},\n",
       "   {'survey_abbreviation': 'MW',\n",
       "    'survey_name': 'Consumer Price Index - Urban Wage Earners and Clerical Workers (Old Series)'},\n",
       "   {'survey_abbreviation': 'NB',\n",
       "    'survey_name': 'National Compensation Survey-Benefits'},\n",
       "   {'survey_abbreviation': 'NC',\n",
       "    'survey_name': 'National Compensation Survey'},\n",
       "   {'survey_abbreviation': 'ND',\n",
       "    'survey_name': 'Producer Price Index Industry Data'},\n",
       "   {'survey_abbreviation': 'NW',\n",
       "    'survey_name': 'National Compensation Survey'},\n",
       "   {'survey_abbreviation': 'OE',\n",
       "    'survey_name': 'Occupational Employment Statistics'},\n",
       "   {'survey_abbreviation': 'OR', 'survey_name': 'Occupational Requirements'},\n",
       "   {'survey_abbreviation': 'PC',\n",
       "    'survey_name': 'Producer Price Index Industry Data'},\n",
       "   {'survey_abbreviation': 'PD',\n",
       "    'survey_name': 'Producer Price Index - Discontinued (SIC)'},\n",
       "   {'survey_abbreviation': 'PF',\n",
       "    'survey_name': 'Federal Government Productivity Index'},\n",
       "   {'survey_abbreviation': 'PI', 'survey_name': 'Industry Productivity Index'},\n",
       "   {'survey_abbreviation': 'PR',\n",
       "    'survey_name': 'Major Sector Productivity and Costs'},\n",
       "   {'survey_abbreviation': 'SA',\n",
       "    'survey_name': 'State and Area Employment, Hours, and Earnings (SIC)'},\n",
       "   {'survey_abbreviation': 'SH',\n",
       "    'survey_name': 'Occupational injuries and illnesses: industry data (1989-2001)'},\n",
       "   {'survey_abbreviation': 'SI',\n",
       "    'survey_name': 'Occupational injuries and illnesses: industry data (2002)'},\n",
       "   {'survey_abbreviation': 'SM',\n",
       "    'survey_name': 'State and Area Employment, Hours, and Earnings'},\n",
       "   {'survey_abbreviation': 'SU',\n",
       "    'survey_name': 'Consumer Price Index - Chained Consumer Price Index'},\n",
       "   {'survey_abbreviation': 'TU', 'survey_name': 'American Time Use'},\n",
       "   {'survey_abbreviation': 'WD',\n",
       "    'survey_name': 'Producer Price Index Commodity-Discontinued Series'},\n",
       "   {'survey_abbreviation': 'WM', 'survey_name': 'Wage Modeling'},\n",
       "   {'survey_abbreviation': 'WP',\n",
       "    'survey_name': 'Producer Price Index-Commodities'},\n",
       "   {'survey_abbreviation': 'WS', 'survey_name': 'Work Stoppage Data'}]}}"
      ]
     },
     "execution_count": 5,
     "metadata": {},
     "output_type": "execute_result"
    }
   ],
   "source": [
    "s_json"
   ]
  },
  {
   "cell_type": "code",
   "execution_count": 6,
   "metadata": {},
   "outputs": [],
   "source": [
    "surveys = s_json[\"Results\"][\"survey\"]"
   ]
  },
  {
   "cell_type": "code",
   "execution_count": 7,
   "metadata": {},
   "outputs": [
    {
     "data": {
      "text/plain": [
       "[{'survey_abbreviation': 'AP',\n",
       "  'survey_name': 'Consumer Price Index - Average Price Data'},\n",
       " {'survey_abbreviation': 'BD', 'survey_name': 'Business Employment Dynamics'},\n",
       " {'survey_abbreviation': 'BG',\n",
       "  'survey_name': 'Collective Bargaining Agreements-State and Local Government'},\n",
       " {'survey_abbreviation': 'BP',\n",
       "  'survey_name': 'Collective Bargaining Agreements-Private Sector'},\n",
       " {'survey_abbreviation': 'CC',\n",
       "  'survey_name': 'Employer Costs for Employee Compensation'},\n",
       " {'survey_abbreviation': 'CD',\n",
       "  'survey_name': 'Nonfatal cases involving days away from work: selected characteristics'},\n",
       " {'survey_abbreviation': 'CE',\n",
       "  'survey_name': 'Employment, Hours, and Earnings from the Current Employment Statistics survey (National)'},\n",
       " {'survey_abbreviation': 'CF',\n",
       "  'survey_name': 'Census of Fatal Occupational Injuries'},\n",
       " {'survey_abbreviation': 'CH',\n",
       "  'survey_name': 'Nonfatal cases involving days away from work: selected characteristics (2003 - 2010)'},\n",
       " {'survey_abbreviation': 'CI', 'survey_name': 'Employment Cost Index'},\n",
       " {'survey_abbreviation': 'CM',\n",
       "  'survey_name': 'Employer Costs for Employee Compensation'},\n",
       " {'survey_abbreviation': 'CS',\n",
       "  'survey_name': 'Nonfatal cases involving days away from work: selected characteristics (2011 forward)'},\n",
       " {'survey_abbreviation': 'CU',\n",
       "  'survey_name': 'Consumer Price Index - All Urban Consumers'},\n",
       " {'survey_abbreviation': 'CW',\n",
       "  'survey_name': 'Consumer Price Index - Urban Wage Earners and Clerical Workers'},\n",
       " {'survey_abbreviation': 'CX', 'survey_name': 'Consumer Expenditure Survey'},\n",
       " {'survey_abbreviation': 'EB', 'survey_name': 'Employee Benefits Survey'},\n",
       " {'survey_abbreviation': 'EC', 'survey_name': 'Employment Cost Index'},\n",
       " {'survey_abbreviation': 'EE',\n",
       "  'survey_name': 'National Employment, Hours, and Earnings'},\n",
       " {'survey_abbreviation': 'EI', 'survey_name': 'Import/Export Price Indexes'},\n",
       " {'survey_abbreviation': 'EN',\n",
       "  'survey_name': 'Quarterly Census of Employment and Wages'},\n",
       " {'survey_abbreviation': 'EP',\n",
       "  'survey_name': 'Employment Projections by Industry'},\n",
       " {'survey_abbreviation': 'EW',\n",
       "  'survey_name': 'Quarterly Census of Employment and Wages (SIC)'},\n",
       " {'survey_abbreviation': 'FI',\n",
       "  'survey_name': 'Census of Fatal Occupational Injuries (2003 - 2010)'},\n",
       " {'survey_abbreviation': 'FM',\n",
       "  'survey_name': 'Marital and family labor force statistics from the Current Population Survey'},\n",
       " {'survey_abbreviation': 'FW',\n",
       "  'survey_name': 'Census of Fatal Occupational Injuries (2011 forward)'},\n",
       " {'survey_abbreviation': 'GG', 'survey_name': 'Green Goods and Services'},\n",
       " {'survey_abbreviation': 'GP', 'survey_name': 'Geographic Profile'},\n",
       " {'survey_abbreviation': 'HC',\n",
       "  'survey_name': 'Nonfatal cases involving days away from work: Selected Characteristics (2002)'},\n",
       " {'survey_abbreviation': 'HS',\n",
       "  'survey_name': 'Occupational injuries and illnesses: industry data (pre-1989)'},\n",
       " {'survey_abbreviation': 'II',\n",
       "  'survey_name': 'Occupational injuries and illnesses: industry data'},\n",
       " {'survey_abbreviation': 'IN',\n",
       "  'survey_name': 'International Labor Comparison'},\n",
       " {'survey_abbreviation': 'IP', 'survey_name': 'Industry Productivity'},\n",
       " {'survey_abbreviation': 'IS',\n",
       "  'survey_name': 'Occupational injuries and illnesses industry data'},\n",
       " {'survey_abbreviation': 'JL',\n",
       "  'survey_name': 'Job Openings and Labor Turnover Survey'},\n",
       " {'survey_abbreviation': 'JT',\n",
       "  'survey_name': 'Job Openings and Labor Turnover Survey'},\n",
       " {'survey_abbreviation': 'LA',\n",
       "  'survey_name': 'Local Area Unemployment Statistics'},\n",
       " {'survey_abbreviation': 'LE',\n",
       "  'survey_name': 'Weekly and hourly earnings data from the Current Population Survey'},\n",
       " {'survey_abbreviation': 'LF',\n",
       "  'survey_name': 'Labor Force Statistics from the Current Population Survey (SIC)'},\n",
       " {'survey_abbreviation': 'LI',\n",
       "  'survey_name': 'Consumer Price Index - Department Store Inventory Price Index'},\n",
       " {'survey_abbreviation': 'LN',\n",
       "  'survey_name': 'Labor Force Statistics from the Current Population Survey'},\n",
       " {'survey_abbreviation': 'LU',\n",
       "  'survey_name': 'Union affiliation data from the Current Population Survey'},\n",
       " {'survey_abbreviation': 'ML', 'survey_name': 'Mass Layoff Statistics'},\n",
       " {'survey_abbreviation': 'MP',\n",
       "  'survey_name': 'Major Sector Multifactor Productivity'},\n",
       " {'survey_abbreviation': 'MU',\n",
       "  'survey_name': 'Consumer Price Index - All Urban Consumers (Old Series)'},\n",
       " {'survey_abbreviation': 'MW',\n",
       "  'survey_name': 'Consumer Price Index - Urban Wage Earners and Clerical Workers (Old Series)'},\n",
       " {'survey_abbreviation': 'NB',\n",
       "  'survey_name': 'National Compensation Survey-Benefits'},\n",
       " {'survey_abbreviation': 'NC', 'survey_name': 'National Compensation Survey'},\n",
       " {'survey_abbreviation': 'ND',\n",
       "  'survey_name': 'Producer Price Index Industry Data'},\n",
       " {'survey_abbreviation': 'NW', 'survey_name': 'National Compensation Survey'},\n",
       " {'survey_abbreviation': 'OE',\n",
       "  'survey_name': 'Occupational Employment Statistics'},\n",
       " {'survey_abbreviation': 'OR', 'survey_name': 'Occupational Requirements'},\n",
       " {'survey_abbreviation': 'PC',\n",
       "  'survey_name': 'Producer Price Index Industry Data'},\n",
       " {'survey_abbreviation': 'PD',\n",
       "  'survey_name': 'Producer Price Index - Discontinued (SIC)'},\n",
       " {'survey_abbreviation': 'PF',\n",
       "  'survey_name': 'Federal Government Productivity Index'},\n",
       " {'survey_abbreviation': 'PI', 'survey_name': 'Industry Productivity Index'},\n",
       " {'survey_abbreviation': 'PR',\n",
       "  'survey_name': 'Major Sector Productivity and Costs'},\n",
       " {'survey_abbreviation': 'SA',\n",
       "  'survey_name': 'State and Area Employment, Hours, and Earnings (SIC)'},\n",
       " {'survey_abbreviation': 'SH',\n",
       "  'survey_name': 'Occupational injuries and illnesses: industry data (1989-2001)'},\n",
       " {'survey_abbreviation': 'SI',\n",
       "  'survey_name': 'Occupational injuries and illnesses: industry data (2002)'},\n",
       " {'survey_abbreviation': 'SM',\n",
       "  'survey_name': 'State and Area Employment, Hours, and Earnings'},\n",
       " {'survey_abbreviation': 'SU',\n",
       "  'survey_name': 'Consumer Price Index - Chained Consumer Price Index'},\n",
       " {'survey_abbreviation': 'TU', 'survey_name': 'American Time Use'},\n",
       " {'survey_abbreviation': 'WD',\n",
       "  'survey_name': 'Producer Price Index Commodity-Discontinued Series'},\n",
       " {'survey_abbreviation': 'WM', 'survey_name': 'Wage Modeling'},\n",
       " {'survey_abbreviation': 'WP',\n",
       "  'survey_name': 'Producer Price Index-Commodities'},\n",
       " {'survey_abbreviation': 'WS', 'survey_name': 'Work Stoppage Data'}]"
      ]
     },
     "execution_count": 7,
     "metadata": {},
     "output_type": "execute_result"
    }
   ],
   "source": [
    "# A vector of all the surveys\n",
    "surveys"
   ]
  },
  {
   "cell_type": "code",
   "execution_count": 8,
   "metadata": {},
   "outputs": [
    {
     "data": {
      "text/plain": [
       "list"
      ]
     },
     "execution_count": 8,
     "metadata": {},
     "output_type": "execute_result"
    }
   ],
   "source": [
    "type(surveys)"
   ]
  },
  {
   "cell_type": "code",
   "execution_count": 9,
   "metadata": {},
   "outputs": [
    {
     "data": {
      "text/plain": [
       "{'survey_abbreviation': 'CX', 'survey_name': 'Consumer Expenditure Survey'}"
      ]
     },
     "execution_count": 9,
     "metadata": {},
     "output_type": "execute_result"
    }
   ],
   "source": [
    "# Example 1:\n",
    "surveys[14] #the 15th element of the vector"
   ]
  },
  {
   "cell_type": "code",
   "execution_count": 10,
   "metadata": {},
   "outputs": [
    {
     "data": {
      "text/plain": [
       "{'survey_abbreviation': 'CU',\n",
       " 'survey_name': 'Consumer Price Index - All Urban Consumers'}"
      ]
     },
     "execution_count": 10,
     "metadata": {},
     "output_type": "execute_result"
    }
   ],
   "source": [
    "#Example 2:\n",
    "surveys[12] #CPI for urband consumers"
   ]
  },
  {
   "cell_type": "code",
   "execution_count": 11,
   "metadata": {},
   "outputs": [
    {
     "name": "stdout",
     "output_type": "stream",
     "text": [
      "Consumer Price Index - Average Price Data (AP)\n",
      "Business Employment Dynamics (BD)\n",
      "Collective Bargaining Agreements-State and Local Government (BG)\n",
      "Collective Bargaining Agreements-Private Sector (BP)\n",
      "Employer Costs for Employee Compensation (CC)\n",
      "Nonfatal cases involving days away from work: selected characteristics (CD)\n",
      "Employment, Hours, and Earnings from the Current Employment Statistics survey (National) (CE)\n",
      "Census of Fatal Occupational Injuries (CF)\n",
      "Nonfatal cases involving days away from work: selected characteristics (2003 - 2010) (CH)\n",
      "Employment Cost Index (CI)\n",
      "Employer Costs for Employee Compensation (CM)\n",
      "Nonfatal cases involving days away from work: selected characteristics (2011 forward) (CS)\n",
      "Consumer Price Index - All Urban Consumers (CU)\n",
      "Consumer Price Index - Urban Wage Earners and Clerical Workers (CW)\n",
      "Consumer Expenditure Survey (CX)\n",
      "Employee Benefits Survey (EB)\n",
      "Employment Cost Index (EC)\n",
      "National Employment, Hours, and Earnings (EE)\n",
      "Import/Export Price Indexes (EI)\n",
      "Quarterly Census of Employment and Wages (EN)\n",
      "Employment Projections by Industry (EP)\n",
      "Quarterly Census of Employment and Wages (SIC) (EW)\n",
      "Census of Fatal Occupational Injuries (2003 - 2010) (FI)\n",
      "Marital and family labor force statistics from the Current Population Survey (FM)\n",
      "Census of Fatal Occupational Injuries (2011 forward) (FW)\n",
      "Green Goods and Services (GG)\n",
      "Geographic Profile (GP)\n",
      "Nonfatal cases involving days away from work: Selected Characteristics (2002) (HC)\n",
      "Occupational injuries and illnesses: industry data (pre-1989) (HS)\n",
      "Occupational injuries and illnesses: industry data (II)\n",
      "International Labor Comparison (IN)\n",
      "Industry Productivity (IP)\n",
      "Occupational injuries and illnesses industry data (IS)\n",
      "Job Openings and Labor Turnover Survey (JL)\n",
      "Job Openings and Labor Turnover Survey (JT)\n",
      "Local Area Unemployment Statistics (LA)\n",
      "Weekly and hourly earnings data from the Current Population Survey (LE)\n",
      "Labor Force Statistics from the Current Population Survey (SIC) (LF)\n",
      "Consumer Price Index - Department Store Inventory Price Index (LI)\n",
      "Labor Force Statistics from the Current Population Survey (LN)\n",
      "Union affiliation data from the Current Population Survey (LU)\n",
      "Mass Layoff Statistics (ML)\n",
      "Major Sector Multifactor Productivity (MP)\n",
      "Consumer Price Index - All Urban Consumers (Old Series) (MU)\n",
      "Consumer Price Index - Urban Wage Earners and Clerical Workers (Old Series) (MW)\n",
      "National Compensation Survey-Benefits (NB)\n",
      "National Compensation Survey (NC)\n",
      "Producer Price Index Industry Data (ND)\n",
      "National Compensation Survey (NW)\n",
      "Occupational Employment Statistics (OE)\n",
      "Occupational Requirements (OR)\n",
      "Producer Price Index Industry Data (PC)\n",
      "Producer Price Index - Discontinued (SIC) (PD)\n",
      "Federal Government Productivity Index (PF)\n",
      "Industry Productivity Index (PI)\n",
      "Major Sector Productivity and Costs (PR)\n",
      "State and Area Employment, Hours, and Earnings (SIC) (SA)\n",
      "Occupational injuries and illnesses: industry data (1989-2001) (SH)\n",
      "Occupational injuries and illnesses: industry data (2002) (SI)\n",
      "State and Area Employment, Hours, and Earnings (SM)\n",
      "Consumer Price Index - Chained Consumer Price Index (SU)\n",
      "American Time Use (TU)\n",
      "Producer Price Index Commodity-Discontinued Series (WD)\n",
      "Wage Modeling (WM)\n",
      "Producer Price Index-Commodities (WP)\n",
      "Work Stoppage Data (WS)\n"
     ]
    }
   ],
   "source": [
    "for s in surveys:\n",
    "    print( s['survey_name']+\" (\" + s['survey_abbreviation'] + \")\" )\n"
   ]
  },
  {
   "cell_type": "code",
   "execution_count": 12,
   "metadata": {},
   "outputs": [
    {
     "name": "stdout",
     "output_type": "stream",
     "text": [
      "Number of surveys: 66\n"
     ]
    }
   ],
   "source": [
    "l = len(surveys) #number of surveys\n",
    "print(\"Number of surveys:\",l)"
   ]
  },
  {
   "cell_type": "markdown",
   "metadata": {},
   "source": [
    "### Aside:  parenthesis, brackets, etc.\n",
    "\n",
    "**parenthesis** ```( )``` are used for:\n",
    "- changing the order of operations in a mathemtical expression: ```z = 2 * (x + y)```\n",
    "- invoking a function call ```cos(1.25)```\n",
    "- defining tuples ``` t = (1,2,3)```\n",
    "\n",
    "**Square brackets** ```[]``` are used for:\n",
    "- accessing an element in a list (aka an array) ```surveys[14]``` is the 15th element of the list ```surveys```\n",
    "- accessing a key in a dictionary ```s['survey_name']```\n",
    "\n",
    "**Curley brackets** ```{}``` are used for \n",
    "- defining a dictionary"
   ]
  },
  {
   "cell_type": "markdown",
   "metadata": {},
   "source": [
    "We can look at a single survey:"
   ]
  },
  {
   "cell_type": "code",
   "execution_count": 13,
   "metadata": {},
   "outputs": [],
   "source": [
    "# In Python we can chain operations\n",
    "\n",
    "cu = requests.get(\"https://api.bls.gov/publicAPI/v2/surveys/CU\").json()"
   ]
  },
  {
   "cell_type": "code",
   "execution_count": 14,
   "metadata": {},
   "outputs": [
    {
     "data": {
      "text/plain": [
       "{'status': 'REQUEST_SUCCEEDED',\n",
       " 'responseTime': 41,\n",
       " 'message': [],\n",
       " 'Results': {'survey': [{'survey_name': 'Consumer Price Index - All Urban Consumers',\n",
       "    'survey_abbreviation': 'CU',\n",
       "    'allowsNetChange': 'false',\n",
       "    'allowsPercentChange': 'true',\n",
       "    'hasAnnualAverages': 'true'}]}}"
      ]
     },
     "execution_count": 14,
     "metadata": {},
     "output_type": "execute_result"
    }
   ],
   "source": [
    "cu"
   ]
  },
  {
   "cell_type": "markdown",
   "metadata": {},
   "source": [
    "## Series ID and format\n",
    "\n",
    "The full explanation of how to constuct the series (variable) name is [here](https://www.bls.gov/help/hlpforma.htm).\n",
    "\n",
    "We will go over it in great details for the [CPI data](https://www.bls.gov/help/hlpforma.htm#CX) (survey id CU).\n",
    "\n",
    "Each variable has a name of length up to 16 characters that has a very specific structure:"
   ]
  },
  {
   "cell_type": "markdown",
   "metadata": {},
   "source": [
    "```\n",
    "                      1         2\n",
    "\t             12345678901234567890\n",
    "\tSeries ID    CUUR0000SA0L1E\n",
    "\tPositions       Value           Field Name\n",
    "\t1-2             CU              Prefix\n",
    "\t3               U               Not Seasonal Adjustment Code\n",
    "\t4               R               Periodicity Code\n",
    "\t5-8             0000            Area Code\n",
    "\t9               S               Base Code\n",
    "\t10-16           A0L1E           Item Code\n",
    "```\n",
    "\n",
    "Note:  ```CUUR0000SA0L1E``` is just an example."
   ]
  },
  {
   "cell_type": "markdown",
   "metadata": {},
   "source": [
    "### First two letters\n",
    "\n",
    "Since we are going to use the CU survey, every variable name will start with the letters ```CU```."
   ]
  },
  {
   "cell_type": "markdown",
   "metadata": {},
   "source": [
    "### Third letter\n",
    "\n",
    "It will always be ```U``` standing for not seasonaly adjusted.\n",
    "\n",
    "> Indicates the adjustment of time series data to eliminate the effect of intrayear variations which tend to occur during the same period on an annual basis (i.e. Where U=Unadjusted and S=Seasonally Adjusted). "
   ]
  },
  {
   "cell_type": "markdown",
   "metadata": {},
   "source": [
    "### Forth letter\n",
    "\n",
    "R=monthly and S=semi-annual data. We will use ```R```.\n",
    "\n",
    "<p style=\"background-color:#ccccee;font-size: 18px;\">\n",
    "Therefore, so far, ALL the variables names for the variables that we will aceess will start with ```CUUR```.\n",
    "    </p>"
   ]
  },
  {
   "cell_type": "markdown",
   "metadata": {},
   "source": [
    "### DIgits/characters 5-8\n",
    "\n",
    "These include the area codes used by the BLS (they have nothing to do with phone area codes). \n",
    "\n",
    "[List of area codes](https://download.bls.gov/pub/time.series/cu/cu.area)\n",
    "\n",
    "For example:\n",
    "- 0000\tU.S. city average\n",
    "- A104\tPittsburgh, PA\n",
    "- A210\tCleveland-Akron, OH\n",
    "- S12A\tNew York-Newark-Jersey City, NY-NJ-PA\t\n",
    "- S49A\tLos Angeles-Long Beach-Anaheim, CA\t\n",
    "\n",
    "etc..."
   ]
  },
  {
   "cell_type": "markdown",
   "metadata": {},
   "source": [
    "# Character 9\n",
    "\n",
    "Indicates the 'base' of the series, i.e. which time period is normalized to 100.\n",
    "\n",
    ">Indicates the designated reference date from which price change is measured, where the \"current\" base year is 1982-84=100 or more recent (S) and the \"alternate\" base year (A) is prior to the current base year. \n",
    "\n",
    "We will use ```S```."
   ]
  },
  {
   "cell_type": "markdown",
   "metadata": {},
   "source": [
    "## Characters 10-16\n",
    "\n",
    "This part contains upto 7 characters indicatin item code.\n",
    "\n",
    "[List of item codes](https://download.bls.gov/pub/time.series/cu/cu.item)\n",
    "\n",
    "<p style=\"font-size: 24px;color:red;\">\n",
    "    Warning: The above webpage lists Character 9 AND characters 10-16!\n",
    "</p>\n",
    "    \n",
    "\n",
    "Examples (characters 10-16):\n",
    "\n",
    "- A0\tAll items (That's the CPI that is being published)\n",
    "- AF111\tCereals and bakery products\n",
    "- ARC\tRecreation commodities\t\n",
    "- EFN02\tFrozen noncarbonated juices and drinks\n",
    "\n",
    "etc...\n",
    "\n",
    "The length of the item code indicates if it's a category, sub-category. sub-sub-category, etc."
   ]
  },
  {
   "cell_type": "markdown",
   "metadata": {},
   "source": [
    "## Examples:\n",
    "\n",
    "**Example 1:**  CUURA104SEGD03\n",
    "\n",
    "<p style=\"font-size: 32px;-webkit-text-stroke: 2px black;letter-spacing: 10px;\"> \n",
    "    CU|U|R|A104|S|EGD03\n",
    "</p>\n",
    "\n",
    "price index for urban consumers (CU), which is not seasonally adjusted (U), at a monthly frequency (R), for consumers living in the Pittsburgh (A104), using 1982-1984 as the base (S), for laundry and dry cleaning services (SEGD03).\n",
    "\n",
    "**Example 2:**  CUUR0350SEFK\n",
    "<p style=\"font-size: 32px;-webkit-text-stroke: 2px black;letter-spacing: 10px;\"> \n",
    "    CU|U|R|0350|S|EFK\n",
    "</p>\n",
    "\n",
    "price index for urban consumers (CU), which is not seasonally adjusted (U), at a monthly frequency (R), for consumers living in the South East region (0350), using 1982-1984 as the base (S), for fresh fruits (SEFK).\n"
   ]
  },
  {
   "cell_type": "markdown",
   "metadata": {},
   "source": [
    "### challange\n",
    "\n",
    "Can you build the variable name for the price indext for urban consumers living in Dallas-Fort Worth-Arlington, TX, which is not seasonally adjusted, uses 1982-84 as the base for Lettuce?"
   ]
  },
  {
   "cell_type": "markdown",
   "metadata": {},
   "source": [
    "# Retrieving data from the API\n"
   ]
  },
  {
   "cell_type": "markdown",
   "metadata": {},
   "source": [
    "## Single series with no parameters\n",
    "\n",
    "If you want to retrieve a single series without any aditional parameters (i.e. starting period and end period), you can use a simple GET request without using  your api key!\n",
    "\n",
    "The following is an example \n",
    "\n",
    "Taking ```CUUR0000SEFK``` as an example, we would like to get this series of price indices from the BLS."
   ]
  },
  {
   "cell_type": "code",
   "execution_count": 17,
   "metadata": {},
   "outputs": [],
   "source": [
    "base_url = 'https://api.bls.gov/publicAPI/v2/timeseries/data/'\n",
    "\n",
    "series = 'CUUR0000SEFK'\n",
    "\n",
    "url = base_url + series\n",
    "\n",
    "r = requests.get(url).json()"
   ]
  },
  {
   "cell_type": "code",
   "execution_count": 18,
   "metadata": {},
   "outputs": [
    {
     "data": {
      "text/plain": [
       "{'status': 'REQUEST_SUCCEEDED',\n",
       " 'responseTime': 219,\n",
       " 'message': [],\n",
       " 'Results': {'series': [{'seriesID': 'CUUR0000SEFK',\n",
       "    'data': [{'year': '2021',\n",
       "      'period': 'M12',\n",
       "      'periodName': 'December',\n",
       "      'value': '386.234',\n",
       "      'footnotes': [{}]},\n",
       "     {'year': '2021',\n",
       "      'period': 'M11',\n",
       "      'periodName': 'November',\n",
       "      'value': '382.267',\n",
       "      'footnotes': [{}]},\n",
       "     {'year': '2021',\n",
       "      'period': 'M10',\n",
       "      'periodName': 'October',\n",
       "      'value': '379.316',\n",
       "      'footnotes': [{}]},\n",
       "     {'year': '2021',\n",
       "      'period': 'M09',\n",
       "      'periodName': 'September',\n",
       "      'value': '376.624',\n",
       "      'footnotes': [{}]},\n",
       "     {'year': '2021',\n",
       "      'period': 'M08',\n",
       "      'periodName': 'August',\n",
       "      'value': '372.189',\n",
       "      'footnotes': [{}]},\n",
       "     {'year': '2021',\n",
       "      'period': 'M07',\n",
       "      'periodName': 'July',\n",
       "      'value': '371.970',\n",
       "      'footnotes': [{}]},\n",
       "     {'year': '2021',\n",
       "      'period': 'M06',\n",
       "      'periodName': 'June',\n",
       "      'value': '378.790',\n",
       "      'footnotes': [{}]},\n",
       "     {'year': '2021',\n",
       "      'period': 'M05',\n",
       "      'periodName': 'May',\n",
       "      'value': '382.112',\n",
       "      'footnotes': [{}]},\n",
       "     {'year': '2021',\n",
       "      'period': 'M04',\n",
       "      'periodName': 'April',\n",
       "      'value': '382.464',\n",
       "      'footnotes': [{}]},\n",
       "     {'year': '2021',\n",
       "      'period': 'M03',\n",
       "      'periodName': 'March',\n",
       "      'value': '371.974',\n",
       "      'footnotes': [{}]},\n",
       "     {'year': '2021',\n",
       "      'period': 'M02',\n",
       "      'periodName': 'February',\n",
       "      'value': '369.444',\n",
       "      'footnotes': [{}]},\n",
       "     {'year': '2021',\n",
       "      'period': 'M01',\n",
       "      'periodName': 'January',\n",
       "      'value': '364.882',\n",
       "      'footnotes': [{}]},\n",
       "     {'year': '2020',\n",
       "      'period': 'M12',\n",
       "      'periodName': 'December',\n",
       "      'value': '358.011',\n",
       "      'footnotes': [{}]},\n",
       "     {'year': '2020',\n",
       "      'period': 'M11',\n",
       "      'periodName': 'November',\n",
       "      'value': '361.413',\n",
       "      'footnotes': [{}]},\n",
       "     {'year': '2020',\n",
       "      'period': 'M10',\n",
       "      'periodName': 'October',\n",
       "      'value': '364.954',\n",
       "      'footnotes': [{}]},\n",
       "     {'year': '2020',\n",
       "      'period': 'M09',\n",
       "      'periodName': 'September',\n",
       "      'value': '358.661',\n",
       "      'footnotes': [{}]},\n",
       "     {'year': '2020',\n",
       "      'period': 'M08',\n",
       "      'periodName': 'August',\n",
       "      'value': '358.764',\n",
       "      'footnotes': [{}]},\n",
       "     {'year': '2020',\n",
       "      'period': 'M07',\n",
       "      'periodName': 'July',\n",
       "      'value': '353.685',\n",
       "      'footnotes': [{}]},\n",
       "     {'year': '2020',\n",
       "      'period': 'M06',\n",
       "      'periodName': 'June',\n",
       "      'value': '353.031',\n",
       "      'footnotes': [{}]},\n",
       "     {'year': '2020',\n",
       "      'period': 'M05',\n",
       "      'periodName': 'May',\n",
       "      'value': '360.968',\n",
       "      'footnotes': [{}]},\n",
       "     {'year': '2020',\n",
       "      'period': 'M04',\n",
       "      'periodName': 'April',\n",
       "      'value': '360.185',\n",
       "      'footnotes': [{}]},\n",
       "     {'year': '2020',\n",
       "      'period': 'M03',\n",
       "      'periodName': 'March',\n",
       "      'value': '352.394',\n",
       "      'footnotes': [{}]},\n",
       "     {'year': '2020',\n",
       "      'period': 'M02',\n",
       "      'periodName': 'February',\n",
       "      'value': '350.446',\n",
       "      'footnotes': [{}]},\n",
       "     {'year': '2020',\n",
       "      'period': 'M01',\n",
       "      'periodName': 'January',\n",
       "      'value': '352.185',\n",
       "      'footnotes': [{}]},\n",
       "     {'year': '2019',\n",
       "      'period': 'M12',\n",
       "      'periodName': 'December',\n",
       "      'value': '353.047',\n",
       "      'footnotes': [{}]},\n",
       "     {'year': '2019',\n",
       "      'period': 'M11',\n",
       "      'periodName': 'November',\n",
       "      'value': '354.704',\n",
       "      'footnotes': [{}]},\n",
       "     {'year': '2019',\n",
       "      'period': 'M10',\n",
       "      'periodName': 'October',\n",
       "      'value': '363.135',\n",
       "      'footnotes': [{}]},\n",
       "     {'year': '2019',\n",
       "      'period': 'M09',\n",
       "      'periodName': 'September',\n",
       "      'value': '354.560',\n",
       "      'footnotes': [{}]},\n",
       "     {'year': '2019',\n",
       "      'period': 'M08',\n",
       "      'periodName': 'August',\n",
       "      'value': '353.387',\n",
       "      'footnotes': [{}]},\n",
       "     {'year': '2019',\n",
       "      'period': 'M07',\n",
       "      'periodName': 'July',\n",
       "      'value': '355.842',\n",
       "      'footnotes': [{}]},\n",
       "     {'year': '2019',\n",
       "      'period': 'M06',\n",
       "      'periodName': 'June',\n",
       "      'value': '356.912',\n",
       "      'footnotes': [{}]},\n",
       "     {'year': '2019',\n",
       "      'period': 'M05',\n",
       "      'periodName': 'May',\n",
       "      'value': '364.403',\n",
       "      'footnotes': [{}]},\n",
       "     {'year': '2019',\n",
       "      'period': 'M04',\n",
       "      'periodName': 'April',\n",
       "      'value': '366.358',\n",
       "      'footnotes': [{}]},\n",
       "     {'year': '2019',\n",
       "      'period': 'M03',\n",
       "      'periodName': 'March',\n",
       "      'value': '365.345',\n",
       "      'footnotes': [{}]},\n",
       "     {'year': '2019',\n",
       "      'period': 'M02',\n",
       "      'periodName': 'February',\n",
       "      'value': '365.288',\n",
       "      'footnotes': [{}]},\n",
       "     {'year': '2019',\n",
       "      'period': 'M01',\n",
       "      'periodName': 'January',\n",
       "      'value': '367.988',\n",
       "      'footnotes': [{}]}]}]}}"
      ]
     },
     "execution_count": 18,
     "metadata": {},
     "output_type": "execute_result"
    }
   ],
   "source": [
    "r"
   ]
  },
  {
   "cell_type": "markdown",
   "metadata": {},
   "source": [
    "**Be careful!** the number of requests you can make like that is limited.\n",
    "\n",
    "```JSON\n",
    "{'status': 'REQUEST_NOT_PROCESSED',\n",
    " 'responseTime': 0,\n",
    " 'message': ['Request could not be serviced, as the daily threshold for total number of requests allocated to the user has been reached.'],\n",
    " 'Results': {}}\n",
    " ```"
   ]
  },
  {
   "cell_type": "markdown",
   "metadata": {},
   "source": [
    "To be continued..."
   ]
  }
 ],
 "metadata": {
  "@webio": {
   "lastCommId": null,
   "lastKernelId": null
  },
  "kernelspec": {
   "display_name": "Python 3",
   "language": "python",
   "name": "python3"
  },
  "language_info": {
   "codemirror_mode": {
    "name": "ipython",
    "version": 3
   },
   "file_extension": ".py",
   "mimetype": "text/x-python",
   "name": "python",
   "nbconvert_exporter": "python",
   "pygments_lexer": "ipython3",
   "version": "3.8.8"
  }
 },
 "nbformat": 4,
 "nbformat_minor": 4
}
