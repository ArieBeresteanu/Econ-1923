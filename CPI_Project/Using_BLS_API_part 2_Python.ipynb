{
 "cells": [
  {
   "cell_type": "markdown",
   "id": "bfd43d4b",
   "metadata": {},
   "source": [
    "# Accessing BLS API\n",
    "\n",
    "**Part 2**\n",
    "\n",
    "In thins notebook we will learn\n",
    "1. How to write a simple function that computes the inflation\n",
    "2. How to retrive several serises from the API\n",
    "\n",
    "The following new Python commands (functions) will be used:\n",
    "1. ```round()```\n",
    "2. ```append()```\n",
    "3. ```reverse()```\n",
    "4. ```map()```\n"
   ]
  },
  {
   "cell_type": "code",
   "execution_count": 1,
   "id": "a32d7139",
   "metadata": {},
   "outputs": [],
   "source": [
    "import requests\n",
    "import json"
   ]
  },
  {
   "cell_type": "markdown",
   "id": "f7408cee",
   "metadata": {},
   "source": [
    "## Inflation\n",
    "\n",
    "We define _Inflation_ to be the change in the price level of the basket of products consumed by all urban consumers computed over a period of 12 months.\n",
    "\n",
    "In other words it's the change in CUUR000SA0 in percent for a 12 months period."
   ]
  },
  {
   "cell_type": "code",
   "execution_count": 2,
   "id": "c03dc74a",
   "metadata": {},
   "outputs": [],
   "source": [
    "base_url = 'https://api.bls.gov/publicAPI/v2/timeseries/data/'\n",
    "\n",
    "series = 'CUUR0000SA0'\n",
    "\n",
    "url = base_url + series\n",
    "\n",
    "r = requests.get(url).json()"
   ]
  },
  {
   "cell_type": "code",
   "execution_count": 3,
   "id": "47177ddf",
   "metadata": {},
   "outputs": [
    {
     "data": {
      "text/plain": [
       "{'status': 'REQUEST_SUCCEEDED',\n",
       " 'responseTime': 186,\n",
       " 'message': [],\n",
       " 'Results': {'series': [{'seriesID': 'CUUR0000SA0',\n",
       "    'data': [{'year': '2022',\n",
       "      'period': 'M01',\n",
       "      'periodName': 'January',\n",
       "      'latest': 'true',\n",
       "      'value': '281.148',\n",
       "      'footnotes': [{}]},\n",
       "     {'year': '2021',\n",
       "      'period': 'M12',\n",
       "      'periodName': 'December',\n",
       "      'value': '278.802',\n",
       "      'footnotes': [{}]},\n",
       "     {'year': '2021',\n",
       "      'period': 'M11',\n",
       "      'periodName': 'November',\n",
       "      'value': '277.948',\n",
       "      'footnotes': [{}]},\n",
       "     {'year': '2021',\n",
       "      'period': 'M10',\n",
       "      'periodName': 'October',\n",
       "      'value': '276.589',\n",
       "      'footnotes': [{}]},\n",
       "     {'year': '2021',\n",
       "      'period': 'M09',\n",
       "      'periodName': 'September',\n",
       "      'value': '274.310',\n",
       "      'footnotes': [{}]},\n",
       "     {'year': '2021',\n",
       "      'period': 'M08',\n",
       "      'periodName': 'August',\n",
       "      'value': '273.567',\n",
       "      'footnotes': [{}]},\n",
       "     {'year': '2021',\n",
       "      'period': 'M07',\n",
       "      'periodName': 'July',\n",
       "      'value': '273.003',\n",
       "      'footnotes': [{}]},\n",
       "     {'year': '2021',\n",
       "      'period': 'M06',\n",
       "      'periodName': 'June',\n",
       "      'value': '271.696',\n",
       "      'footnotes': [{}]},\n",
       "     {'year': '2021',\n",
       "      'period': 'M05',\n",
       "      'periodName': 'May',\n",
       "      'value': '269.195',\n",
       "      'footnotes': [{}]},\n",
       "     {'year': '2021',\n",
       "      'period': 'M04',\n",
       "      'periodName': 'April',\n",
       "      'value': '267.054',\n",
       "      'footnotes': [{}]},\n",
       "     {'year': '2021',\n",
       "      'period': 'M03',\n",
       "      'periodName': 'March',\n",
       "      'value': '264.877',\n",
       "      'footnotes': [{}]},\n",
       "     {'year': '2021',\n",
       "      'period': 'M02',\n",
       "      'periodName': 'February',\n",
       "      'value': '263.014',\n",
       "      'footnotes': [{}]},\n",
       "     {'year': '2021',\n",
       "      'period': 'M01',\n",
       "      'periodName': 'January',\n",
       "      'value': '261.582',\n",
       "      'footnotes': [{}]},\n",
       "     {'year': '2020',\n",
       "      'period': 'M12',\n",
       "      'periodName': 'December',\n",
       "      'value': '260.474',\n",
       "      'footnotes': [{}]},\n",
       "     {'year': '2020',\n",
       "      'period': 'M11',\n",
       "      'periodName': 'November',\n",
       "      'value': '260.229',\n",
       "      'footnotes': [{}]},\n",
       "     {'year': '2020',\n",
       "      'period': 'M10',\n",
       "      'periodName': 'October',\n",
       "      'value': '260.388',\n",
       "      'footnotes': [{}]},\n",
       "     {'year': '2020',\n",
       "      'period': 'M09',\n",
       "      'periodName': 'September',\n",
       "      'value': '260.280',\n",
       "      'footnotes': [{}]},\n",
       "     {'year': '2020',\n",
       "      'period': 'M08',\n",
       "      'periodName': 'August',\n",
       "      'value': '259.918',\n",
       "      'footnotes': [{}]},\n",
       "     {'year': '2020',\n",
       "      'period': 'M07',\n",
       "      'periodName': 'July',\n",
       "      'value': '259.101',\n",
       "      'footnotes': [{}]},\n",
       "     {'year': '2020',\n",
       "      'period': 'M06',\n",
       "      'periodName': 'June',\n",
       "      'value': '257.797',\n",
       "      'footnotes': [{}]},\n",
       "     {'year': '2020',\n",
       "      'period': 'M05',\n",
       "      'periodName': 'May',\n",
       "      'value': '256.394',\n",
       "      'footnotes': [{}]},\n",
       "     {'year': '2020',\n",
       "      'period': 'M04',\n",
       "      'periodName': 'April',\n",
       "      'value': '256.389',\n",
       "      'footnotes': [{}]},\n",
       "     {'year': '2020',\n",
       "      'period': 'M03',\n",
       "      'periodName': 'March',\n",
       "      'value': '258.115',\n",
       "      'footnotes': [{}]},\n",
       "     {'year': '2020',\n",
       "      'period': 'M02',\n",
       "      'periodName': 'February',\n",
       "      'value': '258.678',\n",
       "      'footnotes': [{}]},\n",
       "     {'year': '2020',\n",
       "      'period': 'M01',\n",
       "      'periodName': 'January',\n",
       "      'value': '257.971',\n",
       "      'footnotes': [{}]}]}]}}"
      ]
     },
     "execution_count": 3,
     "metadata": {},
     "output_type": "execute_result"
    }
   ],
   "source": [
    "r"
   ]
  },
  {
   "cell_type": "markdown",
   "id": "0ab3daa1",
   "metadata": {},
   "source": [
    "We want to dig out a specific value from r. First, let's see what type of variable is r:"
   ]
  },
  {
   "cell_type": "code",
   "execution_count": 4,
   "id": "e69579f2",
   "metadata": {},
   "outputs": [
    {
     "data": {
      "text/plain": [
       "dict"
      ]
     },
     "execution_count": 4,
     "metadata": {},
     "output_type": "execute_result"
    }
   ],
   "source": [
    "type(r)"
   ]
  },
  {
   "cell_type": "markdown",
   "id": "328446d9",
   "metadata": {},
   "source": [
    "Take the relevant key/value from the dictionary:"
   ]
  },
  {
   "cell_type": "code",
   "execution_count": 5,
   "id": "8cb7a226",
   "metadata": {},
   "outputs": [
    {
     "data": {
      "text/plain": [
       "{'series': [{'seriesID': 'CUUR0000SA0',\n",
       "   'data': [{'year': '2022',\n",
       "     'period': 'M01',\n",
       "     'periodName': 'January',\n",
       "     'latest': 'true',\n",
       "     'value': '281.148',\n",
       "     'footnotes': [{}]},\n",
       "    {'year': '2021',\n",
       "     'period': 'M12',\n",
       "     'periodName': 'December',\n",
       "     'value': '278.802',\n",
       "     'footnotes': [{}]},\n",
       "    {'year': '2021',\n",
       "     'period': 'M11',\n",
       "     'periodName': 'November',\n",
       "     'value': '277.948',\n",
       "     'footnotes': [{}]},\n",
       "    {'year': '2021',\n",
       "     'period': 'M10',\n",
       "     'periodName': 'October',\n",
       "     'value': '276.589',\n",
       "     'footnotes': [{}]},\n",
       "    {'year': '2021',\n",
       "     'period': 'M09',\n",
       "     'periodName': 'September',\n",
       "     'value': '274.310',\n",
       "     'footnotes': [{}]},\n",
       "    {'year': '2021',\n",
       "     'period': 'M08',\n",
       "     'periodName': 'August',\n",
       "     'value': '273.567',\n",
       "     'footnotes': [{}]},\n",
       "    {'year': '2021',\n",
       "     'period': 'M07',\n",
       "     'periodName': 'July',\n",
       "     'value': '273.003',\n",
       "     'footnotes': [{}]},\n",
       "    {'year': '2021',\n",
       "     'period': 'M06',\n",
       "     'periodName': 'June',\n",
       "     'value': '271.696',\n",
       "     'footnotes': [{}]},\n",
       "    {'year': '2021',\n",
       "     'period': 'M05',\n",
       "     'periodName': 'May',\n",
       "     'value': '269.195',\n",
       "     'footnotes': [{}]},\n",
       "    {'year': '2021',\n",
       "     'period': 'M04',\n",
       "     'periodName': 'April',\n",
       "     'value': '267.054',\n",
       "     'footnotes': [{}]},\n",
       "    {'year': '2021',\n",
       "     'period': 'M03',\n",
       "     'periodName': 'March',\n",
       "     'value': '264.877',\n",
       "     'footnotes': [{}]},\n",
       "    {'year': '2021',\n",
       "     'period': 'M02',\n",
       "     'periodName': 'February',\n",
       "     'value': '263.014',\n",
       "     'footnotes': [{}]},\n",
       "    {'year': '2021',\n",
       "     'period': 'M01',\n",
       "     'periodName': 'January',\n",
       "     'value': '261.582',\n",
       "     'footnotes': [{}]},\n",
       "    {'year': '2020',\n",
       "     'period': 'M12',\n",
       "     'periodName': 'December',\n",
       "     'value': '260.474',\n",
       "     'footnotes': [{}]},\n",
       "    {'year': '2020',\n",
       "     'period': 'M11',\n",
       "     'periodName': 'November',\n",
       "     'value': '260.229',\n",
       "     'footnotes': [{}]},\n",
       "    {'year': '2020',\n",
       "     'period': 'M10',\n",
       "     'periodName': 'October',\n",
       "     'value': '260.388',\n",
       "     'footnotes': [{}]},\n",
       "    {'year': '2020',\n",
       "     'period': 'M09',\n",
       "     'periodName': 'September',\n",
       "     'value': '260.280',\n",
       "     'footnotes': [{}]},\n",
       "    {'year': '2020',\n",
       "     'period': 'M08',\n",
       "     'periodName': 'August',\n",
       "     'value': '259.918',\n",
       "     'footnotes': [{}]},\n",
       "    {'year': '2020',\n",
       "     'period': 'M07',\n",
       "     'periodName': 'July',\n",
       "     'value': '259.101',\n",
       "     'footnotes': [{}]},\n",
       "    {'year': '2020',\n",
       "     'period': 'M06',\n",
       "     'periodName': 'June',\n",
       "     'value': '257.797',\n",
       "     'footnotes': [{}]},\n",
       "    {'year': '2020',\n",
       "     'period': 'M05',\n",
       "     'periodName': 'May',\n",
       "     'value': '256.394',\n",
       "     'footnotes': [{}]},\n",
       "    {'year': '2020',\n",
       "     'period': 'M04',\n",
       "     'periodName': 'April',\n",
       "     'value': '256.389',\n",
       "     'footnotes': [{}]},\n",
       "    {'year': '2020',\n",
       "     'period': 'M03',\n",
       "     'periodName': 'March',\n",
       "     'value': '258.115',\n",
       "     'footnotes': [{}]},\n",
       "    {'year': '2020',\n",
       "     'period': 'M02',\n",
       "     'periodName': 'February',\n",
       "     'value': '258.678',\n",
       "     'footnotes': [{}]},\n",
       "    {'year': '2020',\n",
       "     'period': 'M01',\n",
       "     'periodName': 'January',\n",
       "     'value': '257.971',\n",
       "     'footnotes': [{}]}]}]}"
      ]
     },
     "execution_count": 5,
     "metadata": {},
     "output_type": "execute_result"
    }
   ],
   "source": [
    "r['Results']"
   ]
  },
  {
   "cell_type": "code",
   "execution_count": 6,
   "id": "2cba7da1",
   "metadata": {},
   "outputs": [
    {
     "data": {
      "text/plain": [
       "dict"
      ]
     },
     "execution_count": 6,
     "metadata": {},
     "output_type": "execute_result"
    }
   ],
   "source": [
    "type(r['Results'])"
   ]
  },
  {
   "cell_type": "code",
   "execution_count": 7,
   "id": "6157e5e2",
   "metadata": {},
   "outputs": [
    {
     "data": {
      "text/plain": [
       "dict_keys(['series'])"
      ]
     },
     "execution_count": 7,
     "metadata": {},
     "output_type": "execute_result"
    }
   ],
   "source": [
    "r['Results'].keys()"
   ]
  },
  {
   "cell_type": "markdown",
   "id": "70a2c377",
   "metadata": {},
   "source": [
    "Just one key! "
   ]
  },
  {
   "cell_type": "code",
   "execution_count": 8,
   "id": "a636f383",
   "metadata": {},
   "outputs": [
    {
     "data": {
      "text/plain": [
       "[{'seriesID': 'CUUR0000SA0',\n",
       "  'data': [{'year': '2022',\n",
       "    'period': 'M01',\n",
       "    'periodName': 'January',\n",
       "    'latest': 'true',\n",
       "    'value': '281.148',\n",
       "    'footnotes': [{}]},\n",
       "   {'year': '2021',\n",
       "    'period': 'M12',\n",
       "    'periodName': 'December',\n",
       "    'value': '278.802',\n",
       "    'footnotes': [{}]},\n",
       "   {'year': '2021',\n",
       "    'period': 'M11',\n",
       "    'periodName': 'November',\n",
       "    'value': '277.948',\n",
       "    'footnotes': [{}]},\n",
       "   {'year': '2021',\n",
       "    'period': 'M10',\n",
       "    'periodName': 'October',\n",
       "    'value': '276.589',\n",
       "    'footnotes': [{}]},\n",
       "   {'year': '2021',\n",
       "    'period': 'M09',\n",
       "    'periodName': 'September',\n",
       "    'value': '274.310',\n",
       "    'footnotes': [{}]},\n",
       "   {'year': '2021',\n",
       "    'period': 'M08',\n",
       "    'periodName': 'August',\n",
       "    'value': '273.567',\n",
       "    'footnotes': [{}]},\n",
       "   {'year': '2021',\n",
       "    'period': 'M07',\n",
       "    'periodName': 'July',\n",
       "    'value': '273.003',\n",
       "    'footnotes': [{}]},\n",
       "   {'year': '2021',\n",
       "    'period': 'M06',\n",
       "    'periodName': 'June',\n",
       "    'value': '271.696',\n",
       "    'footnotes': [{}]},\n",
       "   {'year': '2021',\n",
       "    'period': 'M05',\n",
       "    'periodName': 'May',\n",
       "    'value': '269.195',\n",
       "    'footnotes': [{}]},\n",
       "   {'year': '2021',\n",
       "    'period': 'M04',\n",
       "    'periodName': 'April',\n",
       "    'value': '267.054',\n",
       "    'footnotes': [{}]},\n",
       "   {'year': '2021',\n",
       "    'period': 'M03',\n",
       "    'periodName': 'March',\n",
       "    'value': '264.877',\n",
       "    'footnotes': [{}]},\n",
       "   {'year': '2021',\n",
       "    'period': 'M02',\n",
       "    'periodName': 'February',\n",
       "    'value': '263.014',\n",
       "    'footnotes': [{}]},\n",
       "   {'year': '2021',\n",
       "    'period': 'M01',\n",
       "    'periodName': 'January',\n",
       "    'value': '261.582',\n",
       "    'footnotes': [{}]},\n",
       "   {'year': '2020',\n",
       "    'period': 'M12',\n",
       "    'periodName': 'December',\n",
       "    'value': '260.474',\n",
       "    'footnotes': [{}]},\n",
       "   {'year': '2020',\n",
       "    'period': 'M11',\n",
       "    'periodName': 'November',\n",
       "    'value': '260.229',\n",
       "    'footnotes': [{}]},\n",
       "   {'year': '2020',\n",
       "    'period': 'M10',\n",
       "    'periodName': 'October',\n",
       "    'value': '260.388',\n",
       "    'footnotes': [{}]},\n",
       "   {'year': '2020',\n",
       "    'period': 'M09',\n",
       "    'periodName': 'September',\n",
       "    'value': '260.280',\n",
       "    'footnotes': [{}]},\n",
       "   {'year': '2020',\n",
       "    'period': 'M08',\n",
       "    'periodName': 'August',\n",
       "    'value': '259.918',\n",
       "    'footnotes': [{}]},\n",
       "   {'year': '2020',\n",
       "    'period': 'M07',\n",
       "    'periodName': 'July',\n",
       "    'value': '259.101',\n",
       "    'footnotes': [{}]},\n",
       "   {'year': '2020',\n",
       "    'period': 'M06',\n",
       "    'periodName': 'June',\n",
       "    'value': '257.797',\n",
       "    'footnotes': [{}]},\n",
       "   {'year': '2020',\n",
       "    'period': 'M05',\n",
       "    'periodName': 'May',\n",
       "    'value': '256.394',\n",
       "    'footnotes': [{}]},\n",
       "   {'year': '2020',\n",
       "    'period': 'M04',\n",
       "    'periodName': 'April',\n",
       "    'value': '256.389',\n",
       "    'footnotes': [{}]},\n",
       "   {'year': '2020',\n",
       "    'period': 'M03',\n",
       "    'periodName': 'March',\n",
       "    'value': '258.115',\n",
       "    'footnotes': [{}]},\n",
       "   {'year': '2020',\n",
       "    'period': 'M02',\n",
       "    'periodName': 'February',\n",
       "    'value': '258.678',\n",
       "    'footnotes': [{}]},\n",
       "   {'year': '2020',\n",
       "    'period': 'M01',\n",
       "    'periodName': 'January',\n",
       "    'value': '257.971',\n",
       "    'footnotes': [{}]}]}]"
      ]
     },
     "execution_count": 8,
     "metadata": {},
     "output_type": "execute_result"
    }
   ],
   "source": [
    "r['Results']['series']"
   ]
  },
  {
   "cell_type": "code",
   "execution_count": 9,
   "id": "02efd438",
   "metadata": {},
   "outputs": [
    {
     "data": {
      "text/plain": [
       "list"
      ]
     },
     "execution_count": 9,
     "metadata": {},
     "output_type": "execute_result"
    }
   ],
   "source": [
    "type(r['Results']['series'])"
   ]
  },
  {
   "cell_type": "code",
   "execution_count": 10,
   "id": "a5c50f82",
   "metadata": {},
   "outputs": [
    {
     "data": {
      "text/plain": [
       "1"
      ]
     },
     "execution_count": 10,
     "metadata": {},
     "output_type": "execute_result"
    }
   ],
   "source": [
    "len(r['Results']['series'])"
   ]
  },
  {
   "cell_type": "markdown",
   "id": "2940616d",
   "metadata": {},
   "source": [
    "Just one element!"
   ]
  },
  {
   "cell_type": "code",
   "execution_count": 11,
   "id": "32ffb080",
   "metadata": {},
   "outputs": [
    {
     "data": {
      "text/plain": [
       "{'seriesID': 'CUUR0000SA0',\n",
       " 'data': [{'year': '2022',\n",
       "   'period': 'M01',\n",
       "   'periodName': 'January',\n",
       "   'latest': 'true',\n",
       "   'value': '281.148',\n",
       "   'footnotes': [{}]},\n",
       "  {'year': '2021',\n",
       "   'period': 'M12',\n",
       "   'periodName': 'December',\n",
       "   'value': '278.802',\n",
       "   'footnotes': [{}]},\n",
       "  {'year': '2021',\n",
       "   'period': 'M11',\n",
       "   'periodName': 'November',\n",
       "   'value': '277.948',\n",
       "   'footnotes': [{}]},\n",
       "  {'year': '2021',\n",
       "   'period': 'M10',\n",
       "   'periodName': 'October',\n",
       "   'value': '276.589',\n",
       "   'footnotes': [{}]},\n",
       "  {'year': '2021',\n",
       "   'period': 'M09',\n",
       "   'periodName': 'September',\n",
       "   'value': '274.310',\n",
       "   'footnotes': [{}]},\n",
       "  {'year': '2021',\n",
       "   'period': 'M08',\n",
       "   'periodName': 'August',\n",
       "   'value': '273.567',\n",
       "   'footnotes': [{}]},\n",
       "  {'year': '2021',\n",
       "   'period': 'M07',\n",
       "   'periodName': 'July',\n",
       "   'value': '273.003',\n",
       "   'footnotes': [{}]},\n",
       "  {'year': '2021',\n",
       "   'period': 'M06',\n",
       "   'periodName': 'June',\n",
       "   'value': '271.696',\n",
       "   'footnotes': [{}]},\n",
       "  {'year': '2021',\n",
       "   'period': 'M05',\n",
       "   'periodName': 'May',\n",
       "   'value': '269.195',\n",
       "   'footnotes': [{}]},\n",
       "  {'year': '2021',\n",
       "   'period': 'M04',\n",
       "   'periodName': 'April',\n",
       "   'value': '267.054',\n",
       "   'footnotes': [{}]},\n",
       "  {'year': '2021',\n",
       "   'period': 'M03',\n",
       "   'periodName': 'March',\n",
       "   'value': '264.877',\n",
       "   'footnotes': [{}]},\n",
       "  {'year': '2021',\n",
       "   'period': 'M02',\n",
       "   'periodName': 'February',\n",
       "   'value': '263.014',\n",
       "   'footnotes': [{}]},\n",
       "  {'year': '2021',\n",
       "   'period': 'M01',\n",
       "   'periodName': 'January',\n",
       "   'value': '261.582',\n",
       "   'footnotes': [{}]},\n",
       "  {'year': '2020',\n",
       "   'period': 'M12',\n",
       "   'periodName': 'December',\n",
       "   'value': '260.474',\n",
       "   'footnotes': [{}]},\n",
       "  {'year': '2020',\n",
       "   'period': 'M11',\n",
       "   'periodName': 'November',\n",
       "   'value': '260.229',\n",
       "   'footnotes': [{}]},\n",
       "  {'year': '2020',\n",
       "   'period': 'M10',\n",
       "   'periodName': 'October',\n",
       "   'value': '260.388',\n",
       "   'footnotes': [{}]},\n",
       "  {'year': '2020',\n",
       "   'period': 'M09',\n",
       "   'periodName': 'September',\n",
       "   'value': '260.280',\n",
       "   'footnotes': [{}]},\n",
       "  {'year': '2020',\n",
       "   'period': 'M08',\n",
       "   'periodName': 'August',\n",
       "   'value': '259.918',\n",
       "   'footnotes': [{}]},\n",
       "  {'year': '2020',\n",
       "   'period': 'M07',\n",
       "   'periodName': 'July',\n",
       "   'value': '259.101',\n",
       "   'footnotes': [{}]},\n",
       "  {'year': '2020',\n",
       "   'period': 'M06',\n",
       "   'periodName': 'June',\n",
       "   'value': '257.797',\n",
       "   'footnotes': [{}]},\n",
       "  {'year': '2020',\n",
       "   'period': 'M05',\n",
       "   'periodName': 'May',\n",
       "   'value': '256.394',\n",
       "   'footnotes': [{}]},\n",
       "  {'year': '2020',\n",
       "   'period': 'M04',\n",
       "   'periodName': 'April',\n",
       "   'value': '256.389',\n",
       "   'footnotes': [{}]},\n",
       "  {'year': '2020',\n",
       "   'period': 'M03',\n",
       "   'periodName': 'March',\n",
       "   'value': '258.115',\n",
       "   'footnotes': [{}]},\n",
       "  {'year': '2020',\n",
       "   'period': 'M02',\n",
       "   'periodName': 'February',\n",
       "   'value': '258.678',\n",
       "   'footnotes': [{}]},\n",
       "  {'year': '2020',\n",
       "   'period': 'M01',\n",
       "   'periodName': 'January',\n",
       "   'value': '257.971',\n",
       "   'footnotes': [{}]}]}"
      ]
     },
     "execution_count": 11,
     "metadata": {},
     "output_type": "execute_result"
    }
   ],
   "source": [
    "r['Results']['series'][0]"
   ]
  },
  {
   "cell_type": "code",
   "execution_count": 12,
   "id": "9d4bba9e",
   "metadata": {},
   "outputs": [
    {
     "data": {
      "text/plain": [
       "dict"
      ]
     },
     "execution_count": 12,
     "metadata": {},
     "output_type": "execute_result"
    }
   ],
   "source": [
    "type(r['Results']['series'][0])"
   ]
  },
  {
   "cell_type": "code",
   "execution_count": 13,
   "id": "09752ba0",
   "metadata": {},
   "outputs": [
    {
     "data": {
      "text/plain": [
       "dict_keys(['seriesID', 'data'])"
      ]
     },
     "execution_count": 13,
     "metadata": {},
     "output_type": "execute_result"
    }
   ],
   "source": [
    "r['Results']['series'][0].keys()"
   ]
  },
  {
   "cell_type": "code",
   "execution_count": 14,
   "id": "26e4d9e1",
   "metadata": {},
   "outputs": [
    {
     "data": {
      "text/plain": [
       "'CUUR0000SA0'"
      ]
     },
     "execution_count": 14,
     "metadata": {},
     "output_type": "execute_result"
    }
   ],
   "source": [
    "r['Results']['series'][0]['seriesID']"
   ]
  },
  {
   "cell_type": "markdown",
   "id": "854b1524",
   "metadata": {},
   "source": [
    "We already know that, we need the data."
   ]
  },
  {
   "cell_type": "code",
   "execution_count": 15,
   "id": "7e48074b",
   "metadata": {},
   "outputs": [
    {
     "data": {
      "text/plain": [
       "[{'year': '2022',\n",
       "  'period': 'M01',\n",
       "  'periodName': 'January',\n",
       "  'latest': 'true',\n",
       "  'value': '281.148',\n",
       "  'footnotes': [{}]},\n",
       " {'year': '2021',\n",
       "  'period': 'M12',\n",
       "  'periodName': 'December',\n",
       "  'value': '278.802',\n",
       "  'footnotes': [{}]},\n",
       " {'year': '2021',\n",
       "  'period': 'M11',\n",
       "  'periodName': 'November',\n",
       "  'value': '277.948',\n",
       "  'footnotes': [{}]},\n",
       " {'year': '2021',\n",
       "  'period': 'M10',\n",
       "  'periodName': 'October',\n",
       "  'value': '276.589',\n",
       "  'footnotes': [{}]},\n",
       " {'year': '2021',\n",
       "  'period': 'M09',\n",
       "  'periodName': 'September',\n",
       "  'value': '274.310',\n",
       "  'footnotes': [{}]},\n",
       " {'year': '2021',\n",
       "  'period': 'M08',\n",
       "  'periodName': 'August',\n",
       "  'value': '273.567',\n",
       "  'footnotes': [{}]},\n",
       " {'year': '2021',\n",
       "  'period': 'M07',\n",
       "  'periodName': 'July',\n",
       "  'value': '273.003',\n",
       "  'footnotes': [{}]},\n",
       " {'year': '2021',\n",
       "  'period': 'M06',\n",
       "  'periodName': 'June',\n",
       "  'value': '271.696',\n",
       "  'footnotes': [{}]},\n",
       " {'year': '2021',\n",
       "  'period': 'M05',\n",
       "  'periodName': 'May',\n",
       "  'value': '269.195',\n",
       "  'footnotes': [{}]},\n",
       " {'year': '2021',\n",
       "  'period': 'M04',\n",
       "  'periodName': 'April',\n",
       "  'value': '267.054',\n",
       "  'footnotes': [{}]},\n",
       " {'year': '2021',\n",
       "  'period': 'M03',\n",
       "  'periodName': 'March',\n",
       "  'value': '264.877',\n",
       "  'footnotes': [{}]},\n",
       " {'year': '2021',\n",
       "  'period': 'M02',\n",
       "  'periodName': 'February',\n",
       "  'value': '263.014',\n",
       "  'footnotes': [{}]},\n",
       " {'year': '2021',\n",
       "  'period': 'M01',\n",
       "  'periodName': 'January',\n",
       "  'value': '261.582',\n",
       "  'footnotes': [{}]},\n",
       " {'year': '2020',\n",
       "  'period': 'M12',\n",
       "  'periodName': 'December',\n",
       "  'value': '260.474',\n",
       "  'footnotes': [{}]},\n",
       " {'year': '2020',\n",
       "  'period': 'M11',\n",
       "  'periodName': 'November',\n",
       "  'value': '260.229',\n",
       "  'footnotes': [{}]},\n",
       " {'year': '2020',\n",
       "  'period': 'M10',\n",
       "  'periodName': 'October',\n",
       "  'value': '260.388',\n",
       "  'footnotes': [{}]},\n",
       " {'year': '2020',\n",
       "  'period': 'M09',\n",
       "  'periodName': 'September',\n",
       "  'value': '260.280',\n",
       "  'footnotes': [{}]},\n",
       " {'year': '2020',\n",
       "  'period': 'M08',\n",
       "  'periodName': 'August',\n",
       "  'value': '259.918',\n",
       "  'footnotes': [{}]},\n",
       " {'year': '2020',\n",
       "  'period': 'M07',\n",
       "  'periodName': 'July',\n",
       "  'value': '259.101',\n",
       "  'footnotes': [{}]},\n",
       " {'year': '2020',\n",
       "  'period': 'M06',\n",
       "  'periodName': 'June',\n",
       "  'value': '257.797',\n",
       "  'footnotes': [{}]},\n",
       " {'year': '2020',\n",
       "  'period': 'M05',\n",
       "  'periodName': 'May',\n",
       "  'value': '256.394',\n",
       "  'footnotes': [{}]},\n",
       " {'year': '2020',\n",
       "  'period': 'M04',\n",
       "  'periodName': 'April',\n",
       "  'value': '256.389',\n",
       "  'footnotes': [{}]},\n",
       " {'year': '2020',\n",
       "  'period': 'M03',\n",
       "  'periodName': 'March',\n",
       "  'value': '258.115',\n",
       "  'footnotes': [{}]},\n",
       " {'year': '2020',\n",
       "  'period': 'M02',\n",
       "  'periodName': 'February',\n",
       "  'value': '258.678',\n",
       "  'footnotes': [{}]},\n",
       " {'year': '2020',\n",
       "  'period': 'M01',\n",
       "  'periodName': 'January',\n",
       "  'value': '257.971',\n",
       "  'footnotes': [{}]}]"
      ]
     },
     "execution_count": 15,
     "metadata": {},
     "output_type": "execute_result"
    }
   ],
   "source": [
    "r['Results']['series'][0]['data']"
   ]
  },
  {
   "cell_type": "code",
   "execution_count": 16,
   "id": "17c5d9a0",
   "metadata": {},
   "outputs": [
    {
     "data": {
      "text/plain": [
       "list"
      ]
     },
     "execution_count": 16,
     "metadata": {},
     "output_type": "execute_result"
    }
   ],
   "source": [
    "type(r['Results']['series'][0]['data'])"
   ]
  },
  {
   "cell_type": "markdown",
   "id": "755a2ff1",
   "metadata": {},
   "source": [
    "It's a list of dictionaries! The first element contains the most recent month."
   ]
  },
  {
   "cell_type": "code",
   "execution_count": 17,
   "id": "386a4e66",
   "metadata": {},
   "outputs": [
    {
     "data": {
      "text/plain": [
       "{'year': '2022',\n",
       " 'period': 'M01',\n",
       " 'periodName': 'January',\n",
       " 'latest': 'true',\n",
       " 'value': '281.148',\n",
       " 'footnotes': [{}]}"
      ]
     },
     "execution_count": 17,
     "metadata": {},
     "output_type": "execute_result"
    }
   ],
   "source": [
    "r['Results']['series'][0]['data'][0]"
   ]
  },
  {
   "cell_type": "markdown",
   "id": "4d76f821",
   "metadata": {},
   "source": [
    "We can see it's the latest."
   ]
  },
  {
   "cell_type": "code",
   "execution_count": 18,
   "id": "1162dbd9",
   "metadata": {},
   "outputs": [
    {
     "data": {
      "text/plain": [
       "dict"
      ]
     },
     "execution_count": 18,
     "metadata": {},
     "output_type": "execute_result"
    }
   ],
   "source": [
    "type(r['Results']['series'][0]['data'][0])"
   ]
  },
  {
   "cell_type": "code",
   "execution_count": 19,
   "id": "59bfc8ab",
   "metadata": {},
   "outputs": [
    {
     "data": {
      "text/plain": [
       "dict_keys(['year', 'period', 'periodName', 'latest', 'value', 'footnotes'])"
      ]
     },
     "execution_count": 19,
     "metadata": {},
     "output_type": "execute_result"
    }
   ],
   "source": [
    "r['Results']['series'][0]['data'][0].keys()"
   ]
  },
  {
   "cell_type": "markdown",
   "id": "78fa93b6",
   "metadata": {},
   "source": [
    "We need the value:"
   ]
  },
  {
   "cell_type": "code",
   "execution_count": 20,
   "id": "eb65fc1c",
   "metadata": {},
   "outputs": [
    {
     "data": {
      "text/plain": [
       "'281.148'"
      ]
     },
     "execution_count": 20,
     "metadata": {},
     "output_type": "execute_result"
    }
   ],
   "source": [
    "r['Results']['series'][0]['data'][0]['value']"
   ]
  },
  {
   "cell_type": "code",
   "execution_count": 21,
   "id": "2439f5e4",
   "metadata": {},
   "outputs": [
    {
     "data": {
      "text/plain": [
       "str"
      ]
     },
     "execution_count": 21,
     "metadata": {},
     "output_type": "execute_result"
    }
   ],
   "source": [
    "type(r['Results']['series'][0]['data'][0]['value'])"
   ]
  },
  {
   "cell_type": "markdown",
   "id": "0b06fb0e",
   "metadata": {},
   "source": [
    "Oh no! It's a string!"
   ]
  },
  {
   "cell_type": "code",
   "execution_count": 22,
   "id": "2fae1843",
   "metadata": {},
   "outputs": [
    {
     "data": {
      "text/plain": [
       "281.148"
      ]
     },
     "execution_count": 22,
     "metadata": {},
     "output_type": "execute_result"
    }
   ],
   "source": [
    "float(r['Results']['series'][0]['data'][0]['value'])"
   ]
  },
  {
   "cell_type": "markdown",
   "id": "5e71e4b1",
   "metadata": {},
   "source": [
    "Now we reached the finish line! Almost... \n",
    "\n",
    "What about inflation?"
   ]
  },
  {
   "cell_type": "code",
   "execution_count": 23,
   "id": "30f6132b",
   "metadata": {},
   "outputs": [
    {
     "name": "stdout",
     "output_type": "stream",
     "text": [
      "7.479872468289117\n"
     ]
    }
   ],
   "source": [
    "new = float(r['Results']['series'][0]['data'][0]['value'])    #the 1st elemnt is the lates month\n",
    "old = float(r['Results']['series'][0]['data'][12]['value'])   #the 13th element is a year lag\n",
    "\n",
    "inflation = (new/old - 1)*100\n",
    "\n",
    "print(inflation)"
   ]
  },
  {
   "cell_type": "markdown",
   "id": "f9c2e498",
   "metadata": {},
   "source": [
    "Can we make it look more beautiful? rounding?"
   ]
  },
  {
   "cell_type": "code",
   "execution_count": 24,
   "id": "60ec087a",
   "metadata": {},
   "outputs": [
    {
     "data": {
      "text/plain": [
       "7.5"
      ]
     },
     "execution_count": 24,
     "metadata": {},
     "output_type": "execute_result"
    }
   ],
   "source": [
    "round(inflation,1)"
   ]
  },
  {
   "cell_type": "markdown",
   "id": "fb8d30b2",
   "metadata": {},
   "source": [
    "Nicer printing:"
   ]
  },
  {
   "cell_type": "code",
   "execution_count": 25,
   "id": "7c32beaa",
   "metadata": {},
   "outputs": [
    {
     "name": "stdout",
     "output_type": "stream",
     "text": [
      "Inflation in the last 12 months was  7.5 %\n"
     ]
    }
   ],
   "source": [
    "print('Inflation in the last 12 months was ',round(inflation,1),'%')"
   ]
  },
  {
   "cell_type": "markdown",
   "id": "9316cb93",
   "metadata": {},
   "source": [
    "We don't want to do this over and over again, we want to use a function! Moreover, we can add a bit more functionality to it!"
   ]
  },
  {
   "cell_type": "code",
   "execution_count": 26,
   "id": "76a99dd1",
   "metadata": {},
   "outputs": [],
   "source": [
    "def inflation(lag):\n",
    "    # This function computes the percent change in the level of prices (inflation) for the \n",
    "    # 12 months starting '12+lag' months ago and ending 'lag' months ago.\n",
    "    # lag is an integer input\n",
    "    \n",
    "    new = float(r['Results']['series'][0]['data'][lag]['value'])\n",
    "    old = float(r['Results']['series'][0]['data'][12+lag]['value'])\n",
    "    \n",
    "    change = (new/old - 1)*100\n",
    "    print('Inflation in the period starting ', lag, 'months ago and ending', 12+lag, 'months ago was ',round(change,1),'%')\n",
    "    return change"
   ]
  },
  {
   "cell_type": "markdown",
   "id": "bc212b46",
   "metadata": {},
   "source": [
    "Let's try it for a few months:"
   ]
  },
  {
   "cell_type": "code",
   "execution_count": 27,
   "id": "6e327fc7",
   "metadata": {},
   "outputs": [
    {
     "name": "stdout",
     "output_type": "stream",
     "text": [
      "Inflation in the period starting  0 months ago and ending 12 months ago was  7.5 %\n",
      "Inflation in the period starting  1 months ago and ending 13 months ago was  7.0 %\n",
      "Inflation in the period starting  2 months ago and ending 14 months ago was  6.8 %\n",
      "Inflation in the period starting  3 months ago and ending 15 months ago was  6.2 %\n"
     ]
    }
   ],
   "source": [
    "for lag in [0,1,2,3]:\n",
    "    inflation(lag)\n",
    "    "
   ]
  },
  {
   "cell_type": "markdown",
   "id": "0769529c",
   "metadata": {},
   "source": [
    "We can do even better!"
   ]
  },
  {
   "cell_type": "markdown",
   "id": "3a4ef83e",
   "metadata": {},
   "source": [
    "How many months of data do we have?"
   ]
  },
  {
   "cell_type": "code",
   "execution_count": 28,
   "id": "d99a51e4",
   "metadata": {},
   "outputs": [
    {
     "data": {
      "text/plain": [
       "25"
      ]
     },
     "execution_count": 28,
     "metadata": {},
     "output_type": "execute_result"
    }
   ],
   "source": [
    "len(r['Results']['series'][0]['data'])"
   ]
  },
  {
   "cell_type": "markdown",
   "id": "b939b4c1",
   "metadata": {},
   "source": [
    "Two years of data. So we can get 13 consecutive (or overlapping) lags: 0-12, 1-13, 2-14,...12-24.\n",
    "\n",
    "Let's make a diagram!"
   ]
  },
  {
   "cell_type": "code",
   "execution_count": 29,
   "id": "71cd78a9",
   "metadata": {},
   "outputs": [],
   "source": [
    "from matplotlib import pyplot as plt"
   ]
  },
  {
   "cell_type": "code",
   "execution_count": 30,
   "id": "76944608",
   "metadata": {},
   "outputs": [
    {
     "name": "stdout",
     "output_type": "stream",
     "text": [
      "Inflation in the period starting  0 months ago and ending 12 months ago was  7.5 %\n",
      "Inflation in the period starting  1 months ago and ending 13 months ago was  7.0 %\n",
      "Inflation in the period starting  2 months ago and ending 14 months ago was  6.8 %\n",
      "Inflation in the period starting  3 months ago and ending 15 months ago was  6.2 %\n",
      "Inflation in the period starting  4 months ago and ending 16 months ago was  5.4 %\n",
      "Inflation in the period starting  5 months ago and ending 17 months ago was  5.3 %\n",
      "Inflation in the period starting  6 months ago and ending 18 months ago was  5.4 %\n",
      "Inflation in the period starting  7 months ago and ending 19 months ago was  5.4 %\n",
      "Inflation in the period starting  8 months ago and ending 20 months ago was  5.0 %\n",
      "Inflation in the period starting  9 months ago and ending 21 months ago was  4.2 %\n",
      "Inflation in the period starting  10 months ago and ending 22 months ago was  2.6 %\n",
      "Inflation in the period starting  11 months ago and ending 23 months ago was  1.7 %\n",
      "Inflation in the period starting  12 months ago and ending 24 months ago was  1.4 %\n"
     ]
    }
   ],
   "source": [
    "lags =[]\n",
    "changes = []\n",
    "for i in range(13):\n",
    "    lags.append(i)\n",
    "    changes.append(inflation(i))\n"
   ]
  },
  {
   "cell_type": "code",
   "execution_count": 31,
   "id": "40606783",
   "metadata": {},
   "outputs": [
    {
     "data": {
      "text/plain": [
       "[0, 1, 2, 3, 4, 5, 6, 7, 8, 9, 10, 11, 12]"
      ]
     },
     "execution_count": 31,
     "metadata": {},
     "output_type": "execute_result"
    }
   ],
   "source": [
    "lags"
   ]
  },
  {
   "cell_type": "code",
   "execution_count": 32,
   "id": "f4b0e727",
   "metadata": {},
   "outputs": [
    {
     "data": {
      "text/plain": [
       "[7.479872468289117,\n",
       " 7.036402865545144,\n",
       " 6.809002839806477,\n",
       " 6.221868903328898,\n",
       " 5.390348855079163,\n",
       " 5.251271554874992,\n",
       " 5.365475239385398,\n",
       " 5.391451413321335,\n",
       " 4.992706537594471,\n",
       " 4.15969483870211,\n",
       " 2.619762508959189,\n",
       " 1.6762152173745104,\n",
       " 1.3997697415600863]"
      ]
     },
     "execution_count": 32,
     "metadata": {},
     "output_type": "execute_result"
    }
   ],
   "source": [
    "changes"
   ]
  },
  {
   "cell_type": "code",
   "execution_count": 33,
   "id": "c7a22efe",
   "metadata": {},
   "outputs": [
    {
     "data": {
      "text/plain": [
       "[<matplotlib.lines.Line2D at 0x201ee1e49a0>]"
      ]
     },
     "execution_count": 33,
     "metadata": {},
     "output_type": "execute_result"
    },
    {
     "data": {
      "image/png": "[encoded data removed]",
      "text/plain": [
       "<Figure size 432x288 with 1 Axes>"
      ]
     },
     "metadata": {
      "needs_background": "light"
     },
     "output_type": "display_data"
    }
   ],
   "source": [
    "plt.plot(lags, changes, color='green', marker='o', linestyle='solid')"
   ]
  },
  {
   "cell_type": "markdown",
   "id": "82728dea",
   "metadata": {},
   "source": [
    "That is going in the opposite direction!"
   ]
  },
  {
   "cell_type": "code",
   "execution_count": 34,
   "id": "9e88a847",
   "metadata": {},
   "outputs": [],
   "source": [
    "lags.reverse()"
   ]
  },
  {
   "cell_type": "code",
   "execution_count": 35,
   "id": "8b84d1e6",
   "metadata": {},
   "outputs": [
    {
     "data": {
      "text/plain": [
       "[12, 11, 10, 9, 8, 7, 6, 5, 4, 3, 2, 1, 0]"
      ]
     },
     "execution_count": 35,
     "metadata": {},
     "output_type": "execute_result"
    }
   ],
   "source": [
    "lags"
   ]
  },
  {
   "cell_type": "code",
   "execution_count": 36,
   "id": "ca14ffa8",
   "metadata": {},
   "outputs": [],
   "source": [
    "changes.reverse()"
   ]
  },
  {
   "cell_type": "code",
   "execution_count": 37,
   "id": "8a9948bd",
   "metadata": {},
   "outputs": [
    {
     "data": {
      "text/plain": [
       "[1.3997697415600863,\n",
       " 1.6762152173745104,\n",
       " 2.619762508959189,\n",
       " 4.15969483870211,\n",
       " 4.992706537594471,\n",
       " 5.391451413321335,\n",
       " 5.365475239385398,\n",
       " 5.251271554874992,\n",
       " 5.390348855079163,\n",
       " 6.221868903328898,\n",
       " 6.809002839806477,\n",
       " 7.036402865545144,\n",
       " 7.479872468289117]"
      ]
     },
     "execution_count": 37,
     "metadata": {},
     "output_type": "execute_result"
    }
   ],
   "source": [
    "changes"
   ]
  },
  {
   "cell_type": "code",
   "execution_count": 38,
   "id": "f194bf0d",
   "metadata": {},
   "outputs": [
    {
     "data": {
      "text/plain": [
       "[<matplotlib.lines.Line2D at 0x201ee2cb730>]"
      ]
     },
     "execution_count": 38,
     "metadata": {},
     "output_type": "execute_result"
    },
    {
     "data": {
      "image/png": "[encoded data removed]",
      "text/plain": [
       "<Figure size 432x288 with 1 Axes>"
      ]
     },
     "metadata": {
      "needs_background": "light"
     },
     "output_type": "display_data"
    }
   ],
   "source": [
    "plt.plot(lags, changes, color='green', marker='o', linestyle='solid')"
   ]
  },
  {
   "cell_type": "markdown",
   "id": "bbb6908e",
   "metadata": {},
   "source": [
    "WHAT??? How can that be???\n",
    "\n",
    "Explanation: No matter how we flip/reverse the X variable, plt.plot will graph the data using the ordered list. In other words from small to big."
   ]
  },
  {
   "cell_type": "markdown",
   "id": "6ef94264",
   "metadata": {},
   "source": [
    "Solution 1: Reverse only the lags."
   ]
  },
  {
   "cell_type": "code",
   "execution_count": 39,
   "id": "db13b98d",
   "metadata": {},
   "outputs": [],
   "source": [
    "changes.reverse() #back to the original"
   ]
  },
  {
   "cell_type": "code",
   "execution_count": 40,
   "id": "7815c9f6",
   "metadata": {},
   "outputs": [
    {
     "data": {
      "text/plain": [
       "[<matplotlib.lines.Line2D at 0x201ee326f70>]"
      ]
     },
     "execution_count": 40,
     "metadata": {},
     "output_type": "execute_result"
    },
    {
     "data": {
      "image/png": "[encoded data removed]",
      "text/plain": [
       "<Figure size 432x288 with 1 Axes>"
      ]
     },
     "metadata": {
      "needs_background": "light"
     },
     "output_type": "display_data"
    }
   ],
   "source": [
    "plt.plot(lags, changes, color='green', marker='o', linestyle='solid')"
   ]
  },
  {
   "cell_type": "markdown",
   "id": "21acd870",
   "metadata": {},
   "source": [
    "Great, but the X-axis labels are wrong! What can be done?"
   ]
  },
  {
   "cell_type": "markdown",
   "id": "95c10b9c",
   "metadata": {},
   "source": [
    "solution: make the X-axis variable (i.e. lags) to be a list of strings."
   ]
  },
  {
   "cell_type": "code",
   "execution_count": 41,
   "id": "61de17b4",
   "metadata": {},
   "outputs": [],
   "source": [
    "# First let's return lags to its original form\n",
    "\n",
    "lags.reverse()"
   ]
  },
  {
   "cell_type": "code",
   "execution_count": 42,
   "id": "af6bd61d",
   "metadata": {},
   "outputs": [
    {
     "data": {
      "text/plain": [
       "[0, 1, 2, 3, 4, 5, 6, 7, 8, 9, 10, 11, 12]"
      ]
     },
     "execution_count": 42,
     "metadata": {},
     "output_type": "execute_result"
    }
   ],
   "source": [
    "lags"
   ]
  },
  {
   "cell_type": "code",
   "execution_count": 43,
   "id": "e989dbc7",
   "metadata": {},
   "outputs": [],
   "source": [
    "def int2str(i):\n",
    "    return str(i)\n",
    "\n",
    "mlags = map(int2str,lags)"
   ]
  },
  {
   "cell_type": "code",
   "execution_count": 44,
   "id": "c2d5f95f",
   "metadata": {},
   "outputs": [
    {
     "data": {
      "text/plain": [
       "<map at 0x201ee34b850>"
      ]
     },
     "execution_count": 44,
     "metadata": {},
     "output_type": "execute_result"
    }
   ],
   "source": [
    "mlags"
   ]
  },
  {
   "cell_type": "markdown",
   "id": "20ced95a",
   "metadata": {},
   "source": [
    "Oh no!!! What happened? What is this weird return? We were hopint to get a list back.\n",
    "\n",
    "The answer is that ```map()``` returns a mapping (mathematically speaking) and not the result of the mappint. So in Python we need to take an extra step and ask for the output to be a list."
   ]
  },
  {
   "cell_type": "code",
   "execution_count": 45,
   "id": "49fa721e",
   "metadata": {},
   "outputs": [],
   "source": [
    "slags = list(mlags)"
   ]
  },
  {
   "cell_type": "code",
   "execution_count": 46,
   "id": "61626f02",
   "metadata": {},
   "outputs": [],
   "source": [
    "slags.reverse()"
   ]
  },
  {
   "cell_type": "code",
   "execution_count": 47,
   "id": "7a2f4102",
   "metadata": {},
   "outputs": [
    {
     "data": {
      "text/plain": [
       "['12', '11', '10', '9', '8', '7', '6', '5', '4', '3', '2', '1', '0']"
      ]
     },
     "execution_count": 47,
     "metadata": {},
     "output_type": "execute_result"
    }
   ],
   "source": [
    "slags"
   ]
  },
  {
   "cell_type": "markdown",
   "id": "128646e3",
   "metadata": {},
   "source": [
    "yay!!"
   ]
  },
  {
   "cell_type": "code",
   "execution_count": 48,
   "id": "17fba3ec",
   "metadata": {},
   "outputs": [],
   "source": [
    "changes.reverse()"
   ]
  },
  {
   "cell_type": "code",
   "execution_count": 49,
   "id": "13fbbd3b",
   "metadata": {},
   "outputs": [
    {
     "data": {
      "text/plain": [
       "[<matplotlib.lines.Line2D at 0x201ee38ab80>]"
      ]
     },
     "execution_count": 49,
     "metadata": {},
     "output_type": "execute_result"
    },
    {
     "data": {
      "image/png": "[encoded data removed]",
      "text/plain": [
       "<Figure size 432x288 with 1 Axes>"
      ]
     },
     "metadata": {
      "needs_background": "light"
     },
     "output_type": "display_data"
    }
   ],
   "source": [
    "plt.plot(slags, changes, color='green', marker='o', linestyle='solid')"
   ]
  },
  {
   "cell_type": "markdown",
   "id": "19b96c2c",
   "metadata": {},
   "source": [
    "<img src=\"http://www.clipartbest.com/cliparts/xig/aaz/xigaazLpT.gif\" height=300 width=300>"
   ]
  },
  {
   "cell_type": "markdown",
   "id": "70e38432",
   "metadata": {},
   "source": [
    "Can we do a bit more to make this graph look nicer? "
   ]
  },
  {
   "cell_type": "code",
   "execution_count": 50,
   "id": "e840da37",
   "metadata": {},
   "outputs": [
    {
     "data": {
      "image/png": "[encoded data removed]",
      "text/plain": [
       "<Figure size 432x288 with 1 Axes>"
      ]
     },
     "metadata": {
      "needs_background": "light"
     },
     "output_type": "display_data"
    }
   ],
   "source": [
    "plt.plot(slags, changes, color='green', marker='o', linestyle='solid')\n",
    "plt.title(\"Yearly change in CPI-U\")\n",
    "plt.xlabel(\"lags (months)\")\n",
    "plt.ylabel(\"Inflation\")\n",
    "plt.show()"
   ]
  },
  {
   "cell_type": "markdown",
   "id": "38561812",
   "metadata": {},
   "source": [
    "Where can you take it from here?\n",
    "\n",
    "1. Make the function infaltion(lag) accept also the name of the series we want to comput the price change for. In other words, allow the function to accept two inputs: inflation(lag,var_name)\n",
    "2. Given the above, incorporate the API GET request in the function\n",
    "3. Check for incorrect input \n",
    "4. Deal with the possibility that the reply from the API does not contain any data due to incorrect variable name or finishing the quota\n",
    "5. Change the lag to month/year label\n",
    "6. Have the function accept location code too\n"
   ]
  },
  {
   "cell_type": "code",
   "execution_count": 51,
   "id": "e1f507e8",
   "metadata": {},
   "outputs": [],
   "source": [
    "# import requests\n",
    "# import json\n",
    "\n",
    "def inflation2(lag,varname='CUUR0000SA0'):\n",
    "    \n",
    "    # This function computes the percent change in the level of prices (inflation) for the \n",
    "    # 12 months starting '12+lag' months ago and ending 'lag' months ago.\n",
    "    \n",
    "    # lag - an integer indicating the lag in months\n",
    "    # varname - a string containing the variable name (CUUR0000SA0 is the default)\n",
    "    \n",
    "    # Step 0: Check inputs\n",
    "    if type(lag) != int:\n",
    "        return 'lag should be an integer'\n",
    "    if lag>12 or lag<0:\n",
    "        return 'lag should be an integer between 0 and 12, including.'\n",
    "    if type(varname) != str:\n",
    "        return 'variable name should be a string (or left out)'\n",
    "    \n",
    "    # Step 1: API call\n",
    "    base_url = 'https://api.bls.gov/publicAPI/v2/timeseries/data/'\n",
    "    url = base_url + varname\n",
    "    r = requests.get(url).json()\n",
    "    \n",
    "    # Step 2: Check whether the GET request was successful\n",
    "    if r['status'] != 'REQUEST_SUCCEEDED':\n",
    "        return r['message']\n",
    "  \n",
    "    \n",
    "    # Step 3: Compute inflation\n",
    "    new = float(r['Results']['series'][0]['data'][lag]['value'])\n",
    "    old = float(r['Results']['series'][0]['data'][12+lag]['value'])\n",
    "    \n",
    "    change = (new/old - 1)*100\n",
    "    print('Inflation in the period starting ', lag, 'months ago and ending', 12+lag, 'months ago was ',round(change,1),'%')\n",
    "    return change"
   ]
  },
  {
   "cell_type": "code",
   "execution_count": 52,
   "id": "54596603",
   "metadata": {},
   "outputs": [
    {
     "name": "stdout",
     "output_type": "stream",
     "text": [
      "Inflation in the period starting  0 months ago and ending 12 months ago was  7.5 %\n"
     ]
    },
    {
     "data": {
      "text/plain": [
       "7.5"
      ]
     },
     "execution_count": 52,
     "metadata": {},
     "output_type": "execute_result"
    }
   ],
   "source": [
    "round(inflation2(0),1)"
   ]
  },
  {
   "cell_type": "markdown",
   "id": "1700d833",
   "metadata": {},
   "source": [
    "To be continued..."
   ]
  },
  {
   "cell_type": "code",
   "execution_count": null,
   "id": "71681ef1",
   "metadata": {},
   "outputs": [],
   "source": []
  }
 ],
 "metadata": {
  "@webio": {
   "lastCommId": null,
   "lastKernelId": null
  },
  "kernelspec": {
   "display_name": "Python 3",
   "language": "python",
   "name": "python3"
  },
  "language_info": {
   "codemirror_mode": {
    "name": "ipython",
    "version": 3
   },
   "file_extension": ".py",
   "mimetype": "text/x-python",
   "name": "python",
   "nbconvert_exporter": "python",
   "pygments_lexer": "ipython3",
   "version": "3.8.8"
  }
 },
 "nbformat": 4,
 "nbformat_minor": 5
}
